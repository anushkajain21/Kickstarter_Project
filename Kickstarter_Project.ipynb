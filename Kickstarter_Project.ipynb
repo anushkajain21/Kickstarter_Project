{
 "cells": [
  {
   "cell_type": "markdown",
   "id": "fQ7RSuh1P5BL",
   "metadata": {
    "id": "fQ7RSuh1P5BL"
   },
   "source": [
    "\n",
    "# Obtaining and Understanding Data"
   ]
  },
  {
   "cell_type": "markdown",
   "id": "DFG49Epmn75E",
   "metadata": {
    "id": "DFG49Epmn75E"
   },
   "source": [
    "## Importing Libraries"
   ]
  },
  {
   "cell_type": "code",
   "execution_count": 124,
   "id": "rzmY5ma5m5mb",
   "metadata": {
    "colab": {
     "base_uri": "https://localhost:8080/"
    },
    "id": "rzmY5ma5m5mb",
    "outputId": "1a697cae-3eeb-45c5-de19-5999472f4d52"
   },
   "outputs": [
    {
     "name": "stdout",
     "output_type": "stream",
     "text": [
      "Requirement already satisfied: plotly==4.8.2 in /usr/local/lib/python3.7/dist-packages (4.8.2)\n",
      "Requirement already satisfied: six in /usr/local/lib/python3.7/dist-packages (from plotly==4.8.2) (1.15.0)\n",
      "Requirement already satisfied: retrying>=1.3.3 in /usr/local/lib/python3.7/dist-packages (from plotly==4.8.2) (1.3.3)\n"
     ]
    }
   ],
   "source": [
    "#Downloading the required version of plotly for graphs\n",
    "!pip install plotly==4.8.2"
   ]
  },
  {
   "cell_type": "code",
   "execution_count": 125,
   "id": "f41be582",
   "metadata": {
    "id": "f41be582"
   },
   "outputs": [],
   "source": [
    "#Importing the requied packages\n",
    "import pandas as pd\n",
    "import numpy as np\n",
    "import matplotlib.pyplot as plt\n",
    "import seaborn as sns\n",
    "import plotly.express as px\n",
    "from sklearn.preprocessing import LabelEncoder\n",
    "import time\n",
    "from pandas import Grouper\n",
    "from imblearn.over_sampling import SMOTE\n",
    "from sklearn.model_selection import train_test_split\n",
    "from sklearn.preprocessing import StandardScaler\n",
    "from sklearn.tree import DecisionTreeClassifier\n",
    "from sklearn.model_selection import GridSearchCV\n",
    "from sklearn.metrics import roc_auc_score\n",
    "from sklearn.metrics import mean_squared_error\n",
    "from sklearn.neighbors import KNeighborsClassifier\n",
    "from sklearn.linear_model import LogisticRegression\n",
    "from sklearn.naive_bayes import GaussianNB\n",
    "from sklearn.ensemble import AdaBoostClassifier\n",
    "from sklearn.ensemble import RandomForestClassifier\n",
    "from xgboost import XGBClassifier\n",
    "from sklearn.metrics import precision_score, recall_score, confusion_matrix, classification_report, accuracy_score, f1_score"
   ]
  },
  {
   "cell_type": "markdown",
   "id": "N8ypSQqUoAMk",
   "metadata": {
    "id": "N8ypSQqUoAMk"
   },
   "source": [
    "## Loading dataframe"
   ]
  },
  {
   "cell_type": "code",
   "execution_count": 126,
   "id": "22fb5e7a",
   "metadata": {
    "colab": {
     "base_uri": "https://localhost:8080/",
     "height": 1000
    },
    "id": "22fb5e7a",
    "outputId": "4be84bca-cf70-4824-f442-d10a99b4bfc3"
   },
   "outputs": [
    {
     "data": {
      "text/html": [
       "<div>\n",
       "<style scoped>\n",
       "    .dataframe tbody tr th:only-of-type {\n",
       "        vertical-align: middle;\n",
       "    }\n",
       "\n",
       "    .dataframe tbody tr th {\n",
       "        vertical-align: top;\n",
       "    }\n",
       "\n",
       "    .dataframe thead th {\n",
       "        text-align: right;\n",
       "    }\n",
       "</style>\n",
       "<table border=\"1\" class=\"dataframe\">\n",
       "  <thead>\n",
       "    <tr style=\"text-align: right;\">\n",
       "      <th></th>\n",
       "      <th>ID</th>\n",
       "      <th>name</th>\n",
       "      <th>category</th>\n",
       "      <th>main_category</th>\n",
       "      <th>currency</th>\n",
       "      <th>deadline</th>\n",
       "      <th>goal</th>\n",
       "      <th>launched</th>\n",
       "      <th>pledged</th>\n",
       "      <th>state</th>\n",
       "      <th>backers</th>\n",
       "      <th>country</th>\n",
       "      <th>usd pledged</th>\n",
       "      <th>usd_pledged_real</th>\n",
       "      <th>usd_goal_real</th>\n",
       "    </tr>\n",
       "  </thead>\n",
       "  <tbody>\n",
       "    <tr>\n",
       "      <th>212701</th>\n",
       "      <td>2084115444</td>\n",
       "      <td>Year 2150</td>\n",
       "      <td>Animation</td>\n",
       "      <td>Film &amp; Video</td>\n",
       "      <td>EUR</td>\n",
       "      <td>2017-04-10</td>\n",
       "      <td>7000.0</td>\n",
       "      <td>2017-02-09 15:03:32</td>\n",
       "      <td>117.0</td>\n",
       "      <td>failed</td>\n",
       "      <td>3</td>\n",
       "      <td>AT</td>\n",
       "      <td>0.00</td>\n",
       "      <td>124.37</td>\n",
       "      <td>7441.03</td>\n",
       "    </tr>\n",
       "    <tr>\n",
       "      <th>187038</th>\n",
       "      <td>1952194876</td>\n",
       "      <td>Gathering of Guardians: The Board Game</td>\n",
       "      <td>Tabletop Games</td>\n",
       "      <td>Games</td>\n",
       "      <td>USD</td>\n",
       "      <td>2015-06-22</td>\n",
       "      <td>10000.0</td>\n",
       "      <td>2015-05-15 03:12:03</td>\n",
       "      <td>2370.0</td>\n",
       "      <td>failed</td>\n",
       "      <td>44</td>\n",
       "      <td>US</td>\n",
       "      <td>2370.00</td>\n",
       "      <td>2370.00</td>\n",
       "      <td>10000.00</td>\n",
       "    </tr>\n",
       "    <tr>\n",
       "      <th>292407</th>\n",
       "      <td>55814260</td>\n",
       "      <td>The \"REBORN From Above\" Online Staged Film.</td>\n",
       "      <td>Romance</td>\n",
       "      <td>Film &amp; Video</td>\n",
       "      <td>USD</td>\n",
       "      <td>2017-09-19</td>\n",
       "      <td>4000.0</td>\n",
       "      <td>2017-07-21 19:03:29</td>\n",
       "      <td>51.0</td>\n",
       "      <td>failed</td>\n",
       "      <td>2</td>\n",
       "      <td>US</td>\n",
       "      <td>1.00</td>\n",
       "      <td>51.00</td>\n",
       "      <td>4000.00</td>\n",
       "    </tr>\n",
       "    <tr>\n",
       "      <th>20536</th>\n",
       "      <td>1104312739</td>\n",
       "      <td>Twin city craft and flea market</td>\n",
       "      <td>Crafts</td>\n",
       "      <td>Crafts</td>\n",
       "      <td>USD</td>\n",
       "      <td>2016-01-13</td>\n",
       "      <td>20000.0</td>\n",
       "      <td>2015-12-14 22:02:38</td>\n",
       "      <td>0.0</td>\n",
       "      <td>failed</td>\n",
       "      <td>0</td>\n",
       "      <td>US</td>\n",
       "      <td>0.00</td>\n",
       "      <td>0.00</td>\n",
       "      <td>20000.00</td>\n",
       "    </tr>\n",
       "    <tr>\n",
       "      <th>345219</th>\n",
       "      <td>828554065</td>\n",
       "      <td>Revelin Project's debut EP 'The Dream'</td>\n",
       "      <td>Rock</td>\n",
       "      <td>Music</td>\n",
       "      <td>USD</td>\n",
       "      <td>2014-05-11</td>\n",
       "      <td>2500.0</td>\n",
       "      <td>2014-04-11 18:00:20</td>\n",
       "      <td>2555.0</td>\n",
       "      <td>successful</td>\n",
       "      <td>44</td>\n",
       "      <td>US</td>\n",
       "      <td>2555.00</td>\n",
       "      <td>2555.00</td>\n",
       "      <td>2500.00</td>\n",
       "    </tr>\n",
       "    <tr>\n",
       "      <th>90727</th>\n",
       "      <td>1461097573</td>\n",
       "      <td>Baked on Browniesâ¢ (Canceled)</td>\n",
       "      <td>Apparel</td>\n",
       "      <td>Fashion</td>\n",
       "      <td>USD</td>\n",
       "      <td>2014-08-18</td>\n",
       "      <td>12420.0</td>\n",
       "      <td>2014-07-04 05:59:34</td>\n",
       "      <td>1.0</td>\n",
       "      <td>canceled</td>\n",
       "      <td>1</td>\n",
       "      <td>US</td>\n",
       "      <td>1.00</td>\n",
       "      <td>1.00</td>\n",
       "      <td>12420.00</td>\n",
       "    </tr>\n",
       "    <tr>\n",
       "      <th>8146</th>\n",
       "      <td>1041168295</td>\n",
       "      <td>Conjure Your World</td>\n",
       "      <td>Mobile Games</td>\n",
       "      <td>Games</td>\n",
       "      <td>USD</td>\n",
       "      <td>2016-12-27</td>\n",
       "      <td>40000.0</td>\n",
       "      <td>2016-11-12 06:16:50</td>\n",
       "      <td>0.0</td>\n",
       "      <td>failed</td>\n",
       "      <td>0</td>\n",
       "      <td>US</td>\n",
       "      <td>0.00</td>\n",
       "      <td>0.00</td>\n",
       "      <td>40000.00</td>\n",
       "    </tr>\n",
       "    <tr>\n",
       "      <th>16247</th>\n",
       "      <td>1082240373</td>\n",
       "      <td>Mit dem Fahrrad um die Welt</td>\n",
       "      <td>Nature</td>\n",
       "      <td>Photography</td>\n",
       "      <td>EUR</td>\n",
       "      <td>2015-08-18</td>\n",
       "      <td>75000.0</td>\n",
       "      <td>2015-06-19 08:12:24</td>\n",
       "      <td>59.0</td>\n",
       "      <td>failed</td>\n",
       "      <td>3</td>\n",
       "      <td>DE</td>\n",
       "      <td>67.01</td>\n",
       "      <td>66.56</td>\n",
       "      <td>84607.14</td>\n",
       "    </tr>\n",
       "    <tr>\n",
       "      <th>271934</th>\n",
       "      <td>453557085</td>\n",
       "      <td>Maydan â Tactical board game</td>\n",
       "      <td>Tabletop Games</td>\n",
       "      <td>Games</td>\n",
       "      <td>GBP</td>\n",
       "      <td>2014-12-11</td>\n",
       "      <td>16000.0</td>\n",
       "      <td>2014-11-11 01:26:08</td>\n",
       "      <td>665.0</td>\n",
       "      <td>failed</td>\n",
       "      <td>20</td>\n",
       "      <td>GB</td>\n",
       "      <td>1054.73</td>\n",
       "      <td>1044.69</td>\n",
       "      <td>25135.50</td>\n",
       "    </tr>\n",
       "    <tr>\n",
       "      <th>139769</th>\n",
       "      <td>1709862378</td>\n",
       "      <td>Gobby - The card game that's a GOB full of FUN!</td>\n",
       "      <td>Tabletop Games</td>\n",
       "      <td>Games</td>\n",
       "      <td>AUD</td>\n",
       "      <td>2016-08-14</td>\n",
       "      <td>10000.0</td>\n",
       "      <td>2016-07-09 23:57:12</td>\n",
       "      <td>10000.0</td>\n",
       "      <td>successful</td>\n",
       "      <td>218</td>\n",
       "      <td>AU</td>\n",
       "      <td>2126.33</td>\n",
       "      <td>7613.25</td>\n",
       "      <td>7613.25</td>\n",
       "    </tr>\n",
       "    <tr>\n",
       "      <th>243166</th>\n",
       "      <td>306660155</td>\n",
       "      <td>Little Miss SKellyton Laser Cutter project !</td>\n",
       "      <td>Crafts</td>\n",
       "      <td>Crafts</td>\n",
       "      <td>USD</td>\n",
       "      <td>2016-03-15</td>\n",
       "      <td>2000.0</td>\n",
       "      <td>2016-01-15 19:34:41</td>\n",
       "      <td>6.0</td>\n",
       "      <td>failed</td>\n",
       "      <td>2</td>\n",
       "      <td>US</td>\n",
       "      <td>6.00</td>\n",
       "      <td>6.00</td>\n",
       "      <td>2000.00</td>\n",
       "    </tr>\n",
       "    <tr>\n",
       "      <th>346549</th>\n",
       "      <td>835317888</td>\n",
       "      <td>Upgrade my skills at Photoacademy Amsterdam</td>\n",
       "      <td>Fine Art</td>\n",
       "      <td>Photography</td>\n",
       "      <td>EUR</td>\n",
       "      <td>2014-08-24</td>\n",
       "      <td>11000.0</td>\n",
       "      <td>2014-07-28 19:50:41</td>\n",
       "      <td>80.0</td>\n",
       "      <td>failed</td>\n",
       "      <td>3</td>\n",
       "      <td>NL</td>\n",
       "      <td>107.44</td>\n",
       "      <td>105.50</td>\n",
       "      <td>14506.71</td>\n",
       "    </tr>\n",
       "    <tr>\n",
       "      <th>44070</th>\n",
       "      <td>1224061768</td>\n",
       "      <td>Exposed - Graphic Novel</td>\n",
       "      <td>Comics</td>\n",
       "      <td>Comics</td>\n",
       "      <td>GBP</td>\n",
       "      <td>2013-05-03</td>\n",
       "      <td>7000.0</td>\n",
       "      <td>2013-04-03 18:16:32</td>\n",
       "      <td>205.0</td>\n",
       "      <td>failed</td>\n",
       "      <td>6</td>\n",
       "      <td>GB</td>\n",
       "      <td>312.39</td>\n",
       "      <td>318.87</td>\n",
       "      <td>10888.16</td>\n",
       "    </tr>\n",
       "    <tr>\n",
       "      <th>116222</th>\n",
       "      <td>1590294951</td>\n",
       "      <td>Urban Soul Radio Studio Expansion Project</td>\n",
       "      <td>R&amp;B</td>\n",
       "      <td>Music</td>\n",
       "      <td>USD</td>\n",
       "      <td>2017-08-02</td>\n",
       "      <td>5000.0</td>\n",
       "      <td>2017-07-28 05:52:32</td>\n",
       "      <td>20.0</td>\n",
       "      <td>failed</td>\n",
       "      <td>2</td>\n",
       "      <td>US</td>\n",
       "      <td>0.00</td>\n",
       "      <td>20.00</td>\n",
       "      <td>5000.00</td>\n",
       "    </tr>\n",
       "    <tr>\n",
       "      <th>261280</th>\n",
       "      <td>39899080</td>\n",
       "      <td>Coming Untied: A documentary</td>\n",
       "      <td>Documentary</td>\n",
       "      <td>Film &amp; Video</td>\n",
       "      <td>USD</td>\n",
       "      <td>2012-06-06</td>\n",
       "      <td>5000.0</td>\n",
       "      <td>2012-04-07 17:38:18</td>\n",
       "      <td>100.0</td>\n",
       "      <td>failed</td>\n",
       "      <td>2</td>\n",
       "      <td>US</td>\n",
       "      <td>100.00</td>\n",
       "      <td>100.00</td>\n",
       "      <td>5000.00</td>\n",
       "    </tr>\n",
       "  </tbody>\n",
       "</table>\n",
       "</div>"
      ],
      "text/plain": [
       "                ID  ... usd_goal_real\n",
       "212701  2084115444  ...       7441.03\n",
       "187038  1952194876  ...      10000.00\n",
       "292407    55814260  ...       4000.00\n",
       "20536   1104312739  ...      20000.00\n",
       "345219   828554065  ...       2500.00\n",
       "90727   1461097573  ...      12420.00\n",
       "8146    1041168295  ...      40000.00\n",
       "16247   1082240373  ...      84607.14\n",
       "271934   453557085  ...      25135.50\n",
       "139769  1709862378  ...       7613.25\n",
       "243166   306660155  ...       2000.00\n",
       "346549   835317888  ...      14506.71\n",
       "44070   1224061768  ...      10888.16\n",
       "116222  1590294951  ...       5000.00\n",
       "261280    39899080  ...       5000.00\n",
       "\n",
       "[15 rows x 15 columns]"
      ]
     },
     "execution_count": 126,
     "metadata": {},
     "output_type": "execute_result"
    }
   ],
   "source": [
    "#Reading the data file\n",
    "ks18 = pd.read_csv('ks-projects-201801.csv', encoding=\"ISO-8859-1\", low_memory=False)\n",
    "ks18.sample(15)"
   ]
  },
  {
   "cell_type": "markdown",
   "id": "cSsR1c6ibRY1",
   "metadata": {
    "id": "cSsR1c6ibRY1"
   },
   "source": [
    "## Basic Information of Data"
   ]
  },
  {
   "cell_type": "code",
   "execution_count": 127,
   "id": "ac06b043",
   "metadata": {
    "colab": {
     "base_uri": "https://localhost:8080/"
    },
    "id": "ac06b043",
    "outputId": "5bc484a3-6b71-4dc1-9a24-4d247470cd98"
   },
   "outputs": [
    {
     "data": {
      "text/plain": [
       "(378661, 15)"
      ]
     },
     "execution_count": 127,
     "metadata": {},
     "output_type": "execute_result"
    }
   ],
   "source": [
    "#Checking original shape of the dataframe \n",
    "ks18.shape"
   ]
  },
  {
   "cell_type": "code",
   "execution_count": 128,
   "id": "fOVfpgCzTaMH",
   "metadata": {
    "colab": {
     "base_uri": "https://localhost:8080/"
    },
    "id": "fOVfpgCzTaMH",
    "outputId": "ef7757e3-4c01-4a78-9f2a-1f47faf31a58"
   },
   "outputs": [
    {
     "data": {
      "text/plain": [
       "Index(['ID', 'name', 'category', 'main_category', 'currency', 'deadline',\n",
       "       'goal', 'launched', 'pledged', 'state', 'backers', 'country',\n",
       "       'usd pledged', 'usd_pledged_real', 'usd_goal_real'],\n",
       "      dtype='object')"
      ]
     },
     "execution_count": 128,
     "metadata": {},
     "output_type": "execute_result"
    }
   ],
   "source": [
    "#Checking Columns of the dataframe\n",
    "ks18.columns"
   ]
  },
  {
   "cell_type": "code",
   "execution_count": 129,
   "id": "pZMzYjv5bYDr",
   "metadata": {
    "colab": {
     "base_uri": "https://localhost:8080/"
    },
    "id": "pZMzYjv5bYDr",
    "outputId": "cafa6529-a8d5-4515-f178-3c610ae475dc"
   },
   "outputs": [
    {
     "name": "stdout",
     "output_type": "stream",
     "text": [
      "<class 'pandas.core.frame.DataFrame'>\n",
      "RangeIndex: 378661 entries, 0 to 378660\n",
      "Data columns (total 15 columns):\n",
      " #   Column            Non-Null Count   Dtype  \n",
      "---  ------            --------------   -----  \n",
      " 0   ID                378661 non-null  int64  \n",
      " 1   name              378657 non-null  object \n",
      " 2   category          378661 non-null  object \n",
      " 3   main_category     378661 non-null  object \n",
      " 4   currency          378661 non-null  object \n",
      " 5   deadline          378661 non-null  object \n",
      " 6   goal              378661 non-null  float64\n",
      " 7   launched          378661 non-null  object \n",
      " 8   pledged           378661 non-null  float64\n",
      " 9   state             378661 non-null  object \n",
      " 10  backers           378661 non-null  int64  \n",
      " 11  country           378661 non-null  object \n",
      " 12  usd pledged       374864 non-null  float64\n",
      " 13  usd_pledged_real  378661 non-null  float64\n",
      " 14  usd_goal_real     378661 non-null  float64\n",
      "dtypes: float64(5), int64(2), object(8)\n",
      "memory usage: 43.3+ MB\n"
     ]
    }
   ],
   "source": [
    "#Displaying information of the dataset\n",
    "ks18.info()"
   ]
  },
  {
   "cell_type": "markdown",
   "id": "RNNOnjZdo8EH",
   "metadata": {
    "id": "RNNOnjZdo8EH"
   },
   "source": [
    "# Data Visualisation"
   ]
  },
  {
   "cell_type": "code",
   "execution_count": 130,
   "id": "sNKkqKM6l2pB",
   "metadata": {
    "colab": {
     "base_uri": "https://localhost:8080/",
     "height": 504
    },
    "id": "sNKkqKM6l2pB",
    "outputId": "bb7852ad-2fc0-4bb3-89c6-75b277daa5b8"
   },
   "outputs": [
    {
     "data": {
      "text/html": [
       "<div>\n",
       "<style scoped>\n",
       "    .dataframe tbody tr th:only-of-type {\n",
       "        vertical-align: middle;\n",
       "    }\n",
       "\n",
       "    .dataframe tbody tr th {\n",
       "        vertical-align: top;\n",
       "    }\n",
       "\n",
       "    .dataframe thead th {\n",
       "        text-align: right;\n",
       "    }\n",
       "</style>\n",
       "<table border=\"1\" class=\"dataframe\">\n",
       "  <thead>\n",
       "    <tr style=\"text-align: right;\">\n",
       "      <th></th>\n",
       "      <th>ID</th>\n",
       "      <th>name</th>\n",
       "      <th>category</th>\n",
       "      <th>main_category</th>\n",
       "      <th>currency</th>\n",
       "      <th>deadline</th>\n",
       "      <th>goal</th>\n",
       "      <th>launched</th>\n",
       "      <th>pledged</th>\n",
       "      <th>state</th>\n",
       "      <th>backers</th>\n",
       "      <th>country</th>\n",
       "      <th>usd pledged</th>\n",
       "      <th>usd_pledged_real</th>\n",
       "      <th>usd_goal_real</th>\n",
       "    </tr>\n",
       "  </thead>\n",
       "  <tbody>\n",
       "    <tr>\n",
       "      <th>219899</th>\n",
       "      <td>2120053310</td>\n",
       "      <td>StarLife - A 4x Turn-Based Space Strategy Indi...</td>\n",
       "      <td>Video Games</td>\n",
       "      <td>Games</td>\n",
       "      <td>USD</td>\n",
       "      <td>2011-08-26</td>\n",
       "      <td>2000.0</td>\n",
       "      <td>2011-07-27 01:15:51</td>\n",
       "      <td>527.0</td>\n",
       "      <td>failed</td>\n",
       "      <td>23</td>\n",
       "      <td>US</td>\n",
       "      <td>527.00</td>\n",
       "      <td>527.00</td>\n",
       "      <td>2000.00</td>\n",
       "    </tr>\n",
       "    <tr>\n",
       "      <th>275148</th>\n",
       "      <td>470004813</td>\n",
       "      <td>HELL - A Sex Shop Comedy</td>\n",
       "      <td>Comedy</td>\n",
       "      <td>Film &amp; Video</td>\n",
       "      <td>GBP</td>\n",
       "      <td>2015-09-21</td>\n",
       "      <td>7800.0</td>\n",
       "      <td>2015-08-23 19:19:56</td>\n",
       "      <td>8049.0</td>\n",
       "      <td>successful</td>\n",
       "      <td>107</td>\n",
       "      <td>GB</td>\n",
       "      <td>12632.08</td>\n",
       "      <td>12215.63</td>\n",
       "      <td>11837.73</td>\n",
       "    </tr>\n",
       "    <tr>\n",
       "      <th>377615</th>\n",
       "      <td>994778294</td>\n",
       "      <td>Guazapa Chocolate</td>\n",
       "      <td>Farms</td>\n",
       "      <td>Food</td>\n",
       "      <td>USD</td>\n",
       "      <td>2015-03-06</td>\n",
       "      <td>3000.0</td>\n",
       "      <td>2015-02-04 23:18:25</td>\n",
       "      <td>220.0</td>\n",
       "      <td>failed</td>\n",
       "      <td>6</td>\n",
       "      <td>US</td>\n",
       "      <td>220.00</td>\n",
       "      <td>220.00</td>\n",
       "      <td>3000.00</td>\n",
       "    </tr>\n",
       "    <tr>\n",
       "      <th>326758</th>\n",
       "      <td>734306238</td>\n",
       "      <td>ReminiSens Restaurant &amp; Theatre in Versailles</td>\n",
       "      <td>Plays</td>\n",
       "      <td>Theater</td>\n",
       "      <td>EUR</td>\n",
       "      <td>2017-04-07</td>\n",
       "      <td>10000.0</td>\n",
       "      <td>2017-03-08 18:15:03</td>\n",
       "      <td>127.0</td>\n",
       "      <td>failed</td>\n",
       "      <td>6</td>\n",
       "      <td>FR</td>\n",
       "      <td>91.00</td>\n",
       "      <td>135.00</td>\n",
       "      <td>10630.04</td>\n",
       "    </tr>\n",
       "    <tr>\n",
       "      <th>135023</th>\n",
       "      <td>1685383859</td>\n",
       "      <td>Memoirs of a Dilettante, Volume One</td>\n",
       "      <td>Fiction</td>\n",
       "      <td>Publishing</td>\n",
       "      <td>CAD</td>\n",
       "      <td>2014-03-22</td>\n",
       "      <td>1000.0</td>\n",
       "      <td>2014-02-20 21:00:57</td>\n",
       "      <td>1354.0</td>\n",
       "      <td>successful</td>\n",
       "      <td>50</td>\n",
       "      <td>CA</td>\n",
       "      <td>1236.70</td>\n",
       "      <td>1226.67</td>\n",
       "      <td>905.96</td>\n",
       "    </tr>\n",
       "  </tbody>\n",
       "</table>\n",
       "</div>"
      ],
      "text/plain": [
       "                ID  ... usd_goal_real\n",
       "219899  2120053310  ...       2000.00\n",
       "275148   470004813  ...      11837.73\n",
       "377615   994778294  ...       3000.00\n",
       "326758   734306238  ...      10630.04\n",
       "135023  1685383859  ...        905.96\n",
       "\n",
       "[5 rows x 15 columns]"
      ]
     },
     "execution_count": 130,
     "metadata": {},
     "output_type": "execute_result"
    }
   ],
   "source": [
    "#Creating a df for generating graph\n",
    "df_state = ks18[ks18['state'].isin(['failed', 'successful'])]\n",
    "df_state.sample(5)"
   ]
  },
  {
   "cell_type": "code",
   "execution_count": 131,
   "id": "3E7FaEgCCJKT",
   "metadata": {
    "colab": {
     "base_uri": "https://localhost:8080/",
     "height": 764
    },
    "id": "3E7FaEgCCJKT",
    "outputId": "048c029e-e1da-41ac-f848-afb5c9cb750a"
   },
   "outputs": [
    {
     "name": "stderr",
     "output_type": "stream",
     "text": [
      "/usr/local/lib/python3.7/dist-packages/ipykernel_launcher.py:2: SettingWithCopyWarning:\n",
      "\n",
      "\n",
      "A value is trying to be set on a copy of a slice from a DataFrame.\n",
      "Try using .loc[row_indexer,col_indexer] = value instead\n",
      "\n",
      "See the caveats in the documentation: https://pandas.pydata.org/pandas-docs/stable/user_guide/indexing.html#returning-a-view-versus-a-copy\n",
      "\n",
      "/usr/local/lib/python3.7/dist-packages/ipykernel_launcher.py:3: SettingWithCopyWarning:\n",
      "\n",
      "\n",
      "A value is trying to be set on a copy of a slice from a DataFrame.\n",
      "Try using .loc[row_indexer,col_indexer] = value instead\n",
      "\n",
      "See the caveats in the documentation: https://pandas.pydata.org/pandas-docs/stable/user_guide/indexing.html#returning-a-view-versus-a-copy\n",
      "\n"
     ]
    },
    {
     "data": {
      "text/html": [
       "<div>\n",
       "<style scoped>\n",
       "    .dataframe tbody tr th:only-of-type {\n",
       "        vertical-align: middle;\n",
       "    }\n",
       "\n",
       "    .dataframe tbody tr th {\n",
       "        vertical-align: top;\n",
       "    }\n",
       "\n",
       "    .dataframe thead th {\n",
       "        text-align: right;\n",
       "    }\n",
       "</style>\n",
       "<table border=\"1\" class=\"dataframe\">\n",
       "  <thead>\n",
       "    <tr style=\"text-align: right;\">\n",
       "      <th></th>\n",
       "      <th>ID</th>\n",
       "      <th>name</th>\n",
       "      <th>category</th>\n",
       "      <th>main_category</th>\n",
       "      <th>currency</th>\n",
       "      <th>deadline</th>\n",
       "      <th>goal</th>\n",
       "      <th>launched</th>\n",
       "      <th>pledged</th>\n",
       "      <th>state</th>\n",
       "      <th>backers</th>\n",
       "      <th>country</th>\n",
       "      <th>usd pledged</th>\n",
       "      <th>usd_pledged_real</th>\n",
       "      <th>usd_goal_real</th>\n",
       "      <th>deadline_year</th>\n",
       "      <th>launched_year</th>\n",
       "    </tr>\n",
       "  </thead>\n",
       "  <tbody>\n",
       "    <tr>\n",
       "      <th>0</th>\n",
       "      <td>1000002330</td>\n",
       "      <td>The Songs of Adelaide &amp; Abullah</td>\n",
       "      <td>Poetry</td>\n",
       "      <td>Publishing</td>\n",
       "      <td>GBP</td>\n",
       "      <td>2015-10-09</td>\n",
       "      <td>1000.0</td>\n",
       "      <td>2015-08-11 12:12:28</td>\n",
       "      <td>0.0</td>\n",
       "      <td>failed</td>\n",
       "      <td>0</td>\n",
       "      <td>GB</td>\n",
       "      <td>0.0</td>\n",
       "      <td>0.0</td>\n",
       "      <td>1533.95</td>\n",
       "      <td>2015</td>\n",
       "      <td>2015</td>\n",
       "    </tr>\n",
       "    <tr>\n",
       "      <th>1</th>\n",
       "      <td>1000003930</td>\n",
       "      <td>Greeting From Earth: ZGAC Arts Capsule For ET</td>\n",
       "      <td>Narrative Film</td>\n",
       "      <td>Film &amp; Video</td>\n",
       "      <td>USD</td>\n",
       "      <td>2017-11-01</td>\n",
       "      <td>30000.0</td>\n",
       "      <td>2017-09-02 04:43:57</td>\n",
       "      <td>2421.0</td>\n",
       "      <td>failed</td>\n",
       "      <td>15</td>\n",
       "      <td>US</td>\n",
       "      <td>100.0</td>\n",
       "      <td>2421.0</td>\n",
       "      <td>30000.00</td>\n",
       "      <td>2017</td>\n",
       "      <td>2017</td>\n",
       "    </tr>\n",
       "    <tr>\n",
       "      <th>2</th>\n",
       "      <td>1000004038</td>\n",
       "      <td>Where is Hank?</td>\n",
       "      <td>Narrative Film</td>\n",
       "      <td>Film &amp; Video</td>\n",
       "      <td>USD</td>\n",
       "      <td>2013-02-26</td>\n",
       "      <td>45000.0</td>\n",
       "      <td>2013-01-12 00:20:50</td>\n",
       "      <td>220.0</td>\n",
       "      <td>failed</td>\n",
       "      <td>3</td>\n",
       "      <td>US</td>\n",
       "      <td>220.0</td>\n",
       "      <td>220.0</td>\n",
       "      <td>45000.00</td>\n",
       "      <td>2013</td>\n",
       "      <td>2013</td>\n",
       "    </tr>\n",
       "    <tr>\n",
       "      <th>3</th>\n",
       "      <td>1000007540</td>\n",
       "      <td>ToshiCapital Rekordz Needs Help to Complete Album</td>\n",
       "      <td>Music</td>\n",
       "      <td>Music</td>\n",
       "      <td>USD</td>\n",
       "      <td>2012-04-16</td>\n",
       "      <td>5000.0</td>\n",
       "      <td>2012-03-17 03:24:11</td>\n",
       "      <td>1.0</td>\n",
       "      <td>failed</td>\n",
       "      <td>1</td>\n",
       "      <td>US</td>\n",
       "      <td>1.0</td>\n",
       "      <td>1.0</td>\n",
       "      <td>5000.00</td>\n",
       "      <td>2012</td>\n",
       "      <td>2012</td>\n",
       "    </tr>\n",
       "    <tr>\n",
       "      <th>5</th>\n",
       "      <td>1000014025</td>\n",
       "      <td>Monarch Espresso Bar</td>\n",
       "      <td>Restaurants</td>\n",
       "      <td>Food</td>\n",
       "      <td>USD</td>\n",
       "      <td>2016-04-01</td>\n",
       "      <td>50000.0</td>\n",
       "      <td>2016-02-26 13:38:27</td>\n",
       "      <td>52375.0</td>\n",
       "      <td>successful</td>\n",
       "      <td>224</td>\n",
       "      <td>US</td>\n",
       "      <td>52375.0</td>\n",
       "      <td>52375.0</td>\n",
       "      <td>50000.00</td>\n",
       "      <td>2016</td>\n",
       "      <td>2016</td>\n",
       "    </tr>\n",
       "  </tbody>\n",
       "</table>\n",
       "</div>"
      ],
      "text/plain": [
       "           ID  ... launched_year\n",
       "0  1000002330  ...          2015\n",
       "1  1000003930  ...          2017\n",
       "2  1000004038  ...          2013\n",
       "3  1000007540  ...          2012\n",
       "5  1000014025  ...          2016\n",
       "\n",
       "[5 rows x 17 columns]"
      ]
     },
     "execution_count": 131,
     "metadata": {},
     "output_type": "execute_result"
    }
   ],
   "source": [
    "#Extracting the year of the deadline and launched column\n",
    "df_state['deadline_year'] = pd.DatetimeIndex(df_state['deadline']).year\n",
    "df_state['launched_year'] = pd.DatetimeIndex(df_state['launched']).year\n",
    "df_state.head()"
   ]
  },
  {
   "cell_type": "code",
   "execution_count": 132,
   "id": "x975TaYSC2OA",
   "metadata": {
    "colab": {
     "base_uri": "https://localhost:8080/",
     "height": 903
    },
    "id": "x975TaYSC2OA",
    "outputId": "bb247e63-1a7f-4e0d-880e-1d1b48c9dbc4"
   },
   "outputs": [
    {
     "name": "stderr",
     "output_type": "stream",
     "text": [
      "/usr/local/lib/python3.7/dist-packages/ipykernel_launcher.py:2: SettingWithCopyWarning:\n",
      "\n",
      "\n",
      "A value is trying to be set on a copy of a slice from a DataFrame.\n",
      "Try using .loc[row_indexer,col_indexer] = value instead\n",
      "\n",
      "See the caveats in the documentation: https://pandas.pydata.org/pandas-docs/stable/user_guide/indexing.html#returning-a-view-versus-a-copy\n",
      "\n",
      "/usr/local/lib/python3.7/dist-packages/ipykernel_launcher.py:3: SettingWithCopyWarning:\n",
      "\n",
      "\n",
      "A value is trying to be set on a copy of a slice from a DataFrame.\n",
      "Try using .loc[row_indexer,col_indexer] = value instead\n",
      "\n",
      "See the caveats in the documentation: https://pandas.pydata.org/pandas-docs/stable/user_guide/indexing.html#returning-a-view-versus-a-copy\n",
      "\n",
      "/usr/local/lib/python3.7/dist-packages/ipykernel_launcher.py:6: SettingWithCopyWarning:\n",
      "\n",
      "\n",
      "A value is trying to be set on a copy of a slice from a DataFrame.\n",
      "Try using .loc[row_indexer,col_indexer] = value instead\n",
      "\n",
      "See the caveats in the documentation: https://pandas.pydata.org/pandas-docs/stable/user_guide/indexing.html#returning-a-view-versus-a-copy\n",
      "\n"
     ]
    },
    {
     "data": {
      "text/html": [
       "<div>\n",
       "<style scoped>\n",
       "    .dataframe tbody tr th:only-of-type {\n",
       "        vertical-align: middle;\n",
       "    }\n",
       "\n",
       "    .dataframe tbody tr th {\n",
       "        vertical-align: top;\n",
       "    }\n",
       "\n",
       "    .dataframe thead th {\n",
       "        text-align: right;\n",
       "    }\n",
       "</style>\n",
       "<table border=\"1\" class=\"dataframe\">\n",
       "  <thead>\n",
       "    <tr style=\"text-align: right;\">\n",
       "      <th></th>\n",
       "      <th>ID</th>\n",
       "      <th>name</th>\n",
       "      <th>category</th>\n",
       "      <th>main_category</th>\n",
       "      <th>currency</th>\n",
       "      <th>deadline</th>\n",
       "      <th>goal</th>\n",
       "      <th>launched</th>\n",
       "      <th>pledged</th>\n",
       "      <th>state</th>\n",
       "      <th>backers</th>\n",
       "      <th>country</th>\n",
       "      <th>usd pledged</th>\n",
       "      <th>usd_pledged_real</th>\n",
       "      <th>usd_goal_real</th>\n",
       "      <th>deadline_year</th>\n",
       "      <th>launched_year</th>\n",
       "      <th>launch_to_deadline</th>\n",
       "    </tr>\n",
       "  </thead>\n",
       "  <tbody>\n",
       "    <tr>\n",
       "      <th>0</th>\n",
       "      <td>1000002330</td>\n",
       "      <td>The Songs of Adelaide &amp; Abullah</td>\n",
       "      <td>Poetry</td>\n",
       "      <td>Publishing</td>\n",
       "      <td>GBP</td>\n",
       "      <td>2015-10-09</td>\n",
       "      <td>1000.0</td>\n",
       "      <td>2015-08-11 12:12:28</td>\n",
       "      <td>0.0</td>\n",
       "      <td>failed</td>\n",
       "      <td>0</td>\n",
       "      <td>GB</td>\n",
       "      <td>0.0</td>\n",
       "      <td>0.0</td>\n",
       "      <td>1533.95</td>\n",
       "      <td>2015</td>\n",
       "      <td>2015</td>\n",
       "      <td>58 days 11:47:32</td>\n",
       "    </tr>\n",
       "    <tr>\n",
       "      <th>1</th>\n",
       "      <td>1000003930</td>\n",
       "      <td>Greeting From Earth: ZGAC Arts Capsule For ET</td>\n",
       "      <td>Narrative Film</td>\n",
       "      <td>Film &amp; Video</td>\n",
       "      <td>USD</td>\n",
       "      <td>2017-11-01</td>\n",
       "      <td>30000.0</td>\n",
       "      <td>2017-09-02 04:43:57</td>\n",
       "      <td>2421.0</td>\n",
       "      <td>failed</td>\n",
       "      <td>15</td>\n",
       "      <td>US</td>\n",
       "      <td>100.0</td>\n",
       "      <td>2421.0</td>\n",
       "      <td>30000.00</td>\n",
       "      <td>2017</td>\n",
       "      <td>2017</td>\n",
       "      <td>59 days 19:16:03</td>\n",
       "    </tr>\n",
       "    <tr>\n",
       "      <th>2</th>\n",
       "      <td>1000004038</td>\n",
       "      <td>Where is Hank?</td>\n",
       "      <td>Narrative Film</td>\n",
       "      <td>Film &amp; Video</td>\n",
       "      <td>USD</td>\n",
       "      <td>2013-02-26</td>\n",
       "      <td>45000.0</td>\n",
       "      <td>2013-01-12 00:20:50</td>\n",
       "      <td>220.0</td>\n",
       "      <td>failed</td>\n",
       "      <td>3</td>\n",
       "      <td>US</td>\n",
       "      <td>220.0</td>\n",
       "      <td>220.0</td>\n",
       "      <td>45000.00</td>\n",
       "      <td>2013</td>\n",
       "      <td>2013</td>\n",
       "      <td>44 days 23:39:10</td>\n",
       "    </tr>\n",
       "    <tr>\n",
       "      <th>3</th>\n",
       "      <td>1000007540</td>\n",
       "      <td>ToshiCapital Rekordz Needs Help to Complete Album</td>\n",
       "      <td>Music</td>\n",
       "      <td>Music</td>\n",
       "      <td>USD</td>\n",
       "      <td>2012-04-16</td>\n",
       "      <td>5000.0</td>\n",
       "      <td>2012-03-17 03:24:11</td>\n",
       "      <td>1.0</td>\n",
       "      <td>failed</td>\n",
       "      <td>1</td>\n",
       "      <td>US</td>\n",
       "      <td>1.0</td>\n",
       "      <td>1.0</td>\n",
       "      <td>5000.00</td>\n",
       "      <td>2012</td>\n",
       "      <td>2012</td>\n",
       "      <td>29 days 20:35:49</td>\n",
       "    </tr>\n",
       "    <tr>\n",
       "      <th>5</th>\n",
       "      <td>1000014025</td>\n",
       "      <td>Monarch Espresso Bar</td>\n",
       "      <td>Restaurants</td>\n",
       "      <td>Food</td>\n",
       "      <td>USD</td>\n",
       "      <td>2016-04-01</td>\n",
       "      <td>50000.0</td>\n",
       "      <td>2016-02-26 13:38:27</td>\n",
       "      <td>52375.0</td>\n",
       "      <td>successful</td>\n",
       "      <td>224</td>\n",
       "      <td>US</td>\n",
       "      <td>52375.0</td>\n",
       "      <td>52375.0</td>\n",
       "      <td>50000.00</td>\n",
       "      <td>2016</td>\n",
       "      <td>2016</td>\n",
       "      <td>34 days 10:21:33</td>\n",
       "    </tr>\n",
       "  </tbody>\n",
       "</table>\n",
       "</div>"
      ],
      "text/plain": [
       "           ID  ... launch_to_deadline\n",
       "0  1000002330  ...   58 days 11:47:32\n",
       "1  1000003930  ...   59 days 19:16:03\n",
       "2  1000004038  ...   44 days 23:39:10\n",
       "3  1000007540  ...   29 days 20:35:49\n",
       "5  1000014025  ...   34 days 10:21:33\n",
       "\n",
       "[5 rows x 18 columns]"
      ]
     },
     "execution_count": 132,
     "metadata": {},
     "output_type": "execute_result"
    }
   ],
   "source": [
    "#Converting the datatype of deadline and launched column\n",
    "df_state['deadline'] = pd.to_datetime(df_state['deadline'])\n",
    "df_state['launched'] = pd.to_datetime(df_state['launched'])\n",
    "\n",
    "#Generating the difference of deadline and launched\n",
    "df_state['launch_to_deadline'] =  df_state['deadline'] - df_state['launched'] \n",
    "df_state.head()"
   ]
  },
  {
   "cell_type": "code",
   "execution_count": 133,
   "id": "1KdoXdZMCKen",
   "metadata": {
    "id": "1KdoXdZMCKen"
   },
   "outputs": [],
   "source": [
    "#Writing the dataframe into csv\n",
    "df_state.to_csv('df_state_days.csv')"
   ]
  },
  {
   "cell_type": "code",
   "execution_count": 134,
   "id": "v1I8Vb3TDQiC",
   "metadata": {
    "colab": {
     "base_uri": "https://localhost:8080/",
     "height": 487
    },
    "id": "v1I8Vb3TDQiC",
    "outputId": "418f7bf6-cfcd-404b-d7b2-024377a9f0a5"
   },
   "outputs": [
    {
     "data": {
      "text/html": [
       "<div>\n",
       "<style scoped>\n",
       "    .dataframe tbody tr th:only-of-type {\n",
       "        vertical-align: middle;\n",
       "    }\n",
       "\n",
       "    .dataframe tbody tr th {\n",
       "        vertical-align: top;\n",
       "    }\n",
       "\n",
       "    .dataframe thead th {\n",
       "        text-align: right;\n",
       "    }\n",
       "</style>\n",
       "<table border=\"1\" class=\"dataframe\">\n",
       "  <thead>\n",
       "    <tr style=\"text-align: right;\">\n",
       "      <th></th>\n",
       "      <th>Unnamed: 0</th>\n",
       "      <th>ID</th>\n",
       "      <th>name</th>\n",
       "      <th>category</th>\n",
       "      <th>main_category</th>\n",
       "      <th>currency</th>\n",
       "      <th>deadline</th>\n",
       "      <th>goal</th>\n",
       "      <th>launched</th>\n",
       "      <th>pledged</th>\n",
       "      <th>state</th>\n",
       "      <th>backers</th>\n",
       "      <th>country</th>\n",
       "      <th>usd pledged</th>\n",
       "      <th>usd_pledged_real</th>\n",
       "      <th>usd_goal_real</th>\n",
       "      <th>deadline_year</th>\n",
       "      <th>launched_year</th>\n",
       "      <th>launch_to_deadline_days</th>\n",
       "    </tr>\n",
       "  </thead>\n",
       "  <tbody>\n",
       "    <tr>\n",
       "      <th>0</th>\n",
       "      <td>0</td>\n",
       "      <td>1000002330</td>\n",
       "      <td>The Songs of Adelaide &amp; Abullah</td>\n",
       "      <td>Poetry</td>\n",
       "      <td>Publishing</td>\n",
       "      <td>GBP</td>\n",
       "      <td>2015-10-09</td>\n",
       "      <td>1000.0</td>\n",
       "      <td>2015-08-11 12:12:28</td>\n",
       "      <td>0.0</td>\n",
       "      <td>failed</td>\n",
       "      <td>0</td>\n",
       "      <td>GB</td>\n",
       "      <td>0.0</td>\n",
       "      <td>0.0</td>\n",
       "      <td>1533.95</td>\n",
       "      <td>2015</td>\n",
       "      <td>2015</td>\n",
       "      <td>58</td>\n",
       "    </tr>\n",
       "    <tr>\n",
       "      <th>1</th>\n",
       "      <td>1</td>\n",
       "      <td>1000003930</td>\n",
       "      <td>Greeting From Earth: ZGAC Arts Capsule For ET</td>\n",
       "      <td>Narrative Film</td>\n",
       "      <td>Film &amp; Video</td>\n",
       "      <td>USD</td>\n",
       "      <td>2017-11-01</td>\n",
       "      <td>30000.0</td>\n",
       "      <td>2017-09-02 04:43:57</td>\n",
       "      <td>2421.0</td>\n",
       "      <td>failed</td>\n",
       "      <td>15</td>\n",
       "      <td>US</td>\n",
       "      <td>100.0</td>\n",
       "      <td>2421.0</td>\n",
       "      <td>30000.00</td>\n",
       "      <td>2017</td>\n",
       "      <td>2017</td>\n",
       "      <td>59</td>\n",
       "    </tr>\n",
       "    <tr>\n",
       "      <th>2</th>\n",
       "      <td>2</td>\n",
       "      <td>1000004038</td>\n",
       "      <td>Where is Hank?</td>\n",
       "      <td>Narrative Film</td>\n",
       "      <td>Film &amp; Video</td>\n",
       "      <td>USD</td>\n",
       "      <td>2013-02-26</td>\n",
       "      <td>45000.0</td>\n",
       "      <td>2013-01-12 00:20:50</td>\n",
       "      <td>220.0</td>\n",
       "      <td>failed</td>\n",
       "      <td>3</td>\n",
       "      <td>US</td>\n",
       "      <td>220.0</td>\n",
       "      <td>220.0</td>\n",
       "      <td>45000.00</td>\n",
       "      <td>2013</td>\n",
       "      <td>2013</td>\n",
       "      <td>44</td>\n",
       "    </tr>\n",
       "    <tr>\n",
       "      <th>3</th>\n",
       "      <td>3</td>\n",
       "      <td>1000007540</td>\n",
       "      <td>ToshiCapital Rekordz Needs Help to Complete Album</td>\n",
       "      <td>Music</td>\n",
       "      <td>Music</td>\n",
       "      <td>USD</td>\n",
       "      <td>2012-04-16</td>\n",
       "      <td>5000.0</td>\n",
       "      <td>2012-03-17 03:24:11</td>\n",
       "      <td>1.0</td>\n",
       "      <td>failed</td>\n",
       "      <td>1</td>\n",
       "      <td>US</td>\n",
       "      <td>1.0</td>\n",
       "      <td>1.0</td>\n",
       "      <td>5000.00</td>\n",
       "      <td>2012</td>\n",
       "      <td>2012</td>\n",
       "      <td>29</td>\n",
       "    </tr>\n",
       "    <tr>\n",
       "      <th>4</th>\n",
       "      <td>5</td>\n",
       "      <td>1000014025</td>\n",
       "      <td>Monarch Espresso Bar</td>\n",
       "      <td>Restaurants</td>\n",
       "      <td>Food</td>\n",
       "      <td>USD</td>\n",
       "      <td>2016-04-01</td>\n",
       "      <td>50000.0</td>\n",
       "      <td>2016-02-26 13:38:27</td>\n",
       "      <td>52375.0</td>\n",
       "      <td>successful</td>\n",
       "      <td>224</td>\n",
       "      <td>US</td>\n",
       "      <td>52375.0</td>\n",
       "      <td>52375.0</td>\n",
       "      <td>50000.00</td>\n",
       "      <td>2016</td>\n",
       "      <td>2016</td>\n",
       "      <td>34</td>\n",
       "    </tr>\n",
       "  </tbody>\n",
       "</table>\n",
       "</div>"
      ],
      "text/plain": [
       "   Unnamed: 0          ID  ... launched_year launch_to_deadline_days\n",
       "0           0  1000002330  ...          2015                      58\n",
       "1           1  1000003930  ...          2017                      59\n",
       "2           2  1000004038  ...          2013                      44\n",
       "3           3  1000007540  ...          2012                      29\n",
       "4           5  1000014025  ...          2016                      34\n",
       "\n",
       "[5 rows x 19 columns]"
      ]
     },
     "execution_count": 134,
     "metadata": {},
     "output_type": "execute_result"
    }
   ],
   "source": [
    "#Reading the data\n",
    "df_state_days = pd.read_excel('df_state_days.xlsx')\n",
    "df_state_days.head()"
   ]
  },
  {
   "cell_type": "code",
   "execution_count": 135,
   "id": "hlXgDziYEZ7F",
   "metadata": {
    "colab": {
     "base_uri": "https://localhost:8080/",
     "height": 323
    },
    "id": "hlXgDziYEZ7F",
    "outputId": "c4b1ebcf-6542-4c47-fe88-8b3132364782"
   },
   "outputs": [
    {
     "data": {
      "text/plain": [
       "<matplotlib.axes._subplots.AxesSubplot at 0x7f13bb006910>"
      ]
     },
     "execution_count": 135,
     "metadata": {},
     "output_type": "execute_result"
    },
    {
     "data": {
      "image/png": "[encoded data removed]",
      "text/plain": [
       "<Figure size 432x288 with 1 Axes>"
      ]
     },
     "metadata": {
      "needs_background": "light"
     },
     "output_type": "display_data"
    }
   ],
   "source": [
    "#Plot for number of projects based on duration\n",
    "def return_week_bins(val):\n",
    "    if val < 7:\n",
    "        return \"< 1 week\"\n",
    "    elif val < 14:\n",
    "        return \"1-2 weeks\"\n",
    "    elif val < 28:\n",
    "        return \"2-4 weeks\"\n",
    "    elif val < 35:\n",
    "        return \"4-5 weeks\"\n",
    "    elif val < 42:\n",
    "        return \"5-6 weeks\"\n",
    "    elif val < 56:\n",
    "        return \"6-8 weeks\"\n",
    "    else:\n",
    "        return \"8+ weeks\"\n",
    "\n",
    "successful_state_series = df_state_days[df_state_days['state'] == \"successful\"]['launch_to_deadline_days']\n",
    "successful_state_series.map(return_week_bins).value_counts().plot(kind='bar')"
   ]
  },
  {
   "cell_type": "code",
   "execution_count": 136,
   "id": "p-OmtJ8hlWnQ",
   "metadata": {
    "colab": {
     "base_uri": "https://localhost:8080/",
     "height": 455
    },
    "id": "p-OmtJ8hlWnQ",
    "outputId": "5c85a20a-dafe-483e-cd7c-ffae5c5f0020"
   },
   "outputs": [
    {
     "data": {
      "text/plain": [
       "<Figure size 1440x1440 with 0 Axes>"
      ]
     },
     "metadata": {},
     "output_type": "display_data"
    },
    {
     "data": {
      "image/png": "[encoded data removed]",
      "text/plain": [
       "<Figure size 448.125x360 with 1 Axes>"
      ]
     },
     "metadata": {
      "needs_background": "light"
     },
     "output_type": "display_data"
    }
   ],
   "source": [
    "#Plotting a graph for checking number of projects in each category which are successful or failed\n",
    "plt.figure(figsize=(20,20))\n",
    "sns.catplot(x='main_category', hue='state', kind='count', data=df_state.sort_values('main_category'), palette=sns.color_palette(['coral','cornflowerblue']))\n",
    "plt.xticks(rotation = 90)\n",
    "plt.title(\"Count and Status for different categories\")\n",
    "plt.xlabel('Category')\n",
    "plt.ylabel('Number of Projects')\n",
    "plt.show()"
   ]
  },
  {
   "cell_type": "code",
   "execution_count": 137,
   "id": "TEAiI5Cn0tzS",
   "metadata": {
    "colab": {
     "base_uri": "https://localhost:8080/",
     "height": 767
    },
    "id": "TEAiI5Cn0tzS",
    "outputId": "4419731c-a823-4819-8a43-60e734ead5de"
   },
   "outputs": [
    {
     "data": {
      "text/html": [
       "<html>\n",
       "<head><meta charset=\"utf-8\" /></head>\n",
       "<body>\n",
       "    <div>\n",
       "            <script src=\"https://cdnjs.cloudflare.com/ajax/libs/mathjax/2.7.5/MathJax.js?config=TeX-AMS-MML_SVG\"></script><script type=\"text/javascript\">if (window.MathJax) {MathJax.Hub.Config({SVG: {font: \"STIX-Web\"}});}</script>\n",
       "                <script type=\"text/javascript\">window.PlotlyConfig = {MathJaxConfig: 'local'};</script>\n",
       "        <script src=\"https://cdn.plot.ly/plotly-latest.min.js\"></script>    \n",
       "            <div id=\"f6cedf97-5a7e-4495-9cd4-1c86c0e22bcb\" class=\"plotly-graph-div\" style=\"height:750px; width:750px;\"></div>\n",
       "            <script type=\"text/javascript\">\n",
       "                \n",
       "                    window.PLOTLYENV=window.PLOTLYENV || {};\n",
       "                    \n",
       "                if (document.getElementById(\"f6cedf97-5a7e-4495-9cd4-1c86c0e22bcb\")) {\n",
       "                    Plotly.newPlot(\n",
       "                        'f6cedf97-5a7e-4495-9cd4-1c86c0e22bcb',\n",
       "                        [{\"branchvalues\": \"total\", \"domain\": {\"x\": [0.0, 1.0], \"y\": [0.0, 1.0]}, \"hovertemplate\": \"labels=%{label}<br>usd_pledged_real=%{value}<br>parent=%{parent}<br>id=%{id}<extra></extra>\", \"ids\": [\"AT/Art\", \"AU/Art\", \"BE/Art\", \"CA/Art\", \"CH/Art\", \"DE/Art\", \"DK/Art\", \"ES/Art\", \"FR/Art\", \"GB/Art\", \"HK/Art\", \"IE/Art\", \"IT/Art\", \"JP/Art\", \"LU/Art\", \"MX/Art\", \"NL/Art\", \"NO/Art\", \"NZ/Art\", \"SE/Art\", \"SG/Art\", \"US/Art\", \"AT/Comics\", \"AU/Comics\", \"BE/Comics\", \"CA/Comics\", \"CH/Comics\", \"DE/Comics\", \"DK/Comics\", \"ES/Comics\", \"FR/Comics\", \"GB/Comics\", \"HK/Comics\", \"IE/Comics\", \"IT/Comics\", \"LU/Comics\", \"MX/Comics\", \"NL/Comics\", \"NO/Comics\", \"NZ/Comics\", \"SE/Comics\", \"SG/Comics\", \"US/Comics\", \"AT/Crafts\", \"AU/Crafts\", \"BE/Crafts\", \"CA/Crafts\", \"CH/Crafts\", \"DE/Crafts\", \"DK/Crafts\", \"ES/Crafts\", \"FR/Crafts\", \"GB/Crafts\", \"HK/Crafts\", \"IE/Crafts\", \"IT/Crafts\", \"MX/Crafts\", \"NL/Crafts\", \"NO/Crafts\", \"NZ/Crafts\", \"SE/Crafts\", \"SG/Crafts\", \"US/Crafts\", \"AT/Dance\", \"AU/Dance\", \"BE/Dance\", \"CA/Dance\", \"CH/Dance\", \"DE/Dance\", \"DK/Dance\", \"ES/Dance\", \"FR/Dance\", \"GB/Dance\", \"HK/Dance\", \"IE/Dance\", \"IT/Dance\", \"MX/Dance\", \"N,0\\\"/Dance\", \"NL/Dance\", \"NO/Dance\", \"NZ/Dance\", \"SE/Dance\", \"SG/Dance\", \"US/Dance\", \"AT/Design\", \"AU/Design\", \"BE/Design\", \"CA/Design\", \"CH/Design\", \"DE/Design\", \"DK/Design\", \"ES/Design\", \"FR/Design\", \"GB/Design\", \"HK/Design\", \"IE/Design\", \"IT/Design\", \"JP/Design\", \"LU/Design\", \"MX/Design\", \"N,0\\\"/Design\", \"NL/Design\", \"NO/Design\", \"NZ/Design\", \"SE/Design\", \"SG/Design\", \"US/Design\", \"AT/Fashion\", \"AU/Fashion\", \"BE/Fashion\", \"CA/Fashion\", \"CH/Fashion\", \"DE/Fashion\", \"DK/Fashion\", \"ES/Fashion\", \"FR/Fashion\", \"GB/Fashion\", \"HK/Fashion\", \"IE/Fashion\", \"IT/Fashion\", \"JP/Fashion\", \"LU/Fashion\", \"MX/Fashion\", \"N,0\\\"/Fashion\", \"NL/Fashion\", \"NO/Fashion\", \"NZ/Fashion\", \"SE/Fashion\", \"SG/Fashion\", \"US/Fashion\", \"AT/Film & Video\", \"AU/Film & Video\", \"BE/Film & Video\", \"CA/Film & Video\", \"CH/Film & Video\", \"DE/Film & Video\", \"DK/Film & Video\", \"ES/Film & Video\", \"FR/Film & Video\", \"GB/Film & Video\", \"HK/Film & Video\", \"IE/Film & Video\", \"IT/Film & Video\", \"JP/Film & Video\", \"LU/Film & Video\", \"MX/Film & Video\", \"N,0\\\"/Film & Video\", \"NL/Film & Video\", \"NO/Film & Video\", \"NZ/Film & Video\", \"SE/Film & Video\", \"SG/Film & Video\", \"US/Film & Video\", \"AT/Food\", \"AU/Food\", \"BE/Food\", \"CA/Food\", \"CH/Food\", \"DE/Food\", \"DK/Food\", \"ES/Food\", \"FR/Food\", \"GB/Food\", \"HK/Food\", \"IE/Food\", \"IT/Food\", \"LU/Food\", \"MX/Food\", \"N,0\\\"/Food\", \"NL/Food\", \"NO/Food\", \"NZ/Food\", \"SE/Food\", \"SG/Food\", \"US/Food\", \"AT/Games\", \"AU/Games\", \"BE/Games\", \"CA/Games\", \"CH/Games\", \"DE/Games\", \"DK/Games\", \"ES/Games\", \"FR/Games\", \"GB/Games\", \"HK/Games\", \"IE/Games\", \"IT/Games\", \"JP/Games\", \"LU/Games\", \"MX/Games\", \"N,0\\\"/Games\", \"NL/Games\", \"NO/Games\", \"NZ/Games\", \"SE/Games\", \"SG/Games\", \"US/Games\", \"AT/Journalism\", \"AU/Journalism\", \"BE/Journalism\", \"CA/Journalism\", \"CH/Journalism\", \"DE/Journalism\", \"DK/Journalism\", \"ES/Journalism\", \"FR/Journalism\", \"GB/Journalism\", \"HK/Journalism\", \"IE/Journalism\", \"IT/Journalism\", \"LU/Journalism\", \"MX/Journalism\", \"N,0\\\"/Journalism\", \"NL/Journalism\", \"NO/Journalism\", \"NZ/Journalism\", \"SE/Journalism\", \"SG/Journalism\", \"US/Journalism\", \"AT/Music\", \"AU/Music\", \"BE/Music\", \"CA/Music\", \"CH/Music\", \"DE/Music\", \"DK/Music\", \"ES/Music\", \"FR/Music\", \"GB/Music\", \"HK/Music\", \"IE/Music\", \"IT/Music\", \"JP/Music\", \"LU/Music\", \"MX/Music\", \"N,0\\\"/Music\", \"NL/Music\", \"NO/Music\", \"NZ/Music\", \"SE/Music\", \"SG/Music\", \"US/Music\", \"AT/Photography\", \"AU/Photography\", \"BE/Photography\", \"CA/Photography\", \"CH/Photography\", \"DE/Photography\", \"DK/Photography\", \"ES/Photography\", \"FR/Photography\", \"GB/Photography\", \"HK/Photography\", \"IE/Photography\", \"IT/Photography\", \"JP/Photography\", \"LU/Photography\", \"MX/Photography\", \"N,0\\\"/Photography\", \"NL/Photography\", \"NO/Photography\", \"NZ/Photography\", \"SE/Photography\", \"SG/Photography\", \"US/Photography\", \"AT/Publishing\", \"AU/Publishing\", \"BE/Publishing\", \"CA/Publishing\", \"CH/Publishing\", \"DE/Publishing\", \"DK/Publishing\", \"ES/Publishing\", \"FR/Publishing\", \"GB/Publishing\", \"HK/Publishing\", \"IE/Publishing\", \"IT/Publishing\", \"JP/Publishing\", \"LU/Publishing\", \"MX/Publishing\", \"N,0\\\"/Publishing\", \"NL/Publishing\", \"NO/Publishing\", \"NZ/Publishing\", \"SE/Publishing\", \"SG/Publishing\", \"US/Publishing\", \"AT/Technology\", \"AU/Technology\", \"BE/Technology\", \"CA/Technology\", \"CH/Technology\", \"DE/Technology\", \"DK/Technology\", \"ES/Technology\", \"FR/Technology\", \"GB/Technology\", \"HK/Technology\", \"IE/Technology\", \"IT/Technology\", \"JP/Technology\", \"LU/Technology\", \"MX/Technology\", \"N,0\\\"/Technology\", \"NL/Technology\", \"NO/Technology\", \"NZ/Technology\", \"SE/Technology\", \"SG/Technology\", \"US/Technology\", \"AT/Theater\", \"AU/Theater\", \"BE/Theater\", \"CA/Theater\", \"CH/Theater\", \"DE/Theater\", \"DK/Theater\", \"ES/Theater\", \"FR/Theater\", \"GB/Theater\", \"IE/Theater\", \"IT/Theater\", \"JP/Theater\", \"LU/Theater\", \"MX/Theater\", \"N,0\\\"/Theater\", \"NL/Theater\", \"NO/Theater\", \"NZ/Theater\", \"SE/Theater\", \"SG/Theater\", \"US/Theater\", \"AT\", \"AU\", \"BE\", \"CA\", \"CH\", \"DE\", \"DK\", \"ES\", \"FR\", \"GB\", \"HK\", \"IE\", \"IT\", \"JP\", \"LU\", \"MX\", \"N,0\\\"\", \"NL\", \"NO\", \"NZ\", \"SE\", \"SG\", \"US\"], \"labels\": [\"Art\", \"Art\", \"Art\", \"Art\", \"Art\", \"Art\", \"Art\", \"Art\", \"Art\", \"Art\", \"Art\", \"Art\", \"Art\", \"Art\", \"Art\", \"Art\", \"Art\", \"Art\", \"Art\", \"Art\", \"Art\", \"Art\", \"Comics\", \"Comics\", \"Comics\", \"Comics\", \"Comics\", \"Comics\", \"Comics\", \"Comics\", \"Comics\", \"Comics\", \"Comics\", \"Comics\", \"Comics\", \"Comics\", \"Comics\", \"Comics\", \"Comics\", \"Comics\", \"Comics\", \"Comics\", \"Comics\", \"Crafts\", \"Crafts\", \"Crafts\", \"Crafts\", \"Crafts\", \"Crafts\", \"Crafts\", \"Crafts\", \"Crafts\", \"Crafts\", \"Crafts\", \"Crafts\", \"Crafts\", \"Crafts\", \"Crafts\", \"Crafts\", \"Crafts\", \"Crafts\", \"Crafts\", \"Crafts\", \"Dance\", \"Dance\", \"Dance\", \"Dance\", \"Dance\", \"Dance\", \"Dance\", \"Dance\", \"Dance\", \"Dance\", \"Dance\", \"Dance\", \"Dance\", \"Dance\", \"Dance\", \"Dance\", \"Dance\", \"Dance\", \"Dance\", \"Dance\", \"Dance\", \"Design\", \"Design\", \"Design\", \"Design\", \"Design\", \"Design\", \"Design\", \"Design\", \"Design\", \"Design\", \"Design\", \"Design\", \"Design\", \"Design\", \"Design\", \"Design\", \"Design\", \"Design\", \"Design\", \"Design\", \"Design\", \"Design\", \"Design\", \"Fashion\", \"Fashion\", \"Fashion\", \"Fashion\", \"Fashion\", \"Fashion\", \"Fashion\", \"Fashion\", \"Fashion\", \"Fashion\", \"Fashion\", \"Fashion\", \"Fashion\", \"Fashion\", \"Fashion\", \"Fashion\", \"Fashion\", \"Fashion\", \"Fashion\", \"Fashion\", \"Fashion\", \"Fashion\", \"Fashion\", \"Film & Video\", \"Film & Video\", \"Film & Video\", \"Film & Video\", \"Film & Video\", \"Film & Video\", \"Film & Video\", \"Film & Video\", \"Film & Video\", \"Film & Video\", \"Film & Video\", \"Film & Video\", \"Film & Video\", \"Film & Video\", \"Film & Video\", \"Film & Video\", \"Film & Video\", \"Film & Video\", \"Film & Video\", \"Film & Video\", \"Film & Video\", \"Film & Video\", \"Film & Video\", \"Food\", \"Food\", \"Food\", \"Food\", \"Food\", \"Food\", \"Food\", \"Food\", \"Food\", \"Food\", \"Food\", \"Food\", \"Food\", \"Food\", \"Food\", \"Food\", \"Food\", \"Food\", \"Food\", \"Food\", \"Food\", \"Food\", \"Games\", \"Games\", \"Games\", \"Games\", \"Games\", \"Games\", \"Games\", \"Games\", \"Games\", \"Games\", \"Games\", \"Games\", \"Games\", \"Games\", \"Games\", \"Games\", \"Games\", \"Games\", \"Games\", \"Games\", \"Games\", \"Games\", \"Games\", \"Journalism\", \"Journalism\", \"Journalism\", \"Journalism\", \"Journalism\", \"Journalism\", \"Journalism\", \"Journalism\", \"Journalism\", \"Journalism\", \"Journalism\", \"Journalism\", \"Journalism\", \"Journalism\", \"Journalism\", \"Journalism\", \"Journalism\", \"Journalism\", \"Journalism\", \"Journalism\", \"Journalism\", \"Journalism\", \"Music\", \"Music\", \"Music\", \"Music\", \"Music\", \"Music\", \"Music\", \"Music\", \"Music\", \"Music\", \"Music\", \"Music\", \"Music\", \"Music\", \"Music\", \"Music\", \"Music\", \"Music\", \"Music\", \"Music\", \"Music\", \"Music\", \"Music\", \"Photography\", \"Photography\", \"Photography\", \"Photography\", \"Photography\", \"Photography\", \"Photography\", \"Photography\", \"Photography\", \"Photography\", \"Photography\", \"Photography\", \"Photography\", \"Photography\", \"Photography\", \"Photography\", \"Photography\", \"Photography\", \"Photography\", \"Photography\", \"Photography\", \"Photography\", \"Photography\", \"Publishing\", \"Publishing\", \"Publishing\", \"Publishing\", \"Publishing\", \"Publishing\", \"Publishing\", \"Publishing\", \"Publishing\", \"Publishing\", \"Publishing\", \"Publishing\", \"Publishing\", \"Publishing\", \"Publishing\", \"Publishing\", \"Publishing\", \"Publishing\", \"Publishing\", \"Publishing\", \"Publishing\", \"Publishing\", \"Publishing\", \"Technology\", \"Technology\", \"Technology\", \"Technology\", \"Technology\", \"Technology\", \"Technology\", \"Technology\", \"Technology\", \"Technology\", \"Technology\", \"Technology\", \"Technology\", \"Technology\", \"Technology\", \"Technology\", \"Technology\", \"Technology\", \"Technology\", \"Technology\", \"Technology\", \"Technology\", \"Technology\", \"Theater\", \"Theater\", \"Theater\", \"Theater\", \"Theater\", \"Theater\", \"Theater\", \"Theater\", \"Theater\", \"Theater\", \"Theater\", \"Theater\", \"Theater\", \"Theater\", \"Theater\", \"Theater\", \"Theater\", \"Theater\", \"Theater\", \"Theater\", \"Theater\", \"Theater\", \"AT\", \"AU\", \"BE\", \"CA\", \"CH\", \"DE\", \"DK\", \"ES\", \"FR\", \"GB\", \"HK\", \"IE\", \"IT\", \"JP\", \"LU\", \"MX\", \"N,0\\\"\", \"NL\", \"NO\", \"NZ\", \"SE\", \"SG\", \"US\"], \"name\": \"\", \"parents\": [\"AT\", \"AU\", \"BE\", \"CA\", \"CH\", \"DE\", \"DK\", \"ES\", \"FR\", \"GB\", \"HK\", \"IE\", \"IT\", \"JP\", \"LU\", \"MX\", \"NL\", \"NO\", \"NZ\", \"SE\", \"SG\", \"US\", \"AT\", \"AU\", \"BE\", \"CA\", \"CH\", \"DE\", \"DK\", \"ES\", \"FR\", \"GB\", \"HK\", \"IE\", \"IT\", \"LU\", \"MX\", \"NL\", \"NO\", \"NZ\", \"SE\", \"SG\", \"US\", \"AT\", \"AU\", \"BE\", \"CA\", \"CH\", \"DE\", \"DK\", \"ES\", \"FR\", \"GB\", \"HK\", \"IE\", \"IT\", \"MX\", \"NL\", \"NO\", \"NZ\", \"SE\", \"SG\", \"US\", \"AT\", \"AU\", \"BE\", \"CA\", \"CH\", \"DE\", \"DK\", \"ES\", \"FR\", \"GB\", \"HK\", \"IE\", \"IT\", \"MX\", \"N,0\\\"\", \"NL\", \"NO\", \"NZ\", \"SE\", \"SG\", \"US\", \"AT\", \"AU\", \"BE\", \"CA\", \"CH\", \"DE\", \"DK\", \"ES\", \"FR\", \"GB\", \"HK\", \"IE\", \"IT\", \"JP\", \"LU\", \"MX\", \"N,0\\\"\", \"NL\", \"NO\", \"NZ\", \"SE\", \"SG\", \"US\", \"AT\", \"AU\", \"BE\", \"CA\", \"CH\", \"DE\", \"DK\", \"ES\", \"FR\", \"GB\", \"HK\", \"IE\", \"IT\", \"JP\", \"LU\", \"MX\", \"N,0\\\"\", \"NL\", \"NO\", \"NZ\", \"SE\", \"SG\", \"US\", \"AT\", \"AU\", \"BE\", \"CA\", \"CH\", \"DE\", \"DK\", \"ES\", \"FR\", \"GB\", \"HK\", \"IE\", \"IT\", \"JP\", \"LU\", \"MX\", \"N,0\\\"\", \"NL\", \"NO\", \"NZ\", \"SE\", \"SG\", \"US\", \"AT\", \"AU\", \"BE\", \"CA\", \"CH\", \"DE\", \"DK\", \"ES\", \"FR\", \"GB\", \"HK\", \"IE\", \"IT\", \"LU\", \"MX\", \"N,0\\\"\", \"NL\", \"NO\", \"NZ\", \"SE\", \"SG\", \"US\", \"AT\", \"AU\", \"BE\", \"CA\", \"CH\", \"DE\", \"DK\", \"ES\", \"FR\", \"GB\", \"HK\", \"IE\", \"IT\", \"JP\", \"LU\", \"MX\", \"N,0\\\"\", \"NL\", \"NO\", \"NZ\", \"SE\", \"SG\", \"US\", \"AT\", \"AU\", \"BE\", \"CA\", \"CH\", \"DE\", \"DK\", \"ES\", \"FR\", \"GB\", \"HK\", \"IE\", \"IT\", \"LU\", \"MX\", \"N,0\\\"\", \"NL\", \"NO\", \"NZ\", \"SE\", \"SG\", \"US\", \"AT\", \"AU\", \"BE\", \"CA\", \"CH\", \"DE\", \"DK\", \"ES\", \"FR\", \"GB\", \"HK\", \"IE\", \"IT\", \"JP\", \"LU\", \"MX\", \"N,0\\\"\", \"NL\", \"NO\", \"NZ\", \"SE\", \"SG\", \"US\", \"AT\", \"AU\", \"BE\", \"CA\", \"CH\", \"DE\", \"DK\", \"ES\", \"FR\", \"GB\", \"HK\", \"IE\", \"IT\", \"JP\", \"LU\", \"MX\", \"N,0\\\"\", \"NL\", \"NO\", \"NZ\", \"SE\", \"SG\", \"US\", \"AT\", \"AU\", \"BE\", \"CA\", \"CH\", \"DE\", \"DK\", \"ES\", \"FR\", \"GB\", \"HK\", \"IE\", \"IT\", \"JP\", \"LU\", \"MX\", \"N,0\\\"\", \"NL\", \"NO\", \"NZ\", \"SE\", \"SG\", \"US\", \"AT\", \"AU\", \"BE\", \"CA\", \"CH\", \"DE\", \"DK\", \"ES\", \"FR\", \"GB\", \"HK\", \"IE\", \"IT\", \"JP\", \"LU\", \"MX\", \"N,0\\\"\", \"NL\", \"NO\", \"NZ\", \"SE\", \"SG\", \"US\", \"AT\", \"AU\", \"BE\", \"CA\", \"CH\", \"DE\", \"DK\", \"ES\", \"FR\", \"GB\", \"IE\", \"IT\", \"JP\", \"LU\", \"MX\", \"N,0\\\"\", \"NL\", \"NO\", \"NZ\", \"SE\", \"SG\", \"US\", \"\", \"\", \"\", \"\", \"\", \"\", \"\", \"\", \"\", \"\", \"\", \"\", \"\", \"\", \"\", \"\", \"\", \"\", \"\", \"\", \"\", \"\", \"\"], \"type\": \"sunburst\", \"values\": [149387.01, 918988.0199999997, 103061.09999999999, 2952027.86, 87399.81999999999, 975809.6199999999, 198191.97, 470782.2899999999, 536412.8499999999, 8503468.789999988, 70126.37, 86582.36, 117166.45000000007, 1696.29, 1576.42, 164577.03999999998, 308772.45000000007, 54165.63, 103259.33999999994, 1058280.2100000002, 44852.95, 73773861.26999965, 36849.45, 405231.55, 5128.43, 2961802.0199999977, 23704.86, 263570.9599999999, 41396.600000000006, 197387.09, 297376.69, 3605381.400000001, 4222.0, 5736.18, 129120.94, 8.75, 58286.64, 39965.590000000004, 50043.36, 78022.71999999999, 253884.72999999998, 43475.8, 63017796.009999834, 19172.44, 150023.6600000001, 8059.15, 402606.04999999993, 158530.31999999998, 137060.71999999997, 54253.94000000001, 18044.91, 207340.55999999997, 1356391.8500000006, 107067.70999999999, 33179.47000000001, 10349.890000000001, 129062.09000000004, 93906.68000000002, 5013.749999999999, 14631.47, 21179.170000000002, 20558.679999999997, 11437847.740000008, 8264.12, 64733.39, 226.43, 178562.59, 546.74, 21037.940000000002, 27101.22, 227.57999999999998, 41416.21, 645313.6099999993, 5845.06, 10321.68, 3493.5399999999995, 42390.81, 200.0, 13001.089999999998, 8539.06, 2377.21, 6066.549999999999, 2617.42, 11928419.619999992, 5705155.799999997, 14560328.710000014, 1005169.3799999998, 24947654.989999972, 7899260.550000001, 9442268.730000008, 3130851.229999999, 1373012.4100000004, 10416767.590000002, 41182049.12000006, 5293240.58, 662102.0399999999, 5341649.509999997, 32103.46, 22655.18, 317183.44, 13685.47, 14409102.499999994, 644770.1699999999, 2247529.1699999995, 2502562.2400000035, 3233175.2199999974, 579837955.8899994, 261299.93, 2496580.5400000005, 135261.68, 5322484.170000003, 996610.14, 2230269.68, 709074.7999999999, 961299.01, 1425012.39, 9064938.74, 279786.8300000001, 143582.41, 1158059.6400000008, 26616.09, 12536.28, 107177.96999999997, 13399.25, 2163447.33, 466960.59000000014, 387508.2700000001, 832792.4800000001, 311573.95999999985, 100829006.15999998, 204859.57, 3978357.5599999973, 75835.59, 7184693.130000001, 108883.93, 1710072.459999999, 153195.23, 674242.7299999999, 1488977.8000000007, 24683882.940000005, 7750.039999999999, 344440.74000000005, 598536.25, 0.0, 868.2, 578603.3100000002, 1698849.9500000014, 516532.98999999993, 137644.96999999997, 699042.4100000004, 907028.8000000003, 4767.110000000001, 345797992.600001, 91133.18000000001, 689293.7500000007, 202275.92000000004, 2357435.7800000007, 208240.43000000002, 1199257.8900000001, 129484.09000000001, 157840.95999999996, 457398.4800000002, 6058651.80000001, 1786.34, 74571.37000000001, 163567.21000000008, 9001.31, 107797.41999999995, 275.65000000000003, 221649.79000000018, 141590.56999999998, 451042.84999999974, 408222.44999999995, 39755.159999999996, 112636229.94999994, 467785.47000000015, 6541780.909999996, 441573.3399999999, 17578866.919999994, 484482.76999999996, 6512529.629999996, 604597.9299999997, 5189788.950000001, 9228499.22, 65434004.68000003, 591122.5200000001, 666736.7000000001, 3305073.3100000015, 30900.14, 675.43, 252337.63, 54375.03, 2263310.4800000004, 296245.48999999993, 1913163.4400000013, 3672624.9799999995, 1194229.25, 614602585.3199984, 473.72, 91706.04, 183.18, 448345.2299999999, 743.4100000000001, 40213.44999999999, 187325.85999999996, 13181.4, 51314.43999999998, 1067032.1699999992, 208.89, 6821.610000000001, 37742.18000000001, 215487.75, 16402.86, 2204.21, 23949.04, 14918.410000000003, 27373.71, 222837.60999999996, 2114.26, 9967086.280000005, 55090.5, 909655.1099999996, 265972.13999999996, 2763155.3700000057, 92052.89999999998, 617658.8399999996, 312054.1799999998, 240732.79, 598529.0199999997, 9497283.650000017, 16783.22, 284306.4100000001, 85141.60999999999, 1991.77, 6144.12, 198909.7300000001, 6579707.540000002, 357514.92, 171352.01999999996, 226216.29000000007, 289748.3600000001, 32635.61, 176716093.3499999, 88645.57000000002, 708761.5400000003, 31234.690000000006, 852543.04, 28854.510000000002, 576707.2399999999, 48898.29, 153755.72, 386215.25999999995, 4763305.900000001, 257.58, 87512.14, 919214.1500000003, 229.52, 31084.449999999997, 27320.220000000005, 212.84, 249452.36000000004, 71466.68999999999, 78415.73999999999, 137784.28, 2307.8699999999994, 29257430.980000034, 80760.98000000001, 3321136.8699999982, 332544.44, 4407860.59, 75371.85000000002, 868093.5599999998, 264704.8699999999, 781040.5300000003, 1155028.82, 11962125.459999992, 2009.9299999999998, 231578.27999999997, 459957.45999999985, 661.61, 17242.1, 166871.71000000005, 55920.070000000014, 815791.8900000002, 199751.08, 657206.4999999998, 1012150.8000000002, 57021.92, 106651151.95999977, 2485694.1399999987, 11699245.58, 1565989.8499999999, 19015221.979999997, 2876966.459999999, 15109236.75000001, 1662140.5099999998, 2678114.42, 8047880.65, 43961922.36999998, 3649277.8699999987, 1500861.03, 3690102.8300000005, 21689.53, 144064.92, 162026.24000000005, 2779131.71, 7755928.780000007, 385240.95999999996, 865537.0699999991, 2059297.3299999991, 839053.3799999997, 555917869.3199995, 11216.68, 201304.47999999998, 9042.27, 420099.7000000002, 13471.52, 72486.56000000001, 59990.85, 38202.78999999999, 19337.839999999997, 4801592.7799999975, 48930.090000000004, 366852.33999999997, 0.0, 7330.75, 101081.39000000001, 2621.0, 12781.590000000002, 21039.93, 70186.50000000001, 31342.92, 19417.18, 37388255.049999975, 9665788.559999995, 46737127.71000017, 4181557.5900000003, 91793359.41999984, 13055120.210000008, 39776274.03000005, 7583261.569999989, 12947653.579999987, 34357507.81999998, 236587345.2600012, 10029484.939999996, 4187262.5100000002, 16386027.31, 115888.41, 468675.66000000003, 2430028.500000003, 11200582.71999998, 29245107.480000027, 2668742.6799999992, 7821512.690000002, 13415802.910000004, 5847555.7700000005, 2829759581.5000424]}],\n",
       "                        {\"height\": 750, \"legend\": {\"tracegroupgap\": 0}, \"template\": {\"data\": {\"bar\": [{\"error_x\": {\"color\": \"#2a3f5f\"}, \"error_y\": {\"color\": \"#2a3f5f\"}, \"marker\": {\"line\": {\"color\": \"#E5ECF6\", \"width\": 0.5}}, \"type\": \"bar\"}], \"barpolar\": [{\"marker\": {\"line\": {\"color\": \"#E5ECF6\", \"width\": 0.5}}, \"type\": \"barpolar\"}], \"carpet\": [{\"aaxis\": {\"endlinecolor\": \"#2a3f5f\", \"gridcolor\": \"white\", \"linecolor\": \"white\", \"minorgridcolor\": \"white\", \"startlinecolor\": \"#2a3f5f\"}, \"baxis\": {\"endlinecolor\": \"#2a3f5f\", \"gridcolor\": \"white\", \"linecolor\": \"white\", \"minorgridcolor\": \"white\", \"startlinecolor\": \"#2a3f5f\"}, \"type\": \"carpet\"}], \"choropleth\": [{\"colorbar\": {\"outlinewidth\": 0, \"ticks\": \"\"}, \"type\": \"choropleth\"}], \"contour\": [{\"colorbar\": {\"outlinewidth\": 0, \"ticks\": \"\"}, \"colorscale\": [[0.0, \"#0d0887\"], [0.1111111111111111, \"#46039f\"], [0.2222222222222222, \"#7201a8\"], [0.3333333333333333, \"#9c179e\"], [0.4444444444444444, \"#bd3786\"], [0.5555555555555556, \"#d8576b\"], [0.6666666666666666, \"#ed7953\"], [0.7777777777777778, \"#fb9f3a\"], [0.8888888888888888, \"#fdca26\"], [1.0, \"#f0f921\"]], \"type\": \"contour\"}], \"contourcarpet\": [{\"colorbar\": {\"outlinewidth\": 0, \"ticks\": \"\"}, \"type\": \"contourcarpet\"}], \"heatmap\": [{\"colorbar\": {\"outlinewidth\": 0, \"ticks\": \"\"}, \"colorscale\": [[0.0, \"#0d0887\"], [0.1111111111111111, \"#46039f\"], [0.2222222222222222, \"#7201a8\"], [0.3333333333333333, \"#9c179e\"], [0.4444444444444444, \"#bd3786\"], [0.5555555555555556, \"#d8576b\"], [0.6666666666666666, \"#ed7953\"], [0.7777777777777778, \"#fb9f3a\"], [0.8888888888888888, \"#fdca26\"], [1.0, \"#f0f921\"]], \"type\": \"heatmap\"}], \"heatmapgl\": [{\"colorbar\": {\"outlinewidth\": 0, \"ticks\": \"\"}, \"colorscale\": [[0.0, \"#0d0887\"], [0.1111111111111111, \"#46039f\"], [0.2222222222222222, \"#7201a8\"], [0.3333333333333333, \"#9c179e\"], [0.4444444444444444, \"#bd3786\"], [0.5555555555555556, \"#d8576b\"], [0.6666666666666666, \"#ed7953\"], [0.7777777777777778, \"#fb9f3a\"], [0.8888888888888888, \"#fdca26\"], [1.0, \"#f0f921\"]], \"type\": \"heatmapgl\"}], \"histogram\": [{\"marker\": {\"colorbar\": {\"outlinewidth\": 0, \"ticks\": \"\"}}, \"type\": \"histogram\"}], \"histogram2d\": [{\"colorbar\": {\"outlinewidth\": 0, \"ticks\": \"\"}, \"colorscale\": [[0.0, \"#0d0887\"], [0.1111111111111111, \"#46039f\"], [0.2222222222222222, \"#7201a8\"], [0.3333333333333333, \"#9c179e\"], [0.4444444444444444, \"#bd3786\"], [0.5555555555555556, \"#d8576b\"], [0.6666666666666666, \"#ed7953\"], [0.7777777777777778, \"#fb9f3a\"], [0.8888888888888888, \"#fdca26\"], [1.0, \"#f0f921\"]], \"type\": \"histogram2d\"}], \"histogram2dcontour\": [{\"colorbar\": {\"outlinewidth\": 0, \"ticks\": \"\"}, \"colorscale\": [[0.0, \"#0d0887\"], [0.1111111111111111, \"#46039f\"], [0.2222222222222222, \"#7201a8\"], [0.3333333333333333, \"#9c179e\"], [0.4444444444444444, \"#bd3786\"], [0.5555555555555556, \"#d8576b\"], [0.6666666666666666, \"#ed7953\"], [0.7777777777777778, \"#fb9f3a\"], [0.8888888888888888, \"#fdca26\"], [1.0, \"#f0f921\"]], \"type\": \"histogram2dcontour\"}], \"mesh3d\": [{\"colorbar\": {\"outlinewidth\": 0, \"ticks\": \"\"}, \"type\": \"mesh3d\"}], \"parcoords\": [{\"line\": {\"colorbar\": {\"outlinewidth\": 0, \"ticks\": \"\"}}, \"type\": \"parcoords\"}], \"pie\": [{\"automargin\": true, \"type\": \"pie\"}], \"scatter\": [{\"marker\": {\"colorbar\": {\"outlinewidth\": 0, \"ticks\": \"\"}}, \"type\": \"scatter\"}], \"scatter3d\": [{\"line\": {\"colorbar\": {\"outlinewidth\": 0, \"ticks\": \"\"}}, \"marker\": {\"colorbar\": {\"outlinewidth\": 0, \"ticks\": \"\"}}, \"type\": \"scatter3d\"}], \"scattercarpet\": [{\"marker\": {\"colorbar\": {\"outlinewidth\": 0, \"ticks\": \"\"}}, \"type\": \"scattercarpet\"}], \"scattergeo\": [{\"marker\": {\"colorbar\": {\"outlinewidth\": 0, \"ticks\": \"\"}}, \"type\": \"scattergeo\"}], \"scattergl\": [{\"marker\": {\"colorbar\": {\"outlinewidth\": 0, \"ticks\": \"\"}}, \"type\": \"scattergl\"}], \"scattermapbox\": [{\"marker\": {\"colorbar\": {\"outlinewidth\": 0, \"ticks\": \"\"}}, \"type\": \"scattermapbox\"}], \"scatterpolar\": [{\"marker\": {\"colorbar\": {\"outlinewidth\": 0, \"ticks\": \"\"}}, \"type\": \"scatterpolar\"}], \"scatterpolargl\": [{\"marker\": {\"colorbar\": {\"outlinewidth\": 0, \"ticks\": \"\"}}, \"type\": \"scatterpolargl\"}], \"scatterternary\": [{\"marker\": {\"colorbar\": {\"outlinewidth\": 0, \"ticks\": \"\"}}, \"type\": \"scatterternary\"}], \"surface\": [{\"colorbar\": {\"outlinewidth\": 0, \"ticks\": \"\"}, \"colorscale\": [[0.0, \"#0d0887\"], [0.1111111111111111, \"#46039f\"], [0.2222222222222222, \"#7201a8\"], [0.3333333333333333, \"#9c179e\"], [0.4444444444444444, \"#bd3786\"], [0.5555555555555556, \"#d8576b\"], [0.6666666666666666, \"#ed7953\"], [0.7777777777777778, \"#fb9f3a\"], [0.8888888888888888, \"#fdca26\"], [1.0, \"#f0f921\"]], \"type\": \"surface\"}], \"table\": [{\"cells\": {\"fill\": {\"color\": \"#EBF0F8\"}, \"line\": {\"color\": \"white\"}}, \"header\": {\"fill\": {\"color\": \"#C8D4E3\"}, \"line\": {\"color\": \"white\"}}, \"type\": \"table\"}]}, \"layout\": {\"annotationdefaults\": {\"arrowcolor\": \"#2a3f5f\", \"arrowhead\": 0, \"arrowwidth\": 1}, \"coloraxis\": {\"colorbar\": {\"outlinewidth\": 0, \"ticks\": \"\"}}, \"colorscale\": {\"diverging\": [[0, \"#8e0152\"], [0.1, \"#c51b7d\"], [0.2, \"#de77ae\"], [0.3, \"#f1b6da\"], [0.4, \"#fde0ef\"], [0.5, \"#f7f7f7\"], [0.6, \"#e6f5d0\"], [0.7, \"#b8e186\"], [0.8, \"#7fbc41\"], [0.9, \"#4d9221\"], [1, \"#276419\"]], \"sequential\": [[0.0, \"#0d0887\"], [0.1111111111111111, \"#46039f\"], [0.2222222222222222, \"#7201a8\"], [0.3333333333333333, \"#9c179e\"], [0.4444444444444444, \"#bd3786\"], [0.5555555555555556, \"#d8576b\"], [0.6666666666666666, \"#ed7953\"], [0.7777777777777778, \"#fb9f3a\"], [0.8888888888888888, \"#fdca26\"], [1.0, \"#f0f921\"]], \"sequentialminus\": [[0.0, \"#0d0887\"], [0.1111111111111111, \"#46039f\"], [0.2222222222222222, \"#7201a8\"], [0.3333333333333333, \"#9c179e\"], [0.4444444444444444, \"#bd3786\"], [0.5555555555555556, \"#d8576b\"], [0.6666666666666666, \"#ed7953\"], [0.7777777777777778, \"#fb9f3a\"], [0.8888888888888888, \"#fdca26\"], [1.0, \"#f0f921\"]]}, \"colorway\": [\"#636efa\", \"#EF553B\", \"#00cc96\", \"#ab63fa\", \"#FFA15A\", \"#19d3f3\", \"#FF6692\", \"#B6E880\", \"#FF97FF\", \"#FECB52\"], \"font\": {\"color\": \"#2a3f5f\"}, \"geo\": {\"bgcolor\": \"white\", \"lakecolor\": \"white\", \"landcolor\": \"#E5ECF6\", \"showlakes\": true, \"showland\": true, \"subunitcolor\": \"white\"}, \"hoverlabel\": {\"align\": \"left\"}, \"hovermode\": \"closest\", \"mapbox\": {\"style\": \"light\"}, \"paper_bgcolor\": \"white\", \"plot_bgcolor\": \"#E5ECF6\", \"polar\": {\"angularaxis\": {\"gridcolor\": \"white\", \"linecolor\": \"white\", \"ticks\": \"\"}, \"bgcolor\": \"#E5ECF6\", \"radialaxis\": {\"gridcolor\": \"white\", \"linecolor\": \"white\", \"ticks\": \"\"}}, \"scene\": {\"xaxis\": {\"backgroundcolor\": \"#E5ECF6\", \"gridcolor\": \"white\", \"gridwidth\": 2, \"linecolor\": \"white\", \"showbackground\": true, \"ticks\": \"\", \"zerolinecolor\": \"white\"}, \"yaxis\": {\"backgroundcolor\": \"#E5ECF6\", \"gridcolor\": \"white\", \"gridwidth\": 2, \"linecolor\": \"white\", \"showbackground\": true, \"ticks\": \"\", \"zerolinecolor\": \"white\"}, \"zaxis\": {\"backgroundcolor\": \"#E5ECF6\", \"gridcolor\": \"white\", \"gridwidth\": 2, \"linecolor\": \"white\", \"showbackground\": true, \"ticks\": \"\", \"zerolinecolor\": \"white\"}}, \"shapedefaults\": {\"line\": {\"color\": \"#2a3f5f\"}}, \"ternary\": {\"aaxis\": {\"gridcolor\": \"white\", \"linecolor\": \"white\", \"ticks\": \"\"}, \"baxis\": {\"gridcolor\": \"white\", \"linecolor\": \"white\", \"ticks\": \"\"}, \"bgcolor\": \"#E5ECF6\", \"caxis\": {\"gridcolor\": \"white\", \"linecolor\": \"white\", \"ticks\": \"\"}}, \"title\": {\"x\": 0.05}, \"xaxis\": {\"automargin\": true, \"gridcolor\": \"white\", \"linecolor\": \"white\", \"ticks\": \"\", \"title\": {\"standoff\": 15}, \"zerolinecolor\": \"white\", \"zerolinewidth\": 2}, \"yaxis\": {\"automargin\": true, \"gridcolor\": \"white\", \"linecolor\": \"white\", \"ticks\": \"\", \"title\": {\"standoff\": 15}, \"zerolinecolor\": \"white\", \"zerolinewidth\": 2}}}, \"title\": {\"text\": \"USD Pledged Amount Per Category Per Country\"}, \"width\": 750},\n",
       "                        {\"responsive\": true}\n",
       "                    ).then(function(){\n",
       "                            \n",
       "var gd = document.getElementById('f6cedf97-5a7e-4495-9cd4-1c86c0e22bcb');\n",
       "var x = new MutationObserver(function (mutations, observer) {{\n",
       "        var display = window.getComputedStyle(gd).display;\n",
       "        if (!display || display === 'none') {{\n",
       "            console.log([gd, 'removed!']);\n",
       "            Plotly.purge(gd);\n",
       "            observer.disconnect();\n",
       "        }}\n",
       "}});\n",
       "\n",
       "// Listen for the removal of the full notebook cells\n",
       "var notebookContainer = gd.closest('#notebook-container');\n",
       "if (notebookContainer) {{\n",
       "    x.observe(notebookContainer, {childList: true});\n",
       "}}\n",
       "\n",
       "// Listen for the clearing of the current output cell\n",
       "var outputEl = gd.closest('.output');\n",
       "if (outputEl) {{\n",
       "    x.observe(outputEl, {childList: true});\n",
       "}}\n",
       "\n",
       "                        })\n",
       "                };\n",
       "                \n",
       "            </script>\n",
       "        </div>\n",
       "</body>\n",
       "</html>"
      ]
     },
     "metadata": {},
     "output_type": "display_data"
    }
   ],
   "source": [
    "#Graph for displaying information about each category based on country\n",
    "px.sunburst(ks18, values= 'usd_pledged_real' , path = [\"country\",\"main_category\"], \n",
    "            color_continuous_scale='RdBu',width=750, height=750,title=\"USD Pledged Amount Per Category Per Country\")"
   ]
  },
  {
   "cell_type": "code",
   "execution_count": 138,
   "id": "4Uk1957Dmrui",
   "metadata": {
    "colab": {
     "base_uri": "https://localhost:8080/"
    },
    "id": "4Uk1957Dmrui",
    "outputId": "8212a31f-8829-424f-acb1-fdc8f14c40a7"
   },
   "outputs": [
    {
     "name": "stderr",
     "output_type": "stream",
     "text": [
      "/usr/local/lib/python3.7/dist-packages/pandas/core/generic.py:5170: SettingWithCopyWarning:\n",
      "\n",
      "\n",
      "A value is trying to be set on a copy of a slice from a DataFrame.\n",
      "Try using .loc[row_indexer,col_indexer] = value instead\n",
      "\n",
      "See the caveats in the documentation: https://pandas.pydata.org/pandas-docs/stable/user_guide/indexing.html#returning-a-view-versus-a-copy\n",
      "\n",
      "/usr/local/lib/python3.7/dist-packages/ipykernel_launcher.py:3: SettingWithCopyWarning:\n",
      "\n",
      "\n",
      "A value is trying to be set on a copy of a slice from a DataFrame.\n",
      "Try using .loc[row_indexer,col_indexer] = value instead\n",
      "\n",
      "See the caveats in the documentation: https://pandas.pydata.org/pandas-docs/stable/user_guide/indexing.html#returning-a-view-versus-a-copy\n",
      "\n"
     ]
    }
   ],
   "source": [
    "#Converting the datatype of the launched column\n",
    "df_state.launched = pd.to_datetime(df_state.launched)\n",
    "df_state['launched(y)']=pd.to_datetime(df_state.launched).dt.year "
   ]
  },
  {
   "cell_type": "code",
   "execution_count": 139,
   "id": "Zlb6O8hkFFip",
   "metadata": {
    "colab": {
     "base_uri": "https://localhost:8080/",
     "height": 365
    },
    "id": "Zlb6O8hkFFip",
    "outputId": "2d43a1e6-a288-494f-a76c-875129835033"
   },
   "outputs": [
    {
     "data": {
      "image/png": "[encoded data removed]",
      "text/plain": [
       "<Figure size 720x360 with 1 Axes>"
      ]
     },
     "metadata": {
      "needs_background": "light"
     },
     "output_type": "display_data"
    }
   ],
   "source": [
    "#Plotting project count against the years\n",
    "plt.figure(figsize=(10,5))\n",
    "df_state.groupby(\"launched(y)\").main_category.count().plot(kind = 'bar', color = 'c')\n",
    "plt.title(\"Number of projects Per Year\")\n",
    "plt.ylabel('Number of Projects')\n",
    "plt.xlabel('Launch Year')\n",
    "plt.show()"
   ]
  },
  {
   "cell_type": "code",
   "execution_count": 140,
   "id": "iq4xBhjZFbJz",
   "metadata": {
    "colab": {
     "base_uri": "https://localhost:8080/"
    },
    "id": "iq4xBhjZFbJz",
    "outputId": "324db105-42a2-4b6c-cbc8-e77b1261a0bf"
   },
   "outputs": [
    {
     "name": "stdout",
     "output_type": "stream",
     "text": [
      "133956  successful campaigns\n",
      "197719  failed campaigns\n",
      "0  cancelled campaigns\n"
     ]
    }
   ],
   "source": [
    "#Getting the count based on state\n",
    "successful_kickstarter = df_state_days[df_state_days['state'] == \"successful\"]\n",
    "failed_kickstarter = df_state_days[df_state_days['state'] == \"failed\"]\n",
    "cancelled_kickstarter = df_state_days[df_state_days['state'] == \"canceled\"]\n",
    "print(len(successful_kickstarter),\" successful campaigns\")\n",
    "print(len(failed_kickstarter),\" failed campaigns\")\n",
    "print(len(cancelled_kickstarter),\" cancelled campaigns\")"
   ]
  },
  {
   "cell_type": "code",
   "execution_count": 141,
   "id": "wgCmzFJlFm1I",
   "metadata": {
    "colab": {
     "base_uri": "https://localhost:8080/",
     "height": 550
    },
    "id": "wgCmzFJlFm1I",
    "outputId": "8ffba3ca-3a56-48a3-afa0-81e7144b1ed1"
   },
   "outputs": [
    {
     "data": {
      "image/png": "[encoded data removed]",
      "text/plain": [
       "<Figure size 576x576 with 1 Axes>"
      ]
     },
     "metadata": {
      "needs_background": "light"
     },
     "output_type": "display_data"
    }
   ],
   "source": [
    "#Plot for Distribution of time between launch and deadline for successful and failed campaigns\n",
    "n = 'launch_to_deadline_days'\n",
    "compare_L2D = pd.concat([df_state_days[n].apply(return_week_bins).value_counts(),successful_kickstarter[n].apply(return_week_bins).value_counts(),failed_kickstarter[n].apply(return_week_bins).value_counts()], axis=1)\n",
    "compare_L2D.columns = ['all','successful','failed']\n",
    "compare_L2D.loc['total'] = compare_L2D.sum(axis=0)\n",
    "\n",
    "def get_perc(val, col):\n",
    "    return (float(val) / float(compare_L2D[col]['total']))*100\n",
    "\n",
    "compare_L2D['all_perc'] = compare_L2D['all'].apply(get_perc, args=('all',))\n",
    "compare_L2D['success_perc'] = compare_L2D['successful'].apply(get_perc, args=('successful',))\n",
    "compare_L2D['failed_perc'] = compare_L2D['failed'].apply(get_perc, args=('failed',))\n",
    "#compare_L2D['cancelled_perc'] = compare_L2D['cancelled'].apply(get_perc, args=('cancelled',))\n",
    "\n",
    "compare_L2D[['success_perc','failed_perc']][:6].sort_index().plot(kind='bar', figsize=(8,8))\n",
    "plt.xticks(size = 12 )\n",
    "plt.yticks(size = 12 )\n",
    "plt.title(\"Distribution of time between launch and deadline for successful and failed campaigns\", fontdict = {'fontsize' : 12})\n",
    "plt.show()\n"
   ]
  },
  {
   "cell_type": "code",
   "execution_count": 142,
   "id": "OCMuHxCXFzkR",
   "metadata": {
    "colab": {
     "base_uri": "https://localhost:8080/",
     "height": 553
    },
    "id": "OCMuHxCXFzkR",
    "outputId": "d27b75fb-00be-47d7-e4e5-417f9dd83c56"
   },
   "outputs": [
    {
     "data": {
      "text/plain": [
       "<matplotlib.axes._subplots.AxesSubplot at 0x7f13a3a6e9d0>"
      ]
     },
     "execution_count": 142,
     "metadata": {},
     "output_type": "execute_result"
    },
    {
     "data": {
      "image/png": "[encoded data removed]",
      "text/plain": [
       "<Figure size 576x576 with 1 Axes>"
      ]
     },
     "metadata": {
      "needs_background": "light"
     },
     "output_type": "display_data"
    }
   ],
   "source": [
    "#Plot for project count based on main category\n",
    "df_state_days['main_category'].value_counts().plot(kind = 'bar', figsize=(8,8))"
   ]
  },
  {
   "cell_type": "markdown",
   "id": "-wWQ3DF8n3AW",
   "metadata": {
    "id": "-wWQ3DF8n3AW"
   },
   "source": [
    "# Data preprocessing"
   ]
  },
  {
   "cell_type": "markdown",
   "id": "hrTLlS7xZWZv",
   "metadata": {
    "id": "hrTLlS7xZWZv"
   },
   "source": [
    "## Checking Null Values"
   ]
  },
  {
   "cell_type": "code",
   "execution_count": 143,
   "id": "_MaHbb4fToc-",
   "metadata": {
    "colab": {
     "base_uri": "https://localhost:8080/"
    },
    "id": "_MaHbb4fToc-",
    "outputId": "25bd4dc4-835f-41b8-fb95-9908c0cdb7f9"
   },
   "outputs": [
    {
     "data": {
      "text/plain": [
       "ID                     0\n",
       "name                   4\n",
       "category               0\n",
       "main_category          0\n",
       "currency               0\n",
       "deadline               0\n",
       "goal                   0\n",
       "launched               0\n",
       "pledged                0\n",
       "state                  0\n",
       "backers                0\n",
       "country                0\n",
       "usd pledged         3797\n",
       "usd_pledged_real       0\n",
       "usd_goal_real          0\n",
       "dtype: int64"
      ]
     },
     "execution_count": 143,
     "metadata": {},
     "output_type": "execute_result"
    }
   ],
   "source": [
    "# Checking for null values in all the columns\n",
    "ks18.isnull().sum()"
   ]
  },
  {
   "cell_type": "code",
   "execution_count": 144,
   "id": "xnMOcQm2TuOL",
   "metadata": {
    "colab": {
     "base_uri": "https://localhost:8080/",
     "height": 351
    },
    "id": "xnMOcQm2TuOL",
    "outputId": "527193aa-2b57-4fd7-90d1-a8a4a01aa260"
   },
   "outputs": [
    {
     "data": {
      "text/html": [
       "<div>\n",
       "<style scoped>\n",
       "    .dataframe tbody tr th:only-of-type {\n",
       "        vertical-align: middle;\n",
       "    }\n",
       "\n",
       "    .dataframe tbody tr th {\n",
       "        vertical-align: top;\n",
       "    }\n",
       "\n",
       "    .dataframe thead th {\n",
       "        text-align: right;\n",
       "    }\n",
       "</style>\n",
       "<table border=\"1\" class=\"dataframe\">\n",
       "  <thead>\n",
       "    <tr style=\"text-align: right;\">\n",
       "      <th></th>\n",
       "      <th>ID</th>\n",
       "      <th>name</th>\n",
       "      <th>category</th>\n",
       "      <th>main_category</th>\n",
       "      <th>currency</th>\n",
       "      <th>deadline</th>\n",
       "      <th>goal</th>\n",
       "      <th>launched</th>\n",
       "      <th>pledged</th>\n",
       "      <th>state</th>\n",
       "      <th>backers</th>\n",
       "      <th>country</th>\n",
       "      <th>usd pledged</th>\n",
       "      <th>usd_pledged_real</th>\n",
       "      <th>usd_goal_real</th>\n",
       "    </tr>\n",
       "  </thead>\n",
       "  <tbody>\n",
       "    <tr>\n",
       "      <th>166851</th>\n",
       "      <td>1848699072</td>\n",
       "      <td>NaN</td>\n",
       "      <td>Narrative Film</td>\n",
       "      <td>Film &amp; Video</td>\n",
       "      <td>USD</td>\n",
       "      <td>2012-02-29</td>\n",
       "      <td>200000.0</td>\n",
       "      <td>2012-01-01 12:35:31</td>\n",
       "      <td>100.0</td>\n",
       "      <td>failed</td>\n",
       "      <td>1</td>\n",
       "      <td>US</td>\n",
       "      <td>100.00</td>\n",
       "      <td>100.00</td>\n",
       "      <td>200000.00</td>\n",
       "    </tr>\n",
       "    <tr>\n",
       "      <th>307234</th>\n",
       "      <td>634871725</td>\n",
       "      <td>NaN</td>\n",
       "      <td>Video Games</td>\n",
       "      <td>Games</td>\n",
       "      <td>GBP</td>\n",
       "      <td>2013-01-06</td>\n",
       "      <td>2000.0</td>\n",
       "      <td>2012-12-19 23:57:48</td>\n",
       "      <td>196.0</td>\n",
       "      <td>failed</td>\n",
       "      <td>12</td>\n",
       "      <td>GB</td>\n",
       "      <td>317.73</td>\n",
       "      <td>316.05</td>\n",
       "      <td>3224.97</td>\n",
       "    </tr>\n",
       "    <tr>\n",
       "      <th>309991</th>\n",
       "      <td>648853978</td>\n",
       "      <td>NaN</td>\n",
       "      <td>Product Design</td>\n",
       "      <td>Design</td>\n",
       "      <td>USD</td>\n",
       "      <td>2016-07-18</td>\n",
       "      <td>2500.0</td>\n",
       "      <td>2016-06-18 05:01:47</td>\n",
       "      <td>0.0</td>\n",
       "      <td>suspended</td>\n",
       "      <td>0</td>\n",
       "      <td>US</td>\n",
       "      <td>0.00</td>\n",
       "      <td>0.00</td>\n",
       "      <td>2500.00</td>\n",
       "    </tr>\n",
       "    <tr>\n",
       "      <th>338931</th>\n",
       "      <td>796533179</td>\n",
       "      <td>NaN</td>\n",
       "      <td>Painting</td>\n",
       "      <td>Art</td>\n",
       "      <td>USD</td>\n",
       "      <td>2011-12-05</td>\n",
       "      <td>35000.0</td>\n",
       "      <td>2011-11-06 23:55:55</td>\n",
       "      <td>220.0</td>\n",
       "      <td>failed</td>\n",
       "      <td>5</td>\n",
       "      <td>US</td>\n",
       "      <td>220.00</td>\n",
       "      <td>220.00</td>\n",
       "      <td>35000.00</td>\n",
       "    </tr>\n",
       "  </tbody>\n",
       "</table>\n",
       "</div>"
      ],
      "text/plain": [
       "                ID name  ... usd_pledged_real usd_goal_real\n",
       "166851  1848699072  NaN  ...           100.00     200000.00\n",
       "307234   634871725  NaN  ...           316.05       3224.97\n",
       "309991   648853978  NaN  ...             0.00       2500.00\n",
       "338931   796533179  NaN  ...           220.00      35000.00\n",
       "\n",
       "[4 rows x 15 columns]"
      ]
     },
     "execution_count": 144,
     "metadata": {},
     "output_type": "execute_result"
    }
   ],
   "source": [
    "# Checking null values in 'name' column\n",
    "ks18[ks18['name'].isnull()]"
   ]
  },
  {
   "cell_type": "markdown",
   "id": "mLAYo-GpZpM0",
   "metadata": {
    "id": "mLAYo-GpZpM0"
   },
   "source": [
    "## Filling Null Values"
   ]
  },
  {
   "cell_type": "code",
   "execution_count": 145,
   "id": "lDh0_dBWUTRM",
   "metadata": {
    "id": "lDh0_dBWUTRM"
   },
   "outputs": [],
   "source": [
    "#Filling the null values with Dummy name\n",
    "ks18['name'].fillna('Dummy', inplace = True)"
   ]
  },
  {
   "cell_type": "code",
   "execution_count": 146,
   "id": "AL1jhT2wU4ha",
   "metadata": {
    "colab": {
     "base_uri": "https://localhost:8080/"
    },
    "id": "AL1jhT2wU4ha",
    "outputId": "328a09b1-2d1f-4af4-a886-f951ab6de3b4"
   },
   "outputs": [
    {
     "data": {
      "text/plain": [
       "ID                     0\n",
       "name                   0\n",
       "category               0\n",
       "main_category          0\n",
       "currency               0\n",
       "deadline               0\n",
       "goal                   0\n",
       "launched               0\n",
       "pledged                0\n",
       "state                  0\n",
       "backers                0\n",
       "country                0\n",
       "usd pledged         3797\n",
       "usd_pledged_real       0\n",
       "usd_goal_real          0\n",
       "dtype: int64"
      ]
     },
     "execution_count": 146,
     "metadata": {},
     "output_type": "execute_result"
    }
   ],
   "source": [
    "#Rechecking the null values\n",
    "ks18.isnull().sum()"
   ]
  },
  {
   "cell_type": "markdown",
   "id": "iHJWQBzGQ3bV",
   "metadata": {
    "id": "iHJWQBzGQ3bV"
   },
   "source": [
    "First, we considered to separate the values based on usd pledged column but then in the end we dropped this column, Since, the corrected values are presened in the usd_pledged_real column. Therefore, commenting the code"
   ]
  },
  {
   "cell_type": "code",
   "execution_count": 147,
   "id": "rqcdMewFU9Nc",
   "metadata": {
    "id": "rqcdMewFU9Nc"
   },
   "outputs": [],
   "source": [
    "# #Checking null values in 'usd pledged' column\n",
    "# df_usd_pl_null = ks18[ks18['usd pledged'].isnull()]\n",
    "# df_usd_pl_null"
   ]
  },
  {
   "cell_type": "code",
   "execution_count": 148,
   "id": "rxg0tODnW000",
   "metadata": {
    "id": "rxg0tODnW000"
   },
   "outputs": [],
   "source": [
    "# df_usd_pl_null[df_usd_pl_null.state != 'undefined']"
   ]
  },
  {
   "cell_type": "code",
   "execution_count": 149,
   "id": "zY-j-QjpW7dY",
   "metadata": {
    "id": "zY-j-QjpW7dY"
   },
   "outputs": [],
   "source": [
    "# df_usd_pl_not_null = ks18[~ks18['usd pledged'].isnull()]"
   ]
  },
  {
   "cell_type": "code",
   "execution_count": 150,
   "id": "u-xRyOA5X8tv",
   "metadata": {
    "id": "u-xRyOA5X8tv"
   },
   "outputs": [],
   "source": [
    "# df_usd_pl_not_null.isnull().sum()"
   ]
  },
  {
   "cell_type": "code",
   "execution_count": 151,
   "id": "yaSZEct4WgTr",
   "metadata": {
    "id": "yaSZEct4WgTr"
   },
   "outputs": [],
   "source": [
    "# df_usd_pl_not_null.dtypes"
   ]
  },
  {
   "cell_type": "code",
   "execution_count": 152,
   "id": "I3PZSWyoWPHz",
   "metadata": {
    "id": "I3PZSWyoWPHz"
   },
   "outputs": [],
   "source": [
    "# df_usd_pl_not_null[df_usd_pl_not_null['usd pledged'] != df_usd_pl_not_null['usd_pledged_real']].sample(10)"
   ]
  },
  {
   "cell_type": "markdown",
   "id": "-T3qwKBLoqrJ",
   "metadata": {
    "id": "-T3qwKBLoqrJ"
   },
   "source": [
    "## Droppping Unnecessary Columns"
   ]
  },
  {
   "cell_type": "code",
   "execution_count": 153,
   "id": "lG65VyEybAl-",
   "metadata": {
    "id": "lG65VyEybAl-"
   },
   "outputs": [],
   "source": [
    "# Droppping columns = 'name' & 'category' \n",
    "# Dropping 'usd pledged' as the correct data is recorded in 'usd_pledged_real'\n",
    " \n",
    "ks18.drop(columns=['ID','name','category','usd pledged','currency','goal','pledged'], axis = 1, inplace = True)"
   ]
  },
  {
   "cell_type": "code",
   "execution_count": 154,
   "id": "INlEn3DoV5T7",
   "metadata": {
    "colab": {
     "base_uri": "https://localhost:8080/",
     "height": 363
    },
    "id": "INlEn3DoV5T7",
    "outputId": "2ee6e260-c124-48e6-f5d7-6ec17e2017d8"
   },
   "outputs": [
    {
     "data": {
      "text/html": [
       "<div>\n",
       "<style scoped>\n",
       "    .dataframe tbody tr th:only-of-type {\n",
       "        vertical-align: middle;\n",
       "    }\n",
       "\n",
       "    .dataframe tbody tr th {\n",
       "        vertical-align: top;\n",
       "    }\n",
       "\n",
       "    .dataframe thead th {\n",
       "        text-align: right;\n",
       "    }\n",
       "</style>\n",
       "<table border=\"1\" class=\"dataframe\">\n",
       "  <thead>\n",
       "    <tr style=\"text-align: right;\">\n",
       "      <th></th>\n",
       "      <th>main_category</th>\n",
       "      <th>deadline</th>\n",
       "      <th>launched</th>\n",
       "      <th>state</th>\n",
       "      <th>backers</th>\n",
       "      <th>country</th>\n",
       "      <th>usd_pledged_real</th>\n",
       "      <th>usd_goal_real</th>\n",
       "    </tr>\n",
       "  </thead>\n",
       "  <tbody>\n",
       "    <tr>\n",
       "      <th>21468</th>\n",
       "      <td>Film &amp; Video</td>\n",
       "      <td>2012-10-31</td>\n",
       "      <td>2012-10-02 00:20:53</td>\n",
       "      <td>canceled</td>\n",
       "      <td>0</td>\n",
       "      <td>US</td>\n",
       "      <td>0.00</td>\n",
       "      <td>5000.00</td>\n",
       "    </tr>\n",
       "    <tr>\n",
       "      <th>12484</th>\n",
       "      <td>Theater</td>\n",
       "      <td>2016-08-05</td>\n",
       "      <td>2016-07-07 13:41:19</td>\n",
       "      <td>failed</td>\n",
       "      <td>6</td>\n",
       "      <td>GB</td>\n",
       "      <td>106.55</td>\n",
       "      <td>1315.41</td>\n",
       "    </tr>\n",
       "    <tr>\n",
       "      <th>11903</th>\n",
       "      <td>Theater</td>\n",
       "      <td>2012-07-08</td>\n",
       "      <td>2012-06-08 13:58:59</td>\n",
       "      <td>successful</td>\n",
       "      <td>55</td>\n",
       "      <td>US</td>\n",
       "      <td>4229.00</td>\n",
       "      <td>4000.00</td>\n",
       "    </tr>\n",
       "    <tr>\n",
       "      <th>72045</th>\n",
       "      <td>Music</td>\n",
       "      <td>2015-11-06</td>\n",
       "      <td>2015-10-07 18:23:04</td>\n",
       "      <td>undefined</td>\n",
       "      <td>0</td>\n",
       "      <td>N,0\"</td>\n",
       "      <td>0.00</td>\n",
       "      <td>3259.20</td>\n",
       "    </tr>\n",
       "    <tr>\n",
       "      <th>178794</th>\n",
       "      <td>Art</td>\n",
       "      <td>2013-11-16</td>\n",
       "      <td>2013-10-22 10:02:18</td>\n",
       "      <td>failed</td>\n",
       "      <td>0</td>\n",
       "      <td>US</td>\n",
       "      <td>0.00</td>\n",
       "      <td>535000.00</td>\n",
       "    </tr>\n",
       "    <tr>\n",
       "      <th>80472</th>\n",
       "      <td>Art</td>\n",
       "      <td>2017-11-13</td>\n",
       "      <td>2017-10-17 02:34:16</td>\n",
       "      <td>failed</td>\n",
       "      <td>6</td>\n",
       "      <td>AU</td>\n",
       "      <td>211.27</td>\n",
       "      <td>2139.14</td>\n",
       "    </tr>\n",
       "    <tr>\n",
       "      <th>73345</th>\n",
       "      <td>Publishing</td>\n",
       "      <td>2014-04-18</td>\n",
       "      <td>2014-03-19 22:02:03</td>\n",
       "      <td>successful</td>\n",
       "      <td>19</td>\n",
       "      <td>US</td>\n",
       "      <td>655.00</td>\n",
       "      <td>550.00</td>\n",
       "    </tr>\n",
       "    <tr>\n",
       "      <th>214615</th>\n",
       "      <td>Food</td>\n",
       "      <td>2015-02-22</td>\n",
       "      <td>2015-01-23 19:35:57</td>\n",
       "      <td>failed</td>\n",
       "      <td>2</td>\n",
       "      <td>US</td>\n",
       "      <td>2.00</td>\n",
       "      <td>32000.00</td>\n",
       "    </tr>\n",
       "    <tr>\n",
       "      <th>84629</th>\n",
       "      <td>Games</td>\n",
       "      <td>2013-10-25</td>\n",
       "      <td>2013-09-25 18:12:24</td>\n",
       "      <td>failed</td>\n",
       "      <td>139</td>\n",
       "      <td>CA</td>\n",
       "      <td>5333.40</td>\n",
       "      <td>21076.83</td>\n",
       "    </tr>\n",
       "    <tr>\n",
       "      <th>272431</th>\n",
       "      <td>Food</td>\n",
       "      <td>2014-08-13</td>\n",
       "      <td>2014-07-14 19:49:58</td>\n",
       "      <td>failed</td>\n",
       "      <td>0</td>\n",
       "      <td>US</td>\n",
       "      <td>0.00</td>\n",
       "      <td>8000.00</td>\n",
       "    </tr>\n",
       "  </tbody>\n",
       "</table>\n",
       "</div>"
      ],
      "text/plain": [
       "       main_category    deadline  ... usd_pledged_real usd_goal_real\n",
       "21468   Film & Video  2012-10-31  ...             0.00       5000.00\n",
       "12484        Theater  2016-08-05  ...           106.55       1315.41\n",
       "11903        Theater  2012-07-08  ...          4229.00       4000.00\n",
       "72045          Music  2015-11-06  ...             0.00       3259.20\n",
       "178794           Art  2013-11-16  ...             0.00     535000.00\n",
       "80472            Art  2017-11-13  ...           211.27       2139.14\n",
       "73345     Publishing  2014-04-18  ...           655.00        550.00\n",
       "214615          Food  2015-02-22  ...             2.00      32000.00\n",
       "84629          Games  2013-10-25  ...          5333.40      21076.83\n",
       "272431          Food  2014-08-13  ...             0.00       8000.00\n",
       "\n",
       "[10 rows x 8 columns]"
      ]
     },
     "execution_count": 154,
     "metadata": {},
     "output_type": "execute_result"
    }
   ],
   "source": [
    "#Printing the sample of the dataframe\n",
    "ks18.sample(10)"
   ]
  },
  {
   "cell_type": "code",
   "execution_count": 155,
   "id": "ce0keVqQV0I6",
   "metadata": {
    "colab": {
     "base_uri": "https://localhost:8080/"
    },
    "id": "ce0keVqQV0I6",
    "outputId": "c67452b0-a7bc-42e7-fa5d-22069dbc32b8"
   },
   "outputs": [
    {
     "data": {
      "text/plain": [
       "main_category       0\n",
       "deadline            0\n",
       "launched            0\n",
       "state               0\n",
       "backers             0\n",
       "country             0\n",
       "usd_pledged_real    0\n",
       "usd_goal_real       0\n",
       "dtype: int64"
      ]
     },
     "execution_count": 155,
     "metadata": {},
     "output_type": "execute_result"
    }
   ],
   "source": [
    "#Crosschecking for null values\n",
    "ks18.isnull().sum()"
   ]
  },
  {
   "cell_type": "markdown",
   "id": "ZuNotspAa1TK",
   "metadata": {
    "id": "ZuNotspAa1TK"
   },
   "source": [
    "## Cleaning the Target Variable"
   ]
  },
  {
   "cell_type": "code",
   "execution_count": 156,
   "id": "rZeymKUiVloq",
   "metadata": {
    "colab": {
     "base_uri": "https://localhost:8080/"
    },
    "id": "rZeymKUiVloq",
    "outputId": "4cf147cb-11b4-4833-e92e-1efa630dbeef"
   },
   "outputs": [
    {
     "data": {
      "text/plain": [
       "array(['failed', 'canceled', 'successful', 'live', 'undefined',\n",
       "       'suspended'], dtype=object)"
      ]
     },
     "execution_count": 156,
     "metadata": {},
     "output_type": "execute_result"
    }
   ],
   "source": [
    "#Determing the unique values of state column\n",
    "ks18.state.unique()"
   ]
  },
  {
   "cell_type": "code",
   "execution_count": 157,
   "id": "wdQZEZwXiKBa",
   "metadata": {
    "colab": {
     "base_uri": "https://localhost:8080/"
    },
    "id": "wdQZEZwXiKBa",
    "outputId": "d0fadba8-2480-449d-e9ab-b30af7868ed8"
   },
   "outputs": [
    {
     "data": {
      "text/plain": [
       "(378661, 8)"
      ]
     },
     "execution_count": 157,
     "metadata": {},
     "output_type": "execute_result"
    }
   ],
   "source": [
    "#Printing the shape of the dataframe\n",
    "ks18.shape"
   ]
  },
  {
   "cell_type": "code",
   "execution_count": 158,
   "id": "KbdkekuzVHLq",
   "metadata": {
    "colab": {
     "base_uri": "https://localhost:8080/",
     "height": 363
    },
    "id": "KbdkekuzVHLq",
    "outputId": "76ed84c7-5f0a-45b9-a62f-fa9cfdf76831"
   },
   "outputs": [
    {
     "data": {
      "text/html": [
       "<div>\n",
       "<style scoped>\n",
       "    .dataframe tbody tr th:only-of-type {\n",
       "        vertical-align: middle;\n",
       "    }\n",
       "\n",
       "    .dataframe tbody tr th {\n",
       "        vertical-align: top;\n",
       "    }\n",
       "\n",
       "    .dataframe thead th {\n",
       "        text-align: right;\n",
       "    }\n",
       "</style>\n",
       "<table border=\"1\" class=\"dataframe\">\n",
       "  <thead>\n",
       "    <tr style=\"text-align: right;\">\n",
       "      <th></th>\n",
       "      <th>main_category</th>\n",
       "      <th>deadline</th>\n",
       "      <th>launched</th>\n",
       "      <th>state</th>\n",
       "      <th>backers</th>\n",
       "      <th>country</th>\n",
       "      <th>usd_pledged_real</th>\n",
       "      <th>usd_goal_real</th>\n",
       "    </tr>\n",
       "  </thead>\n",
       "  <tbody>\n",
       "    <tr>\n",
       "      <th>161479</th>\n",
       "      <td>Art</td>\n",
       "      <td>2016-05-20</td>\n",
       "      <td>2016-04-27 10:21:55</td>\n",
       "      <td>successful</td>\n",
       "      <td>57</td>\n",
       "      <td>GB</td>\n",
       "      <td>1704.52</td>\n",
       "      <td>1456.86</td>\n",
       "    </tr>\n",
       "    <tr>\n",
       "      <th>58542</th>\n",
       "      <td>Film &amp; Video</td>\n",
       "      <td>2016-12-08</td>\n",
       "      <td>2016-11-08 21:00:49</td>\n",
       "      <td>failed</td>\n",
       "      <td>4</td>\n",
       "      <td>US</td>\n",
       "      <td>39.00</td>\n",
       "      <td>8000.00</td>\n",
       "    </tr>\n",
       "    <tr>\n",
       "      <th>223538</th>\n",
       "      <td>Food</td>\n",
       "      <td>2017-06-23</td>\n",
       "      <td>2017-05-24 08:40:55</td>\n",
       "      <td>failed</td>\n",
       "      <td>0</td>\n",
       "      <td>FR</td>\n",
       "      <td>0.00</td>\n",
       "      <td>11173.06</td>\n",
       "    </tr>\n",
       "    <tr>\n",
       "      <th>46134</th>\n",
       "      <td>Film &amp; Video</td>\n",
       "      <td>2012-10-31</td>\n",
       "      <td>2012-10-01 01:40:01</td>\n",
       "      <td>successful</td>\n",
       "      <td>22</td>\n",
       "      <td>US</td>\n",
       "      <td>5130.00</td>\n",
       "      <td>5000.00</td>\n",
       "    </tr>\n",
       "    <tr>\n",
       "      <th>65279</th>\n",
       "      <td>Dance</td>\n",
       "      <td>2014-02-03</td>\n",
       "      <td>2014-01-04 11:13:53</td>\n",
       "      <td>failed</td>\n",
       "      <td>12</td>\n",
       "      <td>US</td>\n",
       "      <td>1026.00</td>\n",
       "      <td>4000.00</td>\n",
       "    </tr>\n",
       "    <tr>\n",
       "      <th>62005</th>\n",
       "      <td>Food</td>\n",
       "      <td>2014-12-16</td>\n",
       "      <td>2014-10-17 16:51:38</td>\n",
       "      <td>failed</td>\n",
       "      <td>4</td>\n",
       "      <td>US</td>\n",
       "      <td>100.00</td>\n",
       "      <td>25000.00</td>\n",
       "    </tr>\n",
       "    <tr>\n",
       "      <th>165854</th>\n",
       "      <td>Fashion</td>\n",
       "      <td>2014-10-13</td>\n",
       "      <td>2014-09-13 00:49:33</td>\n",
       "      <td>failed</td>\n",
       "      <td>1</td>\n",
       "      <td>US</td>\n",
       "      <td>60.00</td>\n",
       "      <td>32000.00</td>\n",
       "    </tr>\n",
       "    <tr>\n",
       "      <th>343229</th>\n",
       "      <td>Film &amp; Video</td>\n",
       "      <td>2014-12-06</td>\n",
       "      <td>2014-11-06 00:21:50</td>\n",
       "      <td>successful</td>\n",
       "      <td>103</td>\n",
       "      <td>GB</td>\n",
       "      <td>12647.87</td>\n",
       "      <td>12567.75</td>\n",
       "    </tr>\n",
       "    <tr>\n",
       "      <th>199970</th>\n",
       "      <td>Games</td>\n",
       "      <td>2017-02-04</td>\n",
       "      <td>2017-01-05 16:04:04</td>\n",
       "      <td>successful</td>\n",
       "      <td>255</td>\n",
       "      <td>US</td>\n",
       "      <td>10523.00</td>\n",
       "      <td>10000.00</td>\n",
       "    </tr>\n",
       "    <tr>\n",
       "      <th>597</th>\n",
       "      <td>Food</td>\n",
       "      <td>2013-08-22</td>\n",
       "      <td>2013-07-23 18:18:09</td>\n",
       "      <td>successful</td>\n",
       "      <td>443</td>\n",
       "      <td>US</td>\n",
       "      <td>102937.00</td>\n",
       "      <td>100000.00</td>\n",
       "    </tr>\n",
       "  </tbody>\n",
       "</table>\n",
       "</div>"
      ],
      "text/plain": [
       "       main_category    deadline  ... usd_pledged_real usd_goal_real\n",
       "161479           Art  2016-05-20  ...          1704.52       1456.86\n",
       "58542   Film & Video  2016-12-08  ...            39.00       8000.00\n",
       "223538          Food  2017-06-23  ...             0.00      11173.06\n",
       "46134   Film & Video  2012-10-31  ...          5130.00       5000.00\n",
       "65279          Dance  2014-02-03  ...          1026.00       4000.00\n",
       "62005           Food  2014-12-16  ...           100.00      25000.00\n",
       "165854       Fashion  2014-10-13  ...            60.00      32000.00\n",
       "343229  Film & Video  2014-12-06  ...         12647.87      12567.75\n",
       "199970         Games  2017-02-04  ...         10523.00      10000.00\n",
       "597             Food  2013-08-22  ...        102937.00     100000.00\n",
       "\n",
       "[10 rows x 8 columns]"
      ]
     },
     "execution_count": 158,
     "metadata": {},
     "output_type": "execute_result"
    }
   ],
   "source": [
    "# Discarding records for 'live', 'canceled', 'undefined', 'suspended' projects\n",
    "\n",
    "ks18 = ks18[ks18['state'].isin(['failed', 'successful'])]\n",
    "ks18.sample(10)"
   ]
  },
  {
   "cell_type": "markdown",
   "id": "BnVC0DzwfYbY",
   "metadata": {
    "id": "BnVC0DzwfYbY"
   },
   "source": [
    "## Converting the Categorical Variables"
   ]
  },
  {
   "cell_type": "code",
   "execution_count": 159,
   "id": "iZj6-mN1GrJD",
   "metadata": {
    "colab": {
     "base_uri": "https://localhost:8080/",
     "height": 597
    },
    "id": "iZj6-mN1GrJD",
    "outputId": "1aa74fdd-73d6-46de-fc30-95dc31942ddc"
   },
   "outputs": [
    {
     "data": {
      "text/html": [
       "<div>\n",
       "<style scoped>\n",
       "    .dataframe tbody tr th:only-of-type {\n",
       "        vertical-align: middle;\n",
       "    }\n",
       "\n",
       "    .dataframe tbody tr th {\n",
       "        vertical-align: top;\n",
       "    }\n",
       "\n",
       "    .dataframe thead th {\n",
       "        text-align: right;\n",
       "    }\n",
       "</style>\n",
       "<table border=\"1\" class=\"dataframe\">\n",
       "  <thead>\n",
       "    <tr style=\"text-align: right;\">\n",
       "      <th></th>\n",
       "      <th>main_category</th>\n",
       "      <th>deadline</th>\n",
       "      <th>launched</th>\n",
       "      <th>state</th>\n",
       "      <th>backers</th>\n",
       "      <th>country</th>\n",
       "      <th>usd_pledged_real</th>\n",
       "      <th>usd_goal_real</th>\n",
       "      <th>state_output</th>\n",
       "    </tr>\n",
       "  </thead>\n",
       "  <tbody>\n",
       "    <tr>\n",
       "      <th>0</th>\n",
       "      <td>Publishing</td>\n",
       "      <td>2015-10-09</td>\n",
       "      <td>2015-08-11 12:12:28</td>\n",
       "      <td>failed</td>\n",
       "      <td>0</td>\n",
       "      <td>GB</td>\n",
       "      <td>0.0</td>\n",
       "      <td>1533.95</td>\n",
       "      <td>0</td>\n",
       "    </tr>\n",
       "    <tr>\n",
       "      <th>1</th>\n",
       "      <td>Film &amp; Video</td>\n",
       "      <td>2017-11-01</td>\n",
       "      <td>2017-09-02 04:43:57</td>\n",
       "      <td>failed</td>\n",
       "      <td>15</td>\n",
       "      <td>US</td>\n",
       "      <td>2421.0</td>\n",
       "      <td>30000.00</td>\n",
       "      <td>0</td>\n",
       "    </tr>\n",
       "    <tr>\n",
       "      <th>2</th>\n",
       "      <td>Film &amp; Video</td>\n",
       "      <td>2013-02-26</td>\n",
       "      <td>2013-01-12 00:20:50</td>\n",
       "      <td>failed</td>\n",
       "      <td>3</td>\n",
       "      <td>US</td>\n",
       "      <td>220.0</td>\n",
       "      <td>45000.00</td>\n",
       "      <td>0</td>\n",
       "    </tr>\n",
       "    <tr>\n",
       "      <th>3</th>\n",
       "      <td>Music</td>\n",
       "      <td>2012-04-16</td>\n",
       "      <td>2012-03-17 03:24:11</td>\n",
       "      <td>failed</td>\n",
       "      <td>1</td>\n",
       "      <td>US</td>\n",
       "      <td>1.0</td>\n",
       "      <td>5000.00</td>\n",
       "      <td>0</td>\n",
       "    </tr>\n",
       "    <tr>\n",
       "      <th>5</th>\n",
       "      <td>Food</td>\n",
       "      <td>2016-04-01</td>\n",
       "      <td>2016-02-26 13:38:27</td>\n",
       "      <td>successful</td>\n",
       "      <td>224</td>\n",
       "      <td>US</td>\n",
       "      <td>52375.0</td>\n",
       "      <td>50000.00</td>\n",
       "      <td>1</td>\n",
       "    </tr>\n",
       "    <tr>\n",
       "      <th>...</th>\n",
       "      <td>...</td>\n",
       "      <td>...</td>\n",
       "      <td>...</td>\n",
       "      <td>...</td>\n",
       "      <td>...</td>\n",
       "      <td>...</td>\n",
       "      <td>...</td>\n",
       "      <td>...</td>\n",
       "      <td>...</td>\n",
       "    </tr>\n",
       "    <tr>\n",
       "      <th>378654</th>\n",
       "      <td>Food</td>\n",
       "      <td>2017-04-19</td>\n",
       "      <td>2017-03-20 22:08:22</td>\n",
       "      <td>failed</td>\n",
       "      <td>4</td>\n",
       "      <td>US</td>\n",
       "      <td>154.0</td>\n",
       "      <td>6500.00</td>\n",
       "      <td>0</td>\n",
       "    </tr>\n",
       "    <tr>\n",
       "      <th>378657</th>\n",
       "      <td>Film &amp; Video</td>\n",
       "      <td>2011-07-19</td>\n",
       "      <td>2011-06-22 03:35:14</td>\n",
       "      <td>failed</td>\n",
       "      <td>5</td>\n",
       "      <td>US</td>\n",
       "      <td>155.0</td>\n",
       "      <td>1500.00</td>\n",
       "      <td>0</td>\n",
       "    </tr>\n",
       "    <tr>\n",
       "      <th>378658</th>\n",
       "      <td>Film &amp; Video</td>\n",
       "      <td>2010-08-16</td>\n",
       "      <td>2010-07-01 19:40:30</td>\n",
       "      <td>failed</td>\n",
       "      <td>1</td>\n",
       "      <td>US</td>\n",
       "      <td>20.0</td>\n",
       "      <td>15000.00</td>\n",
       "      <td>0</td>\n",
       "    </tr>\n",
       "    <tr>\n",
       "      <th>378659</th>\n",
       "      <td>Technology</td>\n",
       "      <td>2016-02-13</td>\n",
       "      <td>2016-01-13 18:13:53</td>\n",
       "      <td>failed</td>\n",
       "      <td>6</td>\n",
       "      <td>US</td>\n",
       "      <td>200.0</td>\n",
       "      <td>15000.00</td>\n",
       "      <td>0</td>\n",
       "    </tr>\n",
       "    <tr>\n",
       "      <th>378660</th>\n",
       "      <td>Art</td>\n",
       "      <td>2011-08-16</td>\n",
       "      <td>2011-07-19 09:07:47</td>\n",
       "      <td>failed</td>\n",
       "      <td>17</td>\n",
       "      <td>US</td>\n",
       "      <td>524.0</td>\n",
       "      <td>2000.00</td>\n",
       "      <td>0</td>\n",
       "    </tr>\n",
       "  </tbody>\n",
       "</table>\n",
       "<p>331675 rows × 9 columns</p>\n",
       "</div>"
      ],
      "text/plain": [
       "       main_category    deadline  ... usd_goal_real state_output\n",
       "0         Publishing  2015-10-09  ...       1533.95            0\n",
       "1       Film & Video  2017-11-01  ...      30000.00            0\n",
       "2       Film & Video  2013-02-26  ...      45000.00            0\n",
       "3              Music  2012-04-16  ...       5000.00            0\n",
       "5               Food  2016-04-01  ...      50000.00            1\n",
       "...              ...         ...  ...           ...          ...\n",
       "378654          Food  2017-04-19  ...       6500.00            0\n",
       "378657  Film & Video  2011-07-19  ...       1500.00            0\n",
       "378658  Film & Video  2010-08-16  ...      15000.00            0\n",
       "378659    Technology  2016-02-13  ...      15000.00            0\n",
       "378660           Art  2011-08-16  ...       2000.00            0\n",
       "\n",
       "[331675 rows x 9 columns]"
      ]
     },
     "execution_count": 159,
     "metadata": {},
     "output_type": "execute_result"
    }
   ],
   "source": [
    "#Assigning Successful as 1 and failed as 0\n",
    "ks18 = ks18.assign(state_output = (ks18['state'] == 'successful').astype(int))\n",
    "ks18"
   ]
  },
  {
   "cell_type": "code",
   "execution_count": 160,
   "id": "xcJyrUpprrUJ",
   "metadata": {
    "colab": {
     "base_uri": "https://localhost:8080/",
     "height": 424
    },
    "id": "xcJyrUpprrUJ",
    "outputId": "4093fcb7-83fd-4af3-ee05-f5b33e8b01da"
   },
   "outputs": [
    {
     "data": {
      "text/html": [
       "<div>\n",
       "<style scoped>\n",
       "    .dataframe tbody tr th:only-of-type {\n",
       "        vertical-align: middle;\n",
       "    }\n",
       "\n",
       "    .dataframe tbody tr th {\n",
       "        vertical-align: top;\n",
       "    }\n",
       "\n",
       "    .dataframe thead th {\n",
       "        text-align: right;\n",
       "    }\n",
       "</style>\n",
       "<table border=\"1\" class=\"dataframe\">\n",
       "  <thead>\n",
       "    <tr style=\"text-align: right;\">\n",
       "      <th></th>\n",
       "      <th>main_category</th>\n",
       "      <th>deadline</th>\n",
       "      <th>launched</th>\n",
       "      <th>backers</th>\n",
       "      <th>country</th>\n",
       "      <th>usd_pledged_real</th>\n",
       "      <th>usd_goal_real</th>\n",
       "      <th>state_output</th>\n",
       "    </tr>\n",
       "  </thead>\n",
       "  <tbody>\n",
       "    <tr>\n",
       "      <th>0</th>\n",
       "      <td>Publishing</td>\n",
       "      <td>2015-10-09</td>\n",
       "      <td>2015-08-11 12:12:28</td>\n",
       "      <td>0</td>\n",
       "      <td>GB</td>\n",
       "      <td>0.0</td>\n",
       "      <td>1533.95</td>\n",
       "      <td>0</td>\n",
       "    </tr>\n",
       "    <tr>\n",
       "      <th>1</th>\n",
       "      <td>Film &amp; Video</td>\n",
       "      <td>2017-11-01</td>\n",
       "      <td>2017-09-02 04:43:57</td>\n",
       "      <td>15</td>\n",
       "      <td>US</td>\n",
       "      <td>2421.0</td>\n",
       "      <td>30000.00</td>\n",
       "      <td>0</td>\n",
       "    </tr>\n",
       "    <tr>\n",
       "      <th>2</th>\n",
       "      <td>Film &amp; Video</td>\n",
       "      <td>2013-02-26</td>\n",
       "      <td>2013-01-12 00:20:50</td>\n",
       "      <td>3</td>\n",
       "      <td>US</td>\n",
       "      <td>220.0</td>\n",
       "      <td>45000.00</td>\n",
       "      <td>0</td>\n",
       "    </tr>\n",
       "    <tr>\n",
       "      <th>3</th>\n",
       "      <td>Music</td>\n",
       "      <td>2012-04-16</td>\n",
       "      <td>2012-03-17 03:24:11</td>\n",
       "      <td>1</td>\n",
       "      <td>US</td>\n",
       "      <td>1.0</td>\n",
       "      <td>5000.00</td>\n",
       "      <td>0</td>\n",
       "    </tr>\n",
       "    <tr>\n",
       "      <th>5</th>\n",
       "      <td>Food</td>\n",
       "      <td>2016-04-01</td>\n",
       "      <td>2016-02-26 13:38:27</td>\n",
       "      <td>224</td>\n",
       "      <td>US</td>\n",
       "      <td>52375.0</td>\n",
       "      <td>50000.00</td>\n",
       "      <td>1</td>\n",
       "    </tr>\n",
       "    <tr>\n",
       "      <th>...</th>\n",
       "      <td>...</td>\n",
       "      <td>...</td>\n",
       "      <td>...</td>\n",
       "      <td>...</td>\n",
       "      <td>...</td>\n",
       "      <td>...</td>\n",
       "      <td>...</td>\n",
       "      <td>...</td>\n",
       "    </tr>\n",
       "    <tr>\n",
       "      <th>378654</th>\n",
       "      <td>Food</td>\n",
       "      <td>2017-04-19</td>\n",
       "      <td>2017-03-20 22:08:22</td>\n",
       "      <td>4</td>\n",
       "      <td>US</td>\n",
       "      <td>154.0</td>\n",
       "      <td>6500.00</td>\n",
       "      <td>0</td>\n",
       "    </tr>\n",
       "    <tr>\n",
       "      <th>378657</th>\n",
       "      <td>Film &amp; Video</td>\n",
       "      <td>2011-07-19</td>\n",
       "      <td>2011-06-22 03:35:14</td>\n",
       "      <td>5</td>\n",
       "      <td>US</td>\n",
       "      <td>155.0</td>\n",
       "      <td>1500.00</td>\n",
       "      <td>0</td>\n",
       "    </tr>\n",
       "    <tr>\n",
       "      <th>378658</th>\n",
       "      <td>Film &amp; Video</td>\n",
       "      <td>2010-08-16</td>\n",
       "      <td>2010-07-01 19:40:30</td>\n",
       "      <td>1</td>\n",
       "      <td>US</td>\n",
       "      <td>20.0</td>\n",
       "      <td>15000.00</td>\n",
       "      <td>0</td>\n",
       "    </tr>\n",
       "    <tr>\n",
       "      <th>378659</th>\n",
       "      <td>Technology</td>\n",
       "      <td>2016-02-13</td>\n",
       "      <td>2016-01-13 18:13:53</td>\n",
       "      <td>6</td>\n",
       "      <td>US</td>\n",
       "      <td>200.0</td>\n",
       "      <td>15000.00</td>\n",
       "      <td>0</td>\n",
       "    </tr>\n",
       "    <tr>\n",
       "      <th>378660</th>\n",
       "      <td>Art</td>\n",
       "      <td>2011-08-16</td>\n",
       "      <td>2011-07-19 09:07:47</td>\n",
       "      <td>17</td>\n",
       "      <td>US</td>\n",
       "      <td>524.0</td>\n",
       "      <td>2000.00</td>\n",
       "      <td>0</td>\n",
       "    </tr>\n",
       "  </tbody>\n",
       "</table>\n",
       "<p>331675 rows × 8 columns</p>\n",
       "</div>"
      ],
      "text/plain": [
       "       main_category    deadline  ... usd_goal_real  state_output\n",
       "0         Publishing  2015-10-09  ...       1533.95             0\n",
       "1       Film & Video  2017-11-01  ...      30000.00             0\n",
       "2       Film & Video  2013-02-26  ...      45000.00             0\n",
       "3              Music  2012-04-16  ...       5000.00             0\n",
       "5               Food  2016-04-01  ...      50000.00             1\n",
       "...              ...         ...  ...           ...           ...\n",
       "378654          Food  2017-04-19  ...       6500.00             0\n",
       "378657  Film & Video  2011-07-19  ...       1500.00             0\n",
       "378658  Film & Video  2010-08-16  ...      15000.00             0\n",
       "378659    Technology  2016-02-13  ...      15000.00             0\n",
       "378660           Art  2011-08-16  ...       2000.00             0\n",
       "\n",
       "[331675 rows x 8 columns]"
      ]
     },
     "execution_count": 160,
     "metadata": {},
     "output_type": "execute_result"
    }
   ],
   "source": [
    "#Dropping the converted column\n",
    "ks18.drop(columns = ['state'], inplace = True)\n",
    "ks18"
   ]
  },
  {
   "cell_type": "code",
   "execution_count": 161,
   "id": "lTOAoN2cr1vx",
   "metadata": {
    "colab": {
     "base_uri": "https://localhost:8080/",
     "height": 363
    },
    "id": "lTOAoN2cr1vx",
    "outputId": "0f19f8cf-70ac-4f02-d207-ad2a36314771"
   },
   "outputs": [
    {
     "data": {
      "text/html": [
       "<div>\n",
       "<style scoped>\n",
       "    .dataframe tbody tr th:only-of-type {\n",
       "        vertical-align: middle;\n",
       "    }\n",
       "\n",
       "    .dataframe tbody tr th {\n",
       "        vertical-align: top;\n",
       "    }\n",
       "\n",
       "    .dataframe thead th {\n",
       "        text-align: right;\n",
       "    }\n",
       "</style>\n",
       "<table border=\"1\" class=\"dataframe\">\n",
       "  <thead>\n",
       "    <tr style=\"text-align: right;\">\n",
       "      <th></th>\n",
       "      <th>main_category</th>\n",
       "      <th>deadline</th>\n",
       "      <th>launched</th>\n",
       "      <th>backers</th>\n",
       "      <th>country</th>\n",
       "      <th>usd_pledged_real</th>\n",
       "      <th>usd_goal_real</th>\n",
       "      <th>state_output</th>\n",
       "    </tr>\n",
       "  </thead>\n",
       "  <tbody>\n",
       "    <tr>\n",
       "      <th>332926</th>\n",
       "      <td>8</td>\n",
       "      <td>2015-02-25</td>\n",
       "      <td>2015-01-21 20:02:41</td>\n",
       "      <td>2899</td>\n",
       "      <td>22</td>\n",
       "      <td>163118.84</td>\n",
       "      <td>15000.0</td>\n",
       "      <td>1</td>\n",
       "    </tr>\n",
       "    <tr>\n",
       "      <th>8025</th>\n",
       "      <td>10</td>\n",
       "      <td>2013-05-08</td>\n",
       "      <td>2013-04-08 19:08:45</td>\n",
       "      <td>38</td>\n",
       "      <td>22</td>\n",
       "      <td>2557.57</td>\n",
       "      <td>2000.0</td>\n",
       "      <td>1</td>\n",
       "    </tr>\n",
       "    <tr>\n",
       "      <th>38992</th>\n",
       "      <td>6</td>\n",
       "      <td>2013-03-11</td>\n",
       "      <td>2013-02-26 00:11:53</td>\n",
       "      <td>65</td>\n",
       "      <td>22</td>\n",
       "      <td>3925.00</td>\n",
       "      <td>1450.0</td>\n",
       "      <td>1</td>\n",
       "    </tr>\n",
       "    <tr>\n",
       "      <th>34078</th>\n",
       "      <td>8</td>\n",
       "      <td>2015-05-09</td>\n",
       "      <td>2015-04-09 11:13:10</td>\n",
       "      <td>5</td>\n",
       "      <td>22</td>\n",
       "      <td>663.00</td>\n",
       "      <td>5000.0</td>\n",
       "      <td>0</td>\n",
       "    </tr>\n",
       "    <tr>\n",
       "      <th>35015</th>\n",
       "      <td>12</td>\n",
       "      <td>2014-03-28</td>\n",
       "      <td>2014-02-21 01:51:05</td>\n",
       "      <td>3</td>\n",
       "      <td>22</td>\n",
       "      <td>105.00</td>\n",
       "      <td>7500.0</td>\n",
       "      <td>0</td>\n",
       "    </tr>\n",
       "    <tr>\n",
       "      <th>44251</th>\n",
       "      <td>10</td>\n",
       "      <td>2012-01-11</td>\n",
       "      <td>2011-12-10 08:12:25</td>\n",
       "      <td>104</td>\n",
       "      <td>22</td>\n",
       "      <td>5895.46</td>\n",
       "      <td>5000.0</td>\n",
       "      <td>1</td>\n",
       "    </tr>\n",
       "    <tr>\n",
       "      <th>84299</th>\n",
       "      <td>11</td>\n",
       "      <td>2013-08-04</td>\n",
       "      <td>2013-07-16 22:22:14</td>\n",
       "      <td>7</td>\n",
       "      <td>22</td>\n",
       "      <td>170.00</td>\n",
       "      <td>867.0</td>\n",
       "      <td>0</td>\n",
       "    </tr>\n",
       "    <tr>\n",
       "      <th>328879</th>\n",
       "      <td>9</td>\n",
       "      <td>2015-06-05</td>\n",
       "      <td>2015-06-01 23:21:20</td>\n",
       "      <td>0</td>\n",
       "      <td>22</td>\n",
       "      <td>0.00</td>\n",
       "      <td>4000.0</td>\n",
       "      <td>0</td>\n",
       "    </tr>\n",
       "    <tr>\n",
       "      <th>177490</th>\n",
       "      <td>7</td>\n",
       "      <td>2017-10-05</td>\n",
       "      <td>2017-09-02 01:47:41</td>\n",
       "      <td>4</td>\n",
       "      <td>22</td>\n",
       "      <td>350.00</td>\n",
       "      <td>1500.0</td>\n",
       "      <td>0</td>\n",
       "    </tr>\n",
       "    <tr>\n",
       "      <th>50482</th>\n",
       "      <td>7</td>\n",
       "      <td>2013-08-03</td>\n",
       "      <td>2013-07-08 04:19:08</td>\n",
       "      <td>256</td>\n",
       "      <td>22</td>\n",
       "      <td>30020.00</td>\n",
       "      <td>20000.0</td>\n",
       "      <td>1</td>\n",
       "    </tr>\n",
       "  </tbody>\n",
       "</table>\n",
       "</div>"
      ],
      "text/plain": [
       "        main_category    deadline  ... usd_goal_real  state_output\n",
       "332926              8  2015-02-25  ...       15000.0             1\n",
       "8025               10  2013-05-08  ...        2000.0             1\n",
       "38992               6  2013-03-11  ...        1450.0             1\n",
       "34078               8  2015-05-09  ...        5000.0             0\n",
       "35015              12  2014-03-28  ...        7500.0             0\n",
       "44251              10  2012-01-11  ...        5000.0             1\n",
       "84299              11  2013-08-04  ...         867.0             0\n",
       "328879              9  2015-06-05  ...        4000.0             0\n",
       "177490              7  2017-10-05  ...        1500.0             0\n",
       "50482               7  2013-08-03  ...       20000.0             1\n",
       "\n",
       "[10 rows x 8 columns]"
      ]
     },
     "execution_count": 161,
     "metadata": {},
     "output_type": "execute_result"
    }
   ],
   "source": [
    "#Label encoding the Country Column\n",
    "country_encoder= LabelEncoder().fit(ks18['country'])\n",
    "ks18['country'] = country_encoder.transform(ks18['country'])\n",
    "\n",
    "#Label Encoding the Main Category Column\n",
    "main_category_encoder= LabelEncoder().fit(ks18['main_category'])\n",
    "ks18['main_category'] = main_category_encoder.transform(ks18['main_category'])\n",
    "\n",
    "ks18.sample(10)"
   ]
  },
  {
   "cell_type": "code",
   "execution_count": 162,
   "id": "NhCS5FY36WRT",
   "metadata": {
    "id": "NhCS5FY36WRT"
   },
   "outputs": [],
   "source": [
    "#Parsing deadline and launched date for better results\n",
    "ks18.deadline = pd.to_datetime(ks18.deadline)\n",
    "ks18.launched = pd.to_datetime(ks18.launched)\n",
    "#Number of days the campaign was running\n",
    "ks18['duration(days)'] = (ks18['deadline'] - ks18.launched).dt.days \n",
    "#Deadline year of the campaign \n",
    "ks18['deadline(y)']=pd.to_datetime(ks18.deadline).dt.year \n",
    "#Deadline month of the campaign\n",
    "ks18['deadline(m)']=pd.to_datetime(ks18.deadline).dt.month \n",
    "#Launched year of the campaign\n",
    "ks18['launched(y)']=pd.to_datetime(ks18.launched).dt.year \n",
    "#Launched month of the campaign\n",
    "ks18['launched(m)']=pd.to_datetime(ks18.launched).dt.month"
   ]
  },
  {
   "cell_type": "code",
   "execution_count": 163,
   "id": "oHqOlamDFCH6",
   "metadata": {
    "colab": {
     "base_uri": "https://localhost:8080/",
     "height": 444
    },
    "id": "oHqOlamDFCH6",
    "outputId": "2cbce8ab-5764-4014-bdba-82157431e39c"
   },
   "outputs": [
    {
     "data": {
      "text/html": [
       "<div>\n",
       "<style scoped>\n",
       "    .dataframe tbody tr th:only-of-type {\n",
       "        vertical-align: middle;\n",
       "    }\n",
       "\n",
       "    .dataframe tbody tr th {\n",
       "        vertical-align: top;\n",
       "    }\n",
       "\n",
       "    .dataframe thead th {\n",
       "        text-align: right;\n",
       "    }\n",
       "</style>\n",
       "<table border=\"1\" class=\"dataframe\">\n",
       "  <thead>\n",
       "    <tr style=\"text-align: right;\">\n",
       "      <th></th>\n",
       "      <th>main_category</th>\n",
       "      <th>backers</th>\n",
       "      <th>country</th>\n",
       "      <th>usd_pledged_real</th>\n",
       "      <th>usd_goal_real</th>\n",
       "      <th>state_output</th>\n",
       "      <th>duration(days)</th>\n",
       "      <th>deadline(y)</th>\n",
       "      <th>deadline(m)</th>\n",
       "      <th>launched(y)</th>\n",
       "      <th>launched(m)</th>\n",
       "    </tr>\n",
       "  </thead>\n",
       "  <tbody>\n",
       "    <tr>\n",
       "      <th>0</th>\n",
       "      <td>12</td>\n",
       "      <td>0</td>\n",
       "      <td>9</td>\n",
       "      <td>0.0</td>\n",
       "      <td>1533.95</td>\n",
       "      <td>0</td>\n",
       "      <td>58</td>\n",
       "      <td>2015</td>\n",
       "      <td>10</td>\n",
       "      <td>2015</td>\n",
       "      <td>8</td>\n",
       "    </tr>\n",
       "    <tr>\n",
       "      <th>1</th>\n",
       "      <td>6</td>\n",
       "      <td>15</td>\n",
       "      <td>22</td>\n",
       "      <td>2421.0</td>\n",
       "      <td>30000.00</td>\n",
       "      <td>0</td>\n",
       "      <td>59</td>\n",
       "      <td>2017</td>\n",
       "      <td>11</td>\n",
       "      <td>2017</td>\n",
       "      <td>9</td>\n",
       "    </tr>\n",
       "    <tr>\n",
       "      <th>2</th>\n",
       "      <td>6</td>\n",
       "      <td>3</td>\n",
       "      <td>22</td>\n",
       "      <td>220.0</td>\n",
       "      <td>45000.00</td>\n",
       "      <td>0</td>\n",
       "      <td>44</td>\n",
       "      <td>2013</td>\n",
       "      <td>2</td>\n",
       "      <td>2013</td>\n",
       "      <td>1</td>\n",
       "    </tr>\n",
       "    <tr>\n",
       "      <th>3</th>\n",
       "      <td>10</td>\n",
       "      <td>1</td>\n",
       "      <td>22</td>\n",
       "      <td>1.0</td>\n",
       "      <td>5000.00</td>\n",
       "      <td>0</td>\n",
       "      <td>29</td>\n",
       "      <td>2012</td>\n",
       "      <td>4</td>\n",
       "      <td>2012</td>\n",
       "      <td>3</td>\n",
       "    </tr>\n",
       "    <tr>\n",
       "      <th>5</th>\n",
       "      <td>7</td>\n",
       "      <td>224</td>\n",
       "      <td>22</td>\n",
       "      <td>52375.0</td>\n",
       "      <td>50000.00</td>\n",
       "      <td>1</td>\n",
       "      <td>34</td>\n",
       "      <td>2016</td>\n",
       "      <td>4</td>\n",
       "      <td>2016</td>\n",
       "      <td>2</td>\n",
       "    </tr>\n",
       "    <tr>\n",
       "      <th>...</th>\n",
       "      <td>...</td>\n",
       "      <td>...</td>\n",
       "      <td>...</td>\n",
       "      <td>...</td>\n",
       "      <td>...</td>\n",
       "      <td>...</td>\n",
       "      <td>...</td>\n",
       "      <td>...</td>\n",
       "      <td>...</td>\n",
       "      <td>...</td>\n",
       "      <td>...</td>\n",
       "    </tr>\n",
       "    <tr>\n",
       "      <th>378654</th>\n",
       "      <td>7</td>\n",
       "      <td>4</td>\n",
       "      <td>22</td>\n",
       "      <td>154.0</td>\n",
       "      <td>6500.00</td>\n",
       "      <td>0</td>\n",
       "      <td>29</td>\n",
       "      <td>2017</td>\n",
       "      <td>4</td>\n",
       "      <td>2017</td>\n",
       "      <td>3</td>\n",
       "    </tr>\n",
       "    <tr>\n",
       "      <th>378657</th>\n",
       "      <td>6</td>\n",
       "      <td>5</td>\n",
       "      <td>22</td>\n",
       "      <td>155.0</td>\n",
       "      <td>1500.00</td>\n",
       "      <td>0</td>\n",
       "      <td>26</td>\n",
       "      <td>2011</td>\n",
       "      <td>7</td>\n",
       "      <td>2011</td>\n",
       "      <td>6</td>\n",
       "    </tr>\n",
       "    <tr>\n",
       "      <th>378658</th>\n",
       "      <td>6</td>\n",
       "      <td>1</td>\n",
       "      <td>22</td>\n",
       "      <td>20.0</td>\n",
       "      <td>15000.00</td>\n",
       "      <td>0</td>\n",
       "      <td>45</td>\n",
       "      <td>2010</td>\n",
       "      <td>8</td>\n",
       "      <td>2010</td>\n",
       "      <td>7</td>\n",
       "    </tr>\n",
       "    <tr>\n",
       "      <th>378659</th>\n",
       "      <td>13</td>\n",
       "      <td>6</td>\n",
       "      <td>22</td>\n",
       "      <td>200.0</td>\n",
       "      <td>15000.00</td>\n",
       "      <td>0</td>\n",
       "      <td>30</td>\n",
       "      <td>2016</td>\n",
       "      <td>2</td>\n",
       "      <td>2016</td>\n",
       "      <td>1</td>\n",
       "    </tr>\n",
       "    <tr>\n",
       "      <th>378660</th>\n",
       "      <td>0</td>\n",
       "      <td>17</td>\n",
       "      <td>22</td>\n",
       "      <td>524.0</td>\n",
       "      <td>2000.00</td>\n",
       "      <td>0</td>\n",
       "      <td>27</td>\n",
       "      <td>2011</td>\n",
       "      <td>8</td>\n",
       "      <td>2011</td>\n",
       "      <td>7</td>\n",
       "    </tr>\n",
       "  </tbody>\n",
       "</table>\n",
       "<p>331675 rows × 11 columns</p>\n",
       "</div>"
      ],
      "text/plain": [
       "        main_category  backers  country  ...  deadline(m)  launched(y)  launched(m)\n",
       "0                  12        0        9  ...           10         2015            8\n",
       "1                   6       15       22  ...           11         2017            9\n",
       "2                   6        3       22  ...            2         2013            1\n",
       "3                  10        1       22  ...            4         2012            3\n",
       "5                   7      224       22  ...            4         2016            2\n",
       "...               ...      ...      ...  ...          ...          ...          ...\n",
       "378654              7        4       22  ...            4         2017            3\n",
       "378657              6        5       22  ...            7         2011            6\n",
       "378658              6        1       22  ...            8         2010            7\n",
       "378659             13        6       22  ...            2         2016            1\n",
       "378660              0       17       22  ...            8         2011            7\n",
       "\n",
       "[331675 rows x 11 columns]"
      ]
     },
     "execution_count": 163,
     "metadata": {},
     "output_type": "execute_result"
    }
   ],
   "source": [
    "#Dropping the parsed columns\n",
    "ks18.drop(['deadline','launched'], axis = 1, inplace=True)\n",
    "ks18"
   ]
  },
  {
   "cell_type": "markdown",
   "id": "b_Vp3d44tnNi",
   "metadata": {
    "id": "b_Vp3d44tnNi"
   },
   "source": [
    "## Defining Dependent and Independent Variables"
   ]
  },
  {
   "cell_type": "code",
   "execution_count": 164,
   "id": "J6UgoprMrtNE",
   "metadata": {
    "id": "J6UgoprMrtNE"
   },
   "outputs": [],
   "source": [
    "#Defining X as dataframe for Independent features\n",
    "X = ks18.drop(\"state_output\",axis=1)\n",
    "#Defining y as Dependent Variable\n",
    "y = ks18[\"state_output\"] "
   ]
  },
  {
   "cell_type": "code",
   "execution_count": 165,
   "id": "RIhCLEbBtj-r",
   "metadata": {
    "colab": {
     "base_uri": "https://localhost:8080/"
    },
    "id": "RIhCLEbBtj-r",
    "outputId": "9ddbeec9-31be-4f86-ba48-ad0dc20b514f"
   },
   "outputs": [
    {
     "name": "stdout",
     "output_type": "stream",
     "text": [
      "        main_category  backers  country  ...  deadline(m)  launched(y)  launched(m)\n",
      "0                  12        0        9  ...           10         2015            8\n",
      "1                   6       15       22  ...           11         2017            9\n",
      "2                   6        3       22  ...            2         2013            1\n",
      "3                  10        1       22  ...            4         2012            3\n",
      "5                   7      224       22  ...            4         2016            2\n",
      "...               ...      ...      ...  ...          ...          ...          ...\n",
      "378654              7        4       22  ...            4         2017            3\n",
      "378657              6        5       22  ...            7         2011            6\n",
      "378658              6        1       22  ...            8         2010            7\n",
      "378659             13        6       22  ...            2         2016            1\n",
      "378660              0       17       22  ...            8         2011            7\n",
      "\n",
      "[331675 rows x 10 columns]\n"
     ]
    }
   ],
   "source": [
    "print(X)"
   ]
  },
  {
   "cell_type": "code",
   "execution_count": 166,
   "id": "_kDZVZNTt5sz",
   "metadata": {
    "colab": {
     "base_uri": "https://localhost:8080/"
    },
    "id": "_kDZVZNTt5sz",
    "outputId": "19581397-39cb-4905-88b3-db6069ae4972"
   },
   "outputs": [
    {
     "name": "stdout",
     "output_type": "stream",
     "text": [
      "0         0\n",
      "1         0\n",
      "2         0\n",
      "3         0\n",
      "5         1\n",
      "         ..\n",
      "378654    0\n",
      "378657    0\n",
      "378658    0\n",
      "378659    0\n",
      "378660    0\n",
      "Name: state_output, Length: 331675, dtype: int64\n"
     ]
    }
   ],
   "source": [
    "print(y)"
   ]
  },
  {
   "cell_type": "markdown",
   "id": "WQWgG9DKjNjw",
   "metadata": {
    "id": "WQWgG9DKjNjw"
   },
   "source": [
    "## Handling the Imbalance in the Data"
   ]
  },
  {
   "cell_type": "code",
   "execution_count": 167,
   "id": "wLU7fYp0wYb_",
   "metadata": {
    "id": "wLU7fYp0wYb_"
   },
   "outputs": [],
   "source": [
    "#Using smote to balance the data\n",
    "smt = SMOTE(random_state=0)\n",
    "X_train_sm , y_train_sm = smt.fit_resample(X, y)"
   ]
  },
  {
   "cell_type": "markdown",
   "id": "PkYyu-HxuGxW",
   "metadata": {
    "id": "PkYyu-HxuGxW"
   },
   "source": [
    "## Splitting the dataset into the Training set and Test set"
   ]
  },
  {
   "cell_type": "code",
   "execution_count": 168,
   "id": "2FUJ_chTwmtS",
   "metadata": {
    "id": "2FUJ_chTwmtS"
   },
   "outputs": [],
   "source": [
    "#Splitting the dataset into train and test set with the ratio of 80:20\n",
    "\n",
    "X_train, X_test, y_train, y_test = train_test_split(X_train_sm , y_train_sm, test_size = 0.2, random_state = 0)"
   ]
  },
  {
   "cell_type": "code",
   "execution_count": 169,
   "id": "Xhzqd9V7uNuP",
   "metadata": {
    "colab": {
     "base_uri": "https://localhost:8080/"
    },
    "id": "Xhzqd9V7uNuP",
    "outputId": "59e09cf0-b2fc-486c-f002-2c20831444de"
   },
   "outputs": [
    {
     "name": "stdout",
     "output_type": "stream",
     "text": [
      "        main_category  backers  country  ...  deadline(m)  launched(y)  launched(m)\n",
      "304928              6      316       22  ...            9         2010            8\n",
      "106264             13        0        9  ...           11         2015            9\n",
      "126876             10       45       22  ...           11         2014           10\n",
      "230179             10       10       22  ...            1         2013           12\n",
      "96953               6       12       22  ...           11         2013           10\n",
      "...               ...      ...      ...  ...          ...          ...          ...\n",
      "359783              2       52       22  ...            3         2013            2\n",
      "358083              9      102       12  ...            7         2013            6\n",
      "152315             10       10       22  ...            1         2011           11\n",
      "117952             12        7       22  ...            3         2014            2\n",
      "305711             12        1       22  ...           10         2014            9\n",
      "\n",
      "[316350 rows x 10 columns]\n"
     ]
    }
   ],
   "source": [
    "print(X_train)"
   ]
  },
  {
   "cell_type": "code",
   "execution_count": 170,
   "id": "hvklGcHnuWKf",
   "metadata": {
    "colab": {
     "base_uri": "https://localhost:8080/"
    },
    "id": "hvklGcHnuWKf",
    "outputId": "d80faf91-4534-441e-8c43-d3440a3dd303"
   },
   "outputs": [
    {
     "name": "stdout",
     "output_type": "stream",
     "text": [
      "304928    1\n",
      "106264    0\n",
      "126876    0\n",
      "230179    0\n",
      "96953     1\n",
      "         ..\n",
      "359783    1\n",
      "358083    1\n",
      "152315    0\n",
      "117952    0\n",
      "305711    0\n",
      "Name: state_output, Length: 316350, dtype: int64\n"
     ]
    }
   ],
   "source": [
    "print(y_train)"
   ]
  },
  {
   "cell_type": "code",
   "execution_count": 171,
   "id": "bVQxQ_aU6czM",
   "metadata": {
    "colab": {
     "base_uri": "https://localhost:8080/",
     "height": 619
    },
    "id": "bVQxQ_aU6czM",
    "outputId": "632eebee-ae08-49eb-b3d9-9a637254178a"
   },
   "outputs": [
    {
     "data": {
      "image/png": "[encoded data removed]",
      "text/plain": [
       "<Figure size 1152x648 with 2 Axes>"
      ]
     },
     "metadata": {
      "needs_background": "light"
     },
     "output_type": "display_data"
    }
   ],
   "source": [
    "# Checking Correlations Heatmap for X_train variables\n",
    "plt.subplots (figsize = (16,9))\n",
    "sns.heatmap (X_train.corr(), square = True, cbar = True, annot = True, \n",
    "             annot_kws = {'size': 10}, fmt = '0.2f',linewidths=.5, cmap='Blues')\n",
    "plt.show()"
   ]
  },
  {
   "cell_type": "code",
   "execution_count": 172,
   "id": "B1RexDZrA8GM",
   "metadata": {
    "colab": {
     "base_uri": "https://localhost:8080/"
    },
    "id": "B1RexDZrA8GM",
    "outputId": "9fe454ae-e29c-4da0-ccea-eb34d3fe5142"
   },
   "outputs": [
    {
     "data": {
      "text/plain": [
       "Index(['main_category', 'backers', 'country', 'usd_pledged_real',\n",
       "       'usd_goal_real', 'duration(days)', 'deadline(y)', 'deadline(m)',\n",
       "       'launched(m)'],\n",
       "      dtype='object')"
      ]
     },
     "execution_count": 172,
     "metadata": {},
     "output_type": "execute_result"
    }
   ],
   "source": [
    "#Selecting the columns based on correlation values. Eleminating the columns with higher correlation\n",
    "corr = X_train.corr()\n",
    "\n",
    "columns = np.full((corr.shape[0],), True, dtype=bool)\n",
    "for i in range(corr.shape[0]):\n",
    "    for j in range(i+1, corr.shape[0]):\n",
    "        if corr.iloc[i,j] >= 0.9:\n",
    "            if columns[j]:\n",
    "                columns[j] = False\n",
    "\n",
    "selected_columns = X_train.columns[columns]\n",
    "selected_columns"
   ]
  },
  {
   "cell_type": "code",
   "execution_count": 173,
   "id": "C-G0lJnmCnMo",
   "metadata": {
    "id": "C-G0lJnmCnMo"
   },
   "outputs": [],
   "source": [
    "#Selecting the columns which are required\n",
    "X_train = X_train[selected_columns]\n",
    "X_test = X_test[selected_columns]"
   ]
  },
  {
   "cell_type": "code",
   "execution_count": 174,
   "id": "9dEkcGN1CaSD",
   "metadata": {
    "colab": {
     "base_uri": "https://localhost:8080/",
     "height": 444
    },
    "id": "9dEkcGN1CaSD",
    "outputId": "d6e773f0-9801-47d8-b60d-ee2347465790"
   },
   "outputs": [
    {
     "data": {
      "text/html": [
       "<div>\n",
       "<style scoped>\n",
       "    .dataframe tbody tr th:only-of-type {\n",
       "        vertical-align: middle;\n",
       "    }\n",
       "\n",
       "    .dataframe tbody tr th {\n",
       "        vertical-align: top;\n",
       "    }\n",
       "\n",
       "    .dataframe thead th {\n",
       "        text-align: right;\n",
       "    }\n",
       "</style>\n",
       "<table border=\"1\" class=\"dataframe\">\n",
       "  <thead>\n",
       "    <tr style=\"text-align: right;\">\n",
       "      <th></th>\n",
       "      <th>main_category</th>\n",
       "      <th>backers</th>\n",
       "      <th>country</th>\n",
       "      <th>usd_pledged_real</th>\n",
       "      <th>usd_goal_real</th>\n",
       "      <th>duration(days)</th>\n",
       "      <th>deadline(y)</th>\n",
       "      <th>deadline(m)</th>\n",
       "      <th>launched(m)</th>\n",
       "    </tr>\n",
       "  </thead>\n",
       "  <tbody>\n",
       "    <tr>\n",
       "      <th>304928</th>\n",
       "      <td>6</td>\n",
       "      <td>316</td>\n",
       "      <td>22</td>\n",
       "      <td>22553.000000</td>\n",
       "      <td>20000.000000</td>\n",
       "      <td>35</td>\n",
       "      <td>2010</td>\n",
       "      <td>9</td>\n",
       "      <td>8</td>\n",
       "    </tr>\n",
       "    <tr>\n",
       "      <th>106264</th>\n",
       "      <td>13</td>\n",
       "      <td>0</td>\n",
       "      <td>9</td>\n",
       "      <td>0.000000</td>\n",
       "      <td>12110.570000</td>\n",
       "      <td>44</td>\n",
       "      <td>2015</td>\n",
       "      <td>11</td>\n",
       "      <td>9</td>\n",
       "    </tr>\n",
       "    <tr>\n",
       "      <th>126876</th>\n",
       "      <td>10</td>\n",
       "      <td>45</td>\n",
       "      <td>22</td>\n",
       "      <td>2618.000000</td>\n",
       "      <td>9000.000000</td>\n",
       "      <td>36</td>\n",
       "      <td>2014</td>\n",
       "      <td>11</td>\n",
       "      <td>10</td>\n",
       "    </tr>\n",
       "    <tr>\n",
       "      <th>230179</th>\n",
       "      <td>10</td>\n",
       "      <td>10</td>\n",
       "      <td>22</td>\n",
       "      <td>370.000000</td>\n",
       "      <td>2500.000000</td>\n",
       "      <td>29</td>\n",
       "      <td>2014</td>\n",
       "      <td>1</td>\n",
       "      <td>12</td>\n",
       "    </tr>\n",
       "    <tr>\n",
       "      <th>96953</th>\n",
       "      <td>6</td>\n",
       "      <td>12</td>\n",
       "      <td>22</td>\n",
       "      <td>1520.000000</td>\n",
       "      <td>1000.000000</td>\n",
       "      <td>29</td>\n",
       "      <td>2013</td>\n",
       "      <td>11</td>\n",
       "      <td>10</td>\n",
       "    </tr>\n",
       "    <tr>\n",
       "      <th>...</th>\n",
       "      <td>...</td>\n",
       "      <td>...</td>\n",
       "      <td>...</td>\n",
       "      <td>...</td>\n",
       "      <td>...</td>\n",
       "      <td>...</td>\n",
       "      <td>...</td>\n",
       "      <td>...</td>\n",
       "      <td>...</td>\n",
       "    </tr>\n",
       "    <tr>\n",
       "      <th>359783</th>\n",
       "      <td>2</td>\n",
       "      <td>52</td>\n",
       "      <td>22</td>\n",
       "      <td>3392.673943</td>\n",
       "      <td>1228.177143</td>\n",
       "      <td>29</td>\n",
       "      <td>2013</td>\n",
       "      <td>3</td>\n",
       "      <td>2</td>\n",
       "    </tr>\n",
       "    <tr>\n",
       "      <th>358083</th>\n",
       "      <td>9</td>\n",
       "      <td>102</td>\n",
       "      <td>12</td>\n",
       "      <td>3295.206182</td>\n",
       "      <td>2397.789962</td>\n",
       "      <td>29</td>\n",
       "      <td>2013</td>\n",
       "      <td>7</td>\n",
       "      <td>6</td>\n",
       "    </tr>\n",
       "    <tr>\n",
       "      <th>152315</th>\n",
       "      <td>10</td>\n",
       "      <td>10</td>\n",
       "      <td>22</td>\n",
       "      <td>210.000000</td>\n",
       "      <td>900.000000</td>\n",
       "      <td>48</td>\n",
       "      <td>2012</td>\n",
       "      <td>1</td>\n",
       "      <td>11</td>\n",
       "    </tr>\n",
       "    <tr>\n",
       "      <th>117952</th>\n",
       "      <td>12</td>\n",
       "      <td>7</td>\n",
       "      <td>22</td>\n",
       "      <td>495.000000</td>\n",
       "      <td>7000.000000</td>\n",
       "      <td>29</td>\n",
       "      <td>2014</td>\n",
       "      <td>3</td>\n",
       "      <td>2</td>\n",
       "    </tr>\n",
       "    <tr>\n",
       "      <th>305711</th>\n",
       "      <td>12</td>\n",
       "      <td>1</td>\n",
       "      <td>22</td>\n",
       "      <td>25.000000</td>\n",
       "      <td>7500.000000</td>\n",
       "      <td>29</td>\n",
       "      <td>2014</td>\n",
       "      <td>10</td>\n",
       "      <td>9</td>\n",
       "    </tr>\n",
       "  </tbody>\n",
       "</table>\n",
       "<p>316350 rows × 9 columns</p>\n",
       "</div>"
      ],
      "text/plain": [
       "        main_category  backers  country  ...  deadline(y)  deadline(m)  launched(m)\n",
       "304928              6      316       22  ...         2010            9            8\n",
       "106264             13        0        9  ...         2015           11            9\n",
       "126876             10       45       22  ...         2014           11           10\n",
       "230179             10       10       22  ...         2014            1           12\n",
       "96953               6       12       22  ...         2013           11           10\n",
       "...               ...      ...      ...  ...          ...          ...          ...\n",
       "359783              2       52       22  ...         2013            3            2\n",
       "358083              9      102       12  ...         2013            7            6\n",
       "152315             10       10       22  ...         2012            1           11\n",
       "117952             12        7       22  ...         2014            3            2\n",
       "305711             12        1       22  ...         2014           10            9\n",
       "\n",
       "[316350 rows x 9 columns]"
      ]
     },
     "execution_count": 174,
     "metadata": {},
     "output_type": "execute_result"
    }
   ],
   "source": [
    "X_train"
   ]
  },
  {
   "cell_type": "markdown",
   "id": "7hacpTdwjkfR",
   "metadata": {
    "id": "7hacpTdwjkfR"
   },
   "source": [
    "## Scaling the Features"
   ]
  },
  {
   "cell_type": "code",
   "execution_count": 175,
   "id": "e4qUcXVBuY6i",
   "metadata": {
    "id": "e4qUcXVBuY6i"
   },
   "outputs": [],
   "source": [
    "# Applying feature scaling\n",
    "sc = StandardScaler()\n",
    "X_train = sc.fit_transform(X_train)\n",
    "X_test = sc.transform(X_test)"
   ]
  },
  {
   "cell_type": "code",
   "execution_count": 176,
   "id": "POzv3VpIueUU",
   "metadata": {
    "colab": {
     "base_uri": "https://localhost:8080/"
    },
    "id": "POzv3VpIueUU",
    "outputId": "3ed0205c-2b0f-4b2c-a47d-9a25112d7fd3"
   },
   "outputs": [
    {
     "name": "stdout",
     "output_type": "stream",
     "text": [
      "[[-0.36427065  0.18458826  0.48288052 ... -2.18075288  0.71377661\n",
      "   0.51673361]\n",
      " [ 1.45328245 -0.14201672 -1.6681572  ...  0.44922339  1.33246645\n",
      "   0.82670382]\n",
      " [ 0.67433112 -0.09550652  0.48288052 ... -0.07677186  1.33246645\n",
      "   1.13667403]\n",
      " ...\n",
      " [ 0.67433112 -0.13168112  0.48288052 ... -1.12876237 -1.76098274\n",
      "   1.44664423]\n",
      " [ 1.193632   -0.1347818   0.48288052 ... -0.07677186 -1.1422929\n",
      "  -1.34308763]\n",
      " [ 1.193632   -0.14098316  0.48288052 ... -0.07677186  1.02312153\n",
      "   0.82670382]]\n"
     ]
    }
   ],
   "source": [
    "print(X_train)"
   ]
  },
  {
   "cell_type": "code",
   "execution_count": 177,
   "id": "egpv3xQPuguf",
   "metadata": {
    "colab": {
     "base_uri": "https://localhost:8080/"
    },
    "id": "egpv3xQPuguf",
    "outputId": "4d82bb19-44ea-4f6a-f877-9fc8322c8be4"
   },
   "outputs": [
    {
     "name": "stdout",
     "output_type": "stream",
     "text": [
      "[[ 0.67433112  0.06572885 -2.66094383 ...  0.44922339 -0.52360307\n",
      "  -0.72314722]\n",
      " [ 0.67433112 -0.14098316  0.48288052 ... -0.07677186 -1.76098274\n",
      "   1.75661444]\n",
      " [ 0.67433112 -0.13064756 -2.99187271 ...  0.97521864 -1.45163782\n",
      "  -1.65305784]\n",
      " ...\n",
      " [-0.6239211  -0.13581536  0.48288052 ...  0.44922339  0.71377661\n",
      "   0.51673361]\n",
      " [ 0.67433112 -0.1399496   0.48288052 ...  0.97521864 -0.21425815\n",
      "  -0.41317701]\n",
      " [-0.36427065  0.03988985  0.48288052 ... -1.12876237 -0.83294799\n",
      "  -1.03311742]]\n"
     ]
    }
   ],
   "source": [
    "print(X_test)"
   ]
  },
  {
   "cell_type": "markdown",
   "id": "Qy7zWRZbjq-A",
   "metadata": {
    "id": "Qy7zWRZbjq-A"
   },
   "source": [
    "# Model Implementation"
   ]
  },
  {
   "cell_type": "markdown",
   "id": "FtXnj867Q8Fm",
   "metadata": {
    "id": "FtXnj867Q8Fm"
   },
   "source": [
    "## Decision Tree Model"
   ]
  },
  {
   "cell_type": "code",
   "execution_count": 178,
   "id": "CGDQznhGFSTs",
   "metadata": {
    "colab": {
     "base_uri": "https://localhost:8080/"
    },
    "id": "CGDQznhGFSTs",
    "outputId": "1399d3ec-4ed2-4c70-b148-25be32e0fcb0"
   },
   "outputs": [
    {
     "name": "stdout",
     "output_type": "stream",
     "text": [
      "Param for GS {'max_depth': 10, 'min_samples_leaf': 5, 'min_samples_split': 2}\n",
      "CV score for GS 0.9993019106864477\n",
      "Train AUC ROC Score for GS:  0.9992983229806289\n",
      "Test AUC ROC Score for GS:  0.9989248746654351\n"
     ]
    }
   ],
   "source": [
    "#Checking the optimal number of parameters to avoid overfitting\n",
    "param_grid = {\n",
    "    \"max_depth\": [3,5,10,15,20,None],\n",
    "    \"min_samples_split\": [2,5,7,10],\n",
    "    \"min_samples_leaf\": [1,2,5]\n",
    "}\n",
    "\n",
    "clf = DecisionTreeClassifier(random_state=42)\n",
    "grid_cv = GridSearchCV(clf, param_grid, scoring=\"roc_auc\", n_jobs=-1, cv=3).fit(X_train, y_train)\n",
    "\n",
    "print(\"Param for GS\", grid_cv.best_params_)\n",
    "print(\"CV score for GS\", grid_cv.best_score_)\n",
    "print(\"Train AUC ROC Score for GS: \", roc_auc_score(y_train, grid_cv.predict(X_train)))\n",
    "print(\"Test AUC ROC Score for GS: \", roc_auc_score(y_test, grid_cv.predict(X_test)))"
   ]
  },
  {
   "cell_type": "code",
   "execution_count": 179,
   "id": "8-tucNwkujur",
   "metadata": {
    "colab": {
     "base_uri": "https://localhost:8080/"
    },
    "id": "8-tucNwkujur",
    "outputId": "fa74e968-a857-4cb2-deb6-804dac8c0051"
   },
   "outputs": [
    {
     "data": {
      "text/plain": [
       "DecisionTreeClassifier(max_depth=10, min_samples_leaf=2)"
      ]
     },
     "execution_count": 179,
     "metadata": {},
     "output_type": "execute_result"
    }
   ],
   "source": [
    "#Modeling with obtained parameters\n",
    "dt_model = DecisionTreeClassifier(max_depth=10, min_samples_leaf=2)\n",
    "\n",
    "#Fitting the Model\n",
    "dt_model.fit(X_train, y_train)"
   ]
  },
  {
   "cell_type": "code",
   "execution_count": 180,
   "id": "0O45v3NFRTmo",
   "metadata": {
    "id": "0O45v3NFRTmo"
   },
   "outputs": [],
   "source": [
    "#Predicting the test set values\n",
    "y_pred_dt = dt_model.predict(X_test)"
   ]
  },
  {
   "cell_type": "code",
   "execution_count": 181,
   "id": "bRYQa6M8wnmT",
   "metadata": {
    "id": "bRYQa6M8wnmT"
   },
   "outputs": [],
   "source": [
    "#Predicting the train set for calculating the accuracy\n",
    "y_pred_train_dt = dt_model.predict(X_train)"
   ]
  },
  {
   "cell_type": "code",
   "execution_count": 182,
   "id": "33-imOMHRUis",
   "metadata": {
    "colab": {
     "base_uri": "https://localhost:8080/"
    },
    "id": "33-imOMHRUis",
    "outputId": "6a941b5f-a056-4285-8c9a-9d61829e86db"
   },
   "outputs": [
    {
     "name": "stdout",
     "output_type": "stream",
     "text": [
      "Confusion Matrix: \n",
      " [[39454    68]\n",
      " [   23 39543]]\n",
      "Accuracy Score for Test Set:  0.9988493829658103\n"
     ]
    }
   ],
   "source": [
    "# Confusion Matrix for evaluating the model\n",
    "print(\"Confusion Matrix: \\n\", confusion_matrix(y_test, y_pred_dt))\n",
    "print(\"Accuracy Score for Test Set: \",accuracy_score(y_test, y_pred_dt)) "
   ]
  },
  {
   "cell_type": "code",
   "execution_count": 183,
   "id": "276a68q_xAFK",
   "metadata": {
    "colab": {
     "base_uri": "https://localhost:8080/"
    },
    "id": "276a68q_xAFK",
    "outputId": "63405436-3da1-4ccb-c2fd-f0ac98196e9b"
   },
   "outputs": [
    {
     "name": "stdout",
     "output_type": "stream",
     "text": [
      "Accuracy Score for Training Set:  0.9993835941204362\n"
     ]
    }
   ],
   "source": [
    "#Printing the accuracy for the training data\n",
    "print(\"Accuracy Score for Training Set: \",accuracy_score(y_train, y_pred_train_dt))"
   ]
  },
  {
   "cell_type": "code",
   "execution_count": 184,
   "id": "RuW264Y8DTdG",
   "metadata": {
    "colab": {
     "base_uri": "https://localhost:8080/"
    },
    "id": "RuW264Y8DTdG",
    "outputId": "6efde8bd-830a-4e6b-a2e3-e1d4a9f35d16"
   },
   "outputs": [
    {
     "data": {
      "text/plain": [
       "0.0006164058795637743"
      ]
     },
     "execution_count": 184,
     "metadata": {},
     "output_type": "execute_result"
    }
   ],
   "source": [
    "#Calculating the mean squared error for training set\n",
    "training_error = mean_squared_error(y_train, y_pred_train_dt)\n",
    "training_error"
   ]
  },
  {
   "cell_type": "code",
   "execution_count": 185,
   "id": "kR66jnpCD7tx",
   "metadata": {
    "colab": {
     "base_uri": "https://localhost:8080/"
    },
    "id": "kR66jnpCD7tx",
    "outputId": "41521ded-af5b-4352-a32b-ae1ed344ae40"
   },
   "outputs": [
    {
     "data": {
      "text/plain": [
       "0.0011506170341897633"
      ]
     },
     "execution_count": 185,
     "metadata": {},
     "output_type": "execute_result"
    }
   ],
   "source": [
    "#Calculating the mean squared error for test set\n",
    "test_error = mean_squared_error(y_test, y_pred_dt)\n",
    "test_error"
   ]
  },
  {
   "cell_type": "markdown",
   "id": "EVlhTAj2VBGp",
   "metadata": {
    "id": "EVlhTAj2VBGp"
   },
   "source": [
    "## XG Boost"
   ]
  },
  {
   "cell_type": "code",
   "execution_count": 186,
   "id": "S4NqC7BZRpyV",
   "metadata": {
    "colab": {
     "base_uri": "https://localhost:8080/"
    },
    "id": "S4NqC7BZRpyV",
    "outputId": "69e9a0b6-5763-4a97-d188-367bf9963c67"
   },
   "outputs": [
    {
     "data": {
      "text/plain": [
       "XGBClassifier()"
      ]
     },
     "execution_count": 186,
     "metadata": {},
     "output_type": "execute_result"
    }
   ],
   "source": [
    "#Creating an object of XGBoost Classifier\n",
    "xgbc = XGBClassifier()\n",
    "\n",
    "#Fitting the model on the training set\n",
    "xgbc.fit(X_train, y_train)"
   ]
  },
  {
   "cell_type": "code",
   "execution_count": 187,
   "id": "y7rwfGm5VRHD",
   "metadata": {
    "id": "y7rwfGm5VRHD"
   },
   "outputs": [],
   "source": [
    "#Predicting the test set\n",
    "y_pred_xgb = xgbc.predict(X_test)"
   ]
  },
  {
   "cell_type": "code",
   "execution_count": 188,
   "id": "FCP_tnfy0ayn",
   "metadata": {
    "id": "FCP_tnfy0ayn"
   },
   "outputs": [],
   "source": [
    "#Predicting for Training Set\n",
    "y_pred_train_xgb = xgbc.predict(X_train)"
   ]
  },
  {
   "cell_type": "code",
   "execution_count": 189,
   "id": "41lJKu-4Vx1W",
   "metadata": {
    "colab": {
     "base_uri": "https://localhost:8080/"
    },
    "id": "41lJKu-4Vx1W",
    "outputId": "d429fb53-4932-4cab-a832-ec982a37b802"
   },
   "outputs": [
    {
     "name": "stdout",
     "output_type": "stream",
     "text": [
      "Confusion Matrix: \n",
      " [[38899   623]\n",
      " [   15 39551]]\n",
      "Accuracy Score for Test Set:  0.9919330366174388\n"
     ]
    }
   ],
   "source": [
    "# Confusion Matrix for evaluating the model\n",
    "from sklearn.metrics import confusion_matrix, accuracy_score\n",
    "print(\"Confusion Matrix: \\n\", confusion_matrix(y_test, y_pred_xgb))\n",
    "print(\"Accuracy Score for Test Set: \",accuracy_score(y_test, y_pred_xgb))  "
   ]
  },
  {
   "cell_type": "code",
   "execution_count": 190,
   "id": "hRmqsIx602VW",
   "metadata": {
    "colab": {
     "base_uri": "https://localhost:8080/"
    },
    "id": "hRmqsIx602VW",
    "outputId": "fae9133f-da91-4ce1-9273-6031ecbf05d2"
   },
   "outputs": [
    {
     "name": "stdout",
     "output_type": "stream",
     "text": [
      "Accuracy Score for Training Set:  0.9923692113165797\n"
     ]
    }
   ],
   "source": [
    "print(\"Accuracy Score for Training Set: \",accuracy_score(y_train, y_pred_train_xgb))"
   ]
  },
  {
   "cell_type": "markdown",
   "id": "aKUORkTEueKl",
   "metadata": {
    "id": "aKUORkTEueKl"
   },
   "source": [
    "## K-Nearest Neighbors"
   ]
  },
  {
   "cell_type": "code",
   "execution_count": 191,
   "id": "juIP17pceAHi",
   "metadata": {
    "id": "juIP17pceAHi"
   },
   "outputs": [],
   "source": [
    "#Checking the optimal K value\n",
    "error_rate = []\n",
    "for i in range(1,15):\n",
    " knn = KNeighborsClassifier(n_neighbors=i)\n",
    " knn.fit(X_train,y_train)\n",
    " pred_i = knn.predict(X_test)\n",
    " error_rate.append(np.mean(pred_i != y_test))"
   ]
  },
  {
   "cell_type": "code",
   "execution_count": 192,
   "id": "VHzgWx_weIkT",
   "metadata": {
    "colab": {
     "base_uri": "https://localhost:8080/",
     "height": 421
    },
    "id": "VHzgWx_weIkT",
    "outputId": "18019e57-13b5-42a4-8545-c3259bb32edd"
   },
   "outputs": [
    {
     "name": "stdout",
     "output_type": "stream",
     "text": [
      "Minimum error:- 0.1996257333603075 at K = 1\n"
     ]
    },
    {
     "data": {
      "image/png": "[encoded data removed]",
      "text/plain": [
       "<Figure size 720x432 with 1 Axes>"
      ]
     },
     "metadata": {
      "needs_background": "light"
     },
     "output_type": "display_data"
    }
   ],
   "source": [
    "#Plotting the error rate for each K value\n",
    "plt.figure(figsize=(10,6))\n",
    "plt.plot(range(1,15),error_rate,color='blue', linestyle='dashed',marker='o',markerfacecolor='red', markersize=10)\n",
    "plt.title('Error Rate vs. K Value')\n",
    "plt.xlabel('K')\n",
    "plt.ylabel('Error Rate')\n",
    "req_k_value = error_rate.index(min(error_rate))+1\n",
    "print(\"Minimum error:-\",min(error_rate),\"at K =\",req_k_value)"
   ]
  },
  {
   "cell_type": "markdown",
   "id": "sObagiRuSNAC",
   "metadata": {
    "id": "sObagiRuSNAC"
   },
   "source": [
    "Commenting the code because it takes a lot of time."
   ]
  },
  {
   "cell_type": "code",
   "execution_count": 193,
   "id": "PJKmqmFYqJ2r",
   "metadata": {
    "id": "PJKmqmFYqJ2r"
   },
   "outputs": [],
   "source": [
    "# #List Hyperparameters to tune\n",
    "# from sklearn.model_selection import GridSearchCV\n",
    "# leaf_size = list(range(1,10))\n",
    "# n_neighbors = list(range(1,15))\n",
    "# p=[1,2]\n",
    "# #convert to dictionary\n",
    "# hyperparameters = dict(leaf_size=leaf_size, n_neighbors=n_neighbors, p=p)\n",
    "# #Making model\n",
    "# clf = GridSearchCV(knn, hyperparameters, cv=10)\n",
    "# best_model = clf.fit(X_train,y_train)\n",
    "# #Best Hyperparameters Value\n",
    "# print('Best leaf_size:', best_model.best_estimator_.get_params()['leaf_size'])\n",
    "# print('Best p:', best_model.best_estimator_.get_params()['p'])\n",
    "# print('Best n_neighbors:', best_model.best_estimator_.get_params()['n_neighbors'])\n",
    "# #Predict testing set\n",
    "# y_pred = best_model.predict(X_test)\n",
    "# #Check performance using accuracy\n",
    "# print(accuracy_score(y_test, y_pred))\n",
    "# #Check performance using ROC\n",
    "# roc_auc_score(y_test, y_pred)"
   ]
  },
  {
   "cell_type": "code",
   "execution_count": 241,
   "id": "TRNoVtExtb7v",
   "metadata": {
    "colab": {
     "base_uri": "https://localhost:8080/"
    },
    "id": "TRNoVtExtb7v",
    "outputId": "993d2db5-611b-4a1a-a1c7-60d04c3709e2"
   },
   "outputs": [
    {
     "data": {
      "text/plain": [
       "KNeighborsClassifier(n_neighbors=3)"
      ]
     },
     "execution_count": 241,
     "metadata": {},
     "output_type": "execute_result"
    }
   ],
   "source": [
    "#Creating the Object for KNN\n",
    "KNclassifier = KNeighborsClassifier(n_neighbors = 3)\n",
    "#Fitting the data\n",
    "KNclassifier.fit(X_train, y_train)\n"
   ]
  },
  {
   "cell_type": "code",
   "execution_count": 242,
   "id": "gIbMzJGJY7rM",
   "metadata": {
    "id": "gIbMzJGJY7rM"
   },
   "outputs": [],
   "source": [
    "#Predicting the Test Set\n",
    "y_pred_KN = KNclassifier.predict(X_test)"
   ]
  },
  {
   "cell_type": "code",
   "execution_count": 243,
   "id": "JN0ZPB-g1jC2",
   "metadata": {
    "id": "JN0ZPB-g1jC2"
   },
   "outputs": [],
   "source": [
    "#Predicting the Train set\n",
    "y_pred_train_KN = KNclassifier.predict(X_train)"
   ]
  },
  {
   "cell_type": "code",
   "execution_count": 244,
   "id": "GeXuq3n7tB0a",
   "metadata": {
    "colab": {
     "base_uri": "https://localhost:8080/"
    },
    "id": "GeXuq3n7tB0a",
    "outputId": "10f76069-4a0d-4520-9bcf-65b9ead61218"
   },
   "outputs": [
    {
     "name": "stdout",
     "output_type": "stream",
     "text": [
      "Confusion Matrix: \n",
      " [[31969  7553]\n",
      " [ 8409 31157]]\n",
      "Accuracy Score for Test Set:  0.7981741857171758\n"
     ]
    }
   ],
   "source": [
    "# Confusion Matrix for evaluating the model\n",
    "print(\"Confusion Matrix: \\n\", confusion_matrix(y_test, y_pred_KN))\n",
    "print(\"Accuracy Score for Test Set: \",accuracy_score(y_test, y_pred_KN))"
   ]
  },
  {
   "cell_type": "code",
   "execution_count": 245,
   "id": "FcFo1py42P79",
   "metadata": {
    "colab": {
     "base_uri": "https://localhost:8080/"
    },
    "id": "FcFo1py42P79",
    "outputId": "0e3d72ad-92dd-4f1f-9d5e-b3db3caa0f59"
   },
   "outputs": [
    {
     "name": "stdout",
     "output_type": "stream",
     "text": [
      "Accuracy Score for Training:  0.8977967441125336\n"
     ]
    }
   ],
   "source": [
    "#Printing accuracy for Training set\n",
    "print(\"Accuracy Score for Training: \",accuracy_score(y_train, y_pred_train_KN))"
   ]
  },
  {
   "cell_type": "markdown",
   "id": "kOPueuU0uZrZ",
   "metadata": {
    "id": "kOPueuU0uZrZ"
   },
   "source": [
    "## Logistic Regression"
   ]
  },
  {
   "cell_type": "code",
   "execution_count": 199,
   "id": "zO2iMbTKuWXl",
   "metadata": {
    "colab": {
     "base_uri": "https://localhost:8080/"
    },
    "id": "zO2iMbTKuWXl",
    "outputId": "80fb90a2-ece5-449a-a73d-8c1db98ff71e"
   },
   "outputs": [
    {
     "data": {
      "text/plain": [
       "LogisticRegression()"
      ]
     },
     "execution_count": 199,
     "metadata": {},
     "output_type": "execute_result"
    }
   ],
   "source": [
    "#Using Logistic Regression\n",
    "lr = LogisticRegression()\n",
    "\n",
    "#Training the model\n",
    "lr.fit(X_train, y_train)"
   ]
  },
  {
   "cell_type": "code",
   "execution_count": 200,
   "id": "Rj8bO24uwjJt",
   "metadata": {
    "id": "Rj8bO24uwjJt"
   },
   "outputs": [],
   "source": [
    "#Predicting the test set\n",
    "y_pred_LR = lr.predict(X_test)"
   ]
  },
  {
   "cell_type": "code",
   "execution_count": 201,
   "id": "9VSqDpUBwpX7",
   "metadata": {
    "id": "9VSqDpUBwpX7"
   },
   "outputs": [],
   "source": [
    "#Predicting the training set\n",
    "y_pred_train_lr = lr.predict(X_train)"
   ]
  },
  {
   "cell_type": "code",
   "execution_count": 202,
   "id": "4231InkYw30f",
   "metadata": {
    "colab": {
     "base_uri": "https://localhost:8080/"
    },
    "id": "4231InkYw30f",
    "outputId": "bf487f76-e0f7-4689-bd4a-f67dd91a0c03"
   },
   "outputs": [
    {
     "name": "stdout",
     "output_type": "stream",
     "text": [
      "Confusion Matrix: \n",
      " [[37367  2155]\n",
      " [ 4085 35481]]\n",
      "Accuracy Score for Test Set:  0.9211005462269877\n"
     ]
    }
   ],
   "source": [
    "# Confusion Matrix for evaluating the model\n",
    "print(\"Confusion Matrix: \\n\", confusion_matrix(y_test, y_pred_LR))\n",
    "print(\"Accuracy Score for Test Set: \",accuracy_score(y_test, y_pred_LR))"
   ]
  },
  {
   "cell_type": "code",
   "execution_count": 203,
   "id": "AvCot7UdAzEe",
   "metadata": {
    "colab": {
     "base_uri": "https://localhost:8080/"
    },
    "id": "AvCot7UdAzEe",
    "outputId": "893eec3b-1dcc-456e-f2cd-dbd9e5ec8ac8"
   },
   "outputs": [
    {
     "name": "stdout",
     "output_type": "stream",
     "text": [
      "Accuracy Score for Training:  0.9215868500079026\n"
     ]
    }
   ],
   "source": [
    "#Printing accuracy for training set\n",
    "print(\"Accuracy Score for Training: \",accuracy_score(y_train, y_pred_train_lr))"
   ]
  },
  {
   "cell_type": "markdown",
   "id": "L0e8Chgovfaf",
   "metadata": {
    "id": "L0e8Chgovfaf"
   },
   "source": [
    "## Random Forest Regression"
   ]
  },
  {
   "cell_type": "code",
   "execution_count": 204,
   "id": "ltqvFGGOqvp0",
   "metadata": {
    "colab": {
     "base_uri": "https://localhost:8080/"
    },
    "id": "ltqvFGGOqvp0",
    "outputId": "d703dbd7-6b76-4bf8-af15-220f9fa18570"
   },
   "outputs": [
    {
     "data": {
      "text/plain": [
       "RandomForestClassifier()"
      ]
     },
     "execution_count": 204,
     "metadata": {},
     "output_type": "execute_result"
    }
   ],
   "source": [
    "#Using Random Forest\n",
    "random_forest = RandomForestClassifier(n_estimators=100)\n",
    "random_forest.fit(X_train, y_train)"
   ]
  },
  {
   "cell_type": "code",
   "execution_count": 205,
   "id": "Pg22qZ--qxx_",
   "metadata": {
    "id": "Pg22qZ--qxx_"
   },
   "outputs": [],
   "source": [
    "#Predicting the values for test set\n",
    "y_pred_rf = random_forest.predict(X_test)"
   ]
  },
  {
   "cell_type": "code",
   "execution_count": 206,
   "id": "yCnUpmDEq3aI",
   "metadata": {
    "id": "yCnUpmDEq3aI"
   },
   "outputs": [],
   "source": [
    "#Predicting for train set\n",
    "y_pred_train_rf = random_forest.predict(X_train)"
   ]
  },
  {
   "cell_type": "code",
   "execution_count": 207,
   "id": "GZKwNlAcq-Jk",
   "metadata": {
    "colab": {
     "base_uri": "https://localhost:8080/"
    },
    "id": "GZKwNlAcq-Jk",
    "outputId": "1d3f8213-31a7-4977-ea71-dca7e11d8dd4"
   },
   "outputs": [
    {
     "name": "stdout",
     "output_type": "stream",
     "text": [
      "Confusion Matrix: \n",
      " [[39386   136]\n",
      " [    2 39564]]\n",
      "Accuracy Score for Test Set:  0.9982551082338661\n"
     ]
    }
   ],
   "source": [
    "#Confusion Matrix for evaluating the model\n",
    "print(\"Confusion Matrix: \\n\", confusion_matrix(y_test, y_pred_rf))\n",
    "print(\"Accuracy Score for Test Set: \",accuracy_score(y_test, y_pred_rf))"
   ]
  },
  {
   "cell_type": "code",
   "execution_count": 208,
   "id": "d5fNChk3rDm3",
   "metadata": {
    "colab": {
     "base_uri": "https://localhost:8080/"
    },
    "id": "d5fNChk3rDm3",
    "outputId": "b3ce8502-5afa-4937-ed3c-9d249e4a5f10"
   },
   "outputs": [
    {
     "name": "stdout",
     "output_type": "stream",
     "text": [
      "Accuracy Score for Training:  0.9999968389442073\n"
     ]
    }
   ],
   "source": [
    "#Printing accuracy for training set\n",
    "print(\"Accuracy Score for Training: \",accuracy_score(y_train, y_pred_train_rf))"
   ]
  },
  {
   "cell_type": "markdown",
   "id": "wsES-xEYwODC",
   "metadata": {
    "id": "wsES-xEYwODC"
   },
   "source": [
    "## Naive Bayes Classifier "
   ]
  },
  {
   "cell_type": "code",
   "execution_count": 209,
   "id": "tFyeYYYrwNcB",
   "metadata": {
    "colab": {
     "base_uri": "https://localhost:8080/"
    },
    "id": "tFyeYYYrwNcB",
    "outputId": "f05b6fe9-0802-4c14-db62-29268e766fd6"
   },
   "outputs": [
    {
     "data": {
      "text/plain": [
       "GaussianNB()"
      ]
     },
     "execution_count": 209,
     "metadata": {},
     "output_type": "execute_result"
    }
   ],
   "source": [
    "#Using Naive Bayes\n",
    "nb = GaussianNB()\n",
    "nb.fit(X_train, y_train)"
   ]
  },
  {
   "cell_type": "code",
   "execution_count": 211,
   "id": "HBMx5NV0rU0d",
   "metadata": {
    "id": "HBMx5NV0rU0d"
   },
   "outputs": [],
   "source": [
    "#Predicting the values for testing set\n",
    "y_pred_nb = nb.predict(X_test)"
   ]
  },
  {
   "cell_type": "code",
   "execution_count": 214,
   "id": "JXOf2e69rW4P",
   "metadata": {
    "id": "JXOf2e69rW4P"
   },
   "outputs": [],
   "source": [
    "#Predicting the values for train set\n",
    "y_pred_train_nb = nb.predict(X_train)"
   ]
  },
  {
   "cell_type": "code",
   "execution_count": 212,
   "id": "rHG9vFYAwtBR",
   "metadata": {
    "colab": {
     "base_uri": "https://localhost:8080/"
    },
    "id": "rHG9vFYAwtBR",
    "outputId": "f41302ca-00e3-46d6-cce7-78d81721bc3c"
   },
   "outputs": [
    {
     "name": "stdout",
     "output_type": "stream",
     "text": [
      "Confusion Matrix: \n",
      " [[38776   746]\n",
      " [25777 13789]]\n",
      "Accuracy Score:  0.664639389034999\n"
     ]
    }
   ],
   "source": [
    "#Confusion Matrix for evaluating the model\n",
    "print(\"Confusion Matrix: \\n\", confusion_matrix(y_test, y_pred_nb))\n",
    "print(\"Accuracy Score: \",accuracy_score(y_test, y_pred_nb))  "
   ]
  },
  {
   "cell_type": "code",
   "execution_count": 215,
   "id": "Skd_DpVIr6Hi",
   "metadata": {
    "colab": {
     "base_uri": "https://localhost:8080/"
    },
    "id": "Skd_DpVIr6Hi",
    "outputId": "fceb6b44-c6fa-4ee4-8304-9be34a8cc818"
   },
   "outputs": [
    {
     "name": "stdout",
     "output_type": "stream",
     "text": [
      "Accuracy Score for Training:  0.6654623044096728\n"
     ]
    }
   ],
   "source": [
    "#Printing accuracy for training set\n",
    "print(\"Accuracy Score for Training: \",accuracy_score(y_train, y_pred_train_nb))"
   ]
  },
  {
   "cell_type": "markdown",
   "id": "4K-W0CZHqL59",
   "metadata": {
    "id": "4K-W0CZHqL59"
   },
   "source": [
    "## AdaBoost Classifier"
   ]
  },
  {
   "cell_type": "code",
   "execution_count": 216,
   "id": "dSSbV6b-OfAs",
   "metadata": {
    "colab": {
     "base_uri": "https://localhost:8080/"
    },
    "id": "dSSbV6b-OfAs",
    "outputId": "90a2a949-a5d7-4549-b85f-92faa412f70c"
   },
   "outputs": [
    {
     "data": {
      "text/plain": [
       "AdaBoostClassifier(learning_rate=1)"
      ]
     },
     "execution_count": 216,
     "metadata": {},
     "output_type": "execute_result"
    }
   ],
   "source": [
    "#Creating an object\n",
    "abc = AdaBoostClassifier(n_estimators=50,\n",
    "                         learning_rate=1)\n",
    "# Train Adaboost Classifer\n",
    "abc.fit(X_train, y_train)\n"
   ]
  },
  {
   "cell_type": "code",
   "execution_count": 217,
   "id": "Q-xNnegHsFFM",
   "metadata": {
    "id": "Q-xNnegHsFFM"
   },
   "outputs": [],
   "source": [
    "#Predict the response for test dataset\n",
    "y_pred_abc = abc.predict(X_test)"
   ]
  },
  {
   "cell_type": "code",
   "execution_count": 218,
   "id": "73D6y7pbsMgR",
   "metadata": {
    "id": "73D6y7pbsMgR"
   },
   "outputs": [],
   "source": [
    "#Predict the response for train dataset\n",
    "y_pred_train_abc = abc.predict(X_train)"
   ]
  },
  {
   "cell_type": "code",
   "execution_count": 219,
   "id": "MVy4OxLXOoyn",
   "metadata": {
    "colab": {
     "base_uri": "https://localhost:8080/"
    },
    "id": "MVy4OxLXOoyn",
    "outputId": "358a8004-aaf2-4fdd-a325-47b9b12d4af5"
   },
   "outputs": [
    {
     "name": "stdout",
     "output_type": "stream",
     "text": [
      "Confusion Matrix: \n",
      " [[38139  1383]\n",
      " [  165 39401]]\n",
      "Accuracy Score:  0.9804268662755412\n"
     ]
    }
   ],
   "source": [
    "# Confusion Matrix for evaluating the model\n",
    "print(\"Confusion Matrix: \\n\", confusion_matrix(y_test, y_pred_abc))\n",
    "print(\"Accuracy Score: \",accuracy_score(y_test, y_pred_abc))  "
   ]
  },
  {
   "cell_type": "code",
   "execution_count": 220,
   "id": "-VedEOVgskr-",
   "metadata": {
    "colab": {
     "base_uri": "https://localhost:8080/"
    },
    "id": "-VedEOVgskr-",
    "outputId": "48bddb56-33cb-47dc-b4a3-236bf5c0b487"
   },
   "outputs": [
    {
     "name": "stdout",
     "output_type": "stream",
     "text": [
      "Accuracy Score for Training:  0.9807428481112692\n"
     ]
    }
   ],
   "source": [
    "#Printing accuracy for training set\n",
    "print(\"Accuracy Score for Training: \",accuracy_score(y_train, y_pred_train_abc))"
   ]
  },
  {
   "cell_type": "markdown",
   "id": "5wbmJfnDpN1Z",
   "metadata": {
    "id": "5wbmJfnDpN1Z"
   },
   "source": [
    "## Support Vector Machine"
   ]
  },
  {
   "cell_type": "markdown",
   "id": "VV8FNs1_S2Jy",
   "metadata": {
    "id": "VV8FNs1_S2Jy"
   },
   "source": [
    "Commented the code for SVM, as it takes time to execute."
   ]
  },
  {
   "cell_type": "code",
   "execution_count": 221,
   "id": "6_r0h3HQxWTA",
   "metadata": {
    "id": "6_r0h3HQxWTA"
   },
   "outputs": [],
   "source": [
    "# from sklearn.svm import SVC\n",
    "# from sklearn.model_selection import cross_validate\n",
    "# from sklearn.metrics import roc_auc_score, accuracy_score, precision_score, recall_score, f1_score"
   ]
  },
  {
   "cell_type": "code",
   "execution_count": 222,
   "id": "0BwjUvkUypvO",
   "metadata": {
    "id": "0BwjUvkUypvO"
   },
   "outputs": [],
   "source": [
    "# classifier = SVC(kernel = 'linear', random_state = 0)\n",
    "# classifier.fit(X_train, y_train)\n",
    "# y_pred = classifier.predict(X_test)"
   ]
  },
  {
   "cell_type": "code",
   "execution_count": 223,
   "id": "D4BrH3_5xemv",
   "metadata": {
    "id": "D4BrH3_5xemv"
   },
   "outputs": [],
   "source": [
    "# SVM = SVC(probability = True)\n",
    "# scoring = ['accuracy','precision_macro', 'recall_macro' , 'f1_weighted', 'roc_auc']\n",
    "# scores = cross_validate(SVM, X_train, y_train, scoring=scoring, cv=20)\n",
    "\n",
    "# sorted(scores.keys())\n",
    "# SVM_fit_time = scores['fit_time'].mean()\n",
    "# SVM_score_time = scores['score_time'].mean()\n",
    "# SVM_accuracy = scores['test_accuracy'].mean()\n",
    "# SVM_precision = scores['test_precision_macro'].mean()\n",
    "# SVM_recall = scores['test_recall_macro'].mean()\n",
    "# SVM_f1 = scores['test_f1_weighted'].mean()\n",
    "# SVM_roc = scores['test_roc_auc'].mean()"
   ]
  },
  {
   "cell_type": "markdown",
   "id": "phgl-r2mtktO",
   "metadata": {
    "id": "phgl-r2mtktO"
   },
   "source": [
    "# Evaluation Metrics"
   ]
  },
  {
   "cell_type": "markdown",
   "id": "Za49BJ-JTNS2",
   "metadata": {
    "id": "Za49BJ-JTNS2"
   },
   "source": [
    "## Accuracy"
   ]
  },
  {
   "cell_type": "code",
   "execution_count": 224,
   "id": "SEEVZXuqtpyv",
   "metadata": {
    "colab": {
     "base_uri": "https://localhost:8080/"
    },
    "id": "SEEVZXuqtpyv",
    "outputId": "1397ebd4-6cd6-4a42-bb7b-ff5fe68a98f3"
   },
   "outputs": [
    {
     "name": "stdout",
     "output_type": "stream",
     "text": [
      "Accuracy Score for KNN:  0.8003742666396925\n",
      "Accuracy Score for Logistic Regression:  0.9211005462269877\n",
      "Accuracy Score for AdaBoost Classifier:  0.9804268662755412\n",
      "Accuracy Score for Decision Tree Classifier:  0.9988493829658103\n"
     ]
    }
   ],
   "source": [
    "print(\"Accuracy Score for KNN: \",accuracy_score(y_test, y_pred_KN))\n",
    "print(\"Accuracy Score for Logistic Regression: \",accuracy_score(y_test, y_pred_LR))\n",
    "print(\"Accuracy Score for AdaBoost Classifier: \",accuracy_score(y_test, y_pred_abc)) \n",
    "print(\"Accuracy Score for Decision Tree Classifier: \",accuracy_score(y_test, y_pred_dt)) "
   ]
  },
  {
   "cell_type": "markdown",
   "id": "_IonZcvATRl4",
   "metadata": {
    "id": "_IonZcvATRl4"
   },
   "source": [
    "## Confusion Matrix"
   ]
  },
  {
   "cell_type": "code",
   "execution_count": 225,
   "id": "CsNxxw2ivSH3",
   "metadata": {
    "id": "CsNxxw2ivSH3"
   },
   "outputs": [],
   "source": [
    "#Function to calculate the confusion matrix and plot it for each model.\n",
    "\n",
    "def get_conf_matrix(y_pred, model_name):\n",
    "  conmat = confusion_matrix(y_test, y_pred)\n",
    "  val = np.mat(conmat) \n",
    "\n",
    "  classnames = list(set(y_train))\n",
    "\n",
    "  df_cm = pd.DataFrame(\n",
    "\n",
    "          val, index=classnames, columns=classnames, \n",
    "\n",
    "      )\n",
    "\n",
    "  print(df_cm)\n",
    "\n",
    "  plt.figure()\n",
    "\n",
    "  heatmap = sns.heatmap(df_cm, annot=True, cmap=\"Blues\")\n",
    "\n",
    "  heatmap.yaxis.set_ticklabels(heatmap.yaxis.get_ticklabels(), rotation=0, ha='right')\n",
    "\n",
    "  heatmap.xaxis.set_ticklabels(heatmap.xaxis.get_ticklabels(), rotation=45, ha='right')\n",
    "\n",
    "  plt.ylabel('True label')\n",
    "\n",
    "  plt.xlabel('Predicted label')\n",
    "\n",
    "  plt.title(model_name+' Model Results')\n",
    "\n",
    "  plt.show()"
   ]
  },
  {
   "cell_type": "code",
   "execution_count": 226,
   "id": "GQbOjL6uwLGd",
   "metadata": {
    "colab": {
     "base_uri": "https://localhost:8080/",
     "height": 349
    },
    "id": "GQbOjL6uwLGd",
    "outputId": "f46401ae-8c2e-4a8d-ec19-67d443639ac9"
   },
   "outputs": [
    {
     "name": "stdout",
     "output_type": "stream",
     "text": [
      "       0      1\n",
      "0  39454     68\n",
      "1     23  39543\n"
     ]
    },
    {
     "data": {
      "image/png": "[encoded data removed]",
      "text/plain": [
       "<Figure size 432x288 with 2 Axes>"
      ]
     },
     "metadata": {
      "needs_background": "light"
     },
     "output_type": "display_data"
    }
   ],
   "source": [
    "#Confusion Matrix for Decision Tree\n",
    "get_conf_matrix(y_pred_dt, 'Decision Tree ')"
   ]
  },
  {
   "cell_type": "code",
   "execution_count": 227,
   "id": "zN4YCtIhwTgI",
   "metadata": {
    "colab": {
     "base_uri": "https://localhost:8080/",
     "height": 349
    },
    "id": "zN4YCtIhwTgI",
    "outputId": "386a46ce-5074-4e38-fad3-6136c81f3d1b"
   },
   "outputs": [
    {
     "name": "stdout",
     "output_type": "stream",
     "text": [
      "       0      1\n",
      "0  38139   1383\n",
      "1    165  39401\n"
     ]
    },
    {
     "data": {
      "image/png": "[encoded data removed]",
      "text/plain": [
       "<Figure size 432x288 with 2 Axes>"
      ]
     },
     "metadata": {
      "needs_background": "light"
     },
     "output_type": "display_data"
    }
   ],
   "source": [
    "#Confusion Matrix for ADABoost Classifier\n",
    "get_conf_matrix(y_pred_abc, 'ADABoost Classifier ')"
   ]
  },
  {
   "cell_type": "code",
   "execution_count": 228,
   "id": "lnwdaGIewZTq",
   "metadata": {
    "colab": {
     "base_uri": "https://localhost:8080/",
     "height": 349
    },
    "id": "lnwdaGIewZTq",
    "outputId": "3a5a3bb7-f9cb-4e96-84e9-c083e76556e4"
   },
   "outputs": [
    {
     "name": "stdout",
     "output_type": "stream",
     "text": [
      "       0      1\n",
      "0  31980   7542\n",
      "1   8246  31320\n"
     ]
    },
    {
     "data": {
      "image/png": "[encoded data removed]",
      "text/plain": [
       "<Figure size 432x288 with 2 Axes>"
      ]
     },
     "metadata": {
      "needs_background": "light"
     },
     "output_type": "display_data"
    }
   ],
   "source": [
    "#Confusion Matrix for KNN\n",
    "get_conf_matrix(y_pred_KN, 'KNN ')"
   ]
  },
  {
   "cell_type": "code",
   "execution_count": 229,
   "id": "lZ4DjyA4wfit",
   "metadata": {
    "colab": {
     "base_uri": "https://localhost:8080/",
     "height": 349
    },
    "id": "lZ4DjyA4wfit",
    "outputId": "f0698b43-fa99-44eb-8f40-9fb9fb7a37d9"
   },
   "outputs": [
    {
     "name": "stdout",
     "output_type": "stream",
     "text": [
      "       0      1\n",
      "0  37367   2155\n",
      "1   4085  35481\n"
     ]
    },
    {
     "data": {
      "image/png": "[encoded data removed]",
      "text/plain": [
       "<Figure size 432x288 with 2 Axes>"
      ]
     },
     "metadata": {
      "needs_background": "light"
     },
     "output_type": "display_data"
    }
   ],
   "source": [
    "#Confusion Matrix for Logistic Regression\n",
    "get_conf_matrix(y_pred_LR, 'Logistic Regression ')"
   ]
  },
  {
   "cell_type": "markdown",
   "id": "GeD3Oi84Tzmw",
   "metadata": {
    "id": "GeD3Oi84Tzmw"
   },
   "source": [
    "## F1, Recall, Precision Score"
   ]
  },
  {
   "cell_type": "code",
   "execution_count": 232,
   "id": "2X03Z7kxwt2z",
   "metadata": {
    "id": "2X03Z7kxwt2z"
   },
   "outputs": [],
   "source": [
    "#Function to get the different scores for each model\n",
    "def get_scores(y_prediction):\n",
    "  f1 = f1_score(y_test, y_prediction)\n",
    "  recall = recall_score(y_test, y_prediction)\n",
    "  precision = precision_score(y_test, y_prediction)\n",
    "  return f1, recall, precision"
   ]
  },
  {
   "cell_type": "code",
   "execution_count": 233,
   "id": "VcYScxNmyHcY",
   "metadata": {
    "colab": {
     "base_uri": "https://localhost:8080/"
    },
    "id": "VcYScxNmyHcY",
    "outputId": "29f48fa9-34de-4b72-b170-835f51d10507"
   },
   "outputs": [
    {
     "name": "stdout",
     "output_type": "stream",
     "text": [
      "For Decision Tree : \n",
      "\n",
      "F1 score: 0.9988506763327735\n",
      "Recall: 0.9994186928170652\n",
      "Precision: 0.998283305142511\n"
     ]
    }
   ],
   "source": [
    "#Scores for Decision Tree\n",
    "f1_dt, recall_dt, precision_dt = get_scores(y_pred_dt)\n",
    "print('For Decision Tree : \\n')\n",
    "print ('F1 score:',f1_dt )\n",
    "print ('Recall:',recall_dt)\n",
    "print ('Precision:', precision_dt)"
   ]
  },
  {
   "cell_type": "code",
   "execution_count": 234,
   "id": "ZlcEk83hyH-I",
   "metadata": {
    "colab": {
     "base_uri": "https://localhost:8080/"
    },
    "id": "ZlcEk83hyH-I",
    "outputId": "4ce518b3-a666-4988-ab38-f605c635e0fc"
   },
   "outputs": [
    {
     "name": "stdout",
     "output_type": "stream",
     "text": [
      "For Adaptive Boosting : \n",
      "\n",
      "F1 score: 0.9807342874922216\n",
      "Recall: 0.9958297528180762\n",
      "Precision: 0.9660896429972539\n"
     ]
    }
   ],
   "source": [
    "#Scores for ADABoost Classifier\n",
    "f1_abc, recall_abc, precision_abc = get_scores(y_pred_abc)\n",
    "print('For Adaptive Boosting : \\n')\n",
    "print ('F1 score:',f1_abc )\n",
    "print ('Recall:',recall_abc)\n",
    "print ('Precision:', precision_abc)"
   ]
  },
  {
   "cell_type": "code",
   "execution_count": 235,
   "id": "k6eokBtHyIcV",
   "metadata": {
    "colab": {
     "base_uri": "https://localhost:8080/"
    },
    "id": "k6eokBtHyIcV",
    "outputId": "aeedf607-63e8-472f-8a1a-e1b2712b6db2"
   },
   "outputs": [
    {
     "name": "stdout",
     "output_type": "stream",
     "text": [
      "For KNN : \n",
      "\n",
      "F1 score: 0.7986943438567858\n",
      "Recall: 0.7915887378051862\n",
      "Precision: 0.8059286706808708\n"
     ]
    }
   ],
   "source": [
    "#Scores for KNN\n",
    "f1_KN, recall_KN, precision_KN = get_scores(y_pred_KN)\n",
    "print('For KNN : \\n')\n",
    "print ('F1 score:',f1_KN)\n",
    "print ('Recall:',recall_KN)\n",
    "print ('Precision:', precision_KN)"
   ]
  },
  {
   "cell_type": "code",
   "execution_count": 236,
   "id": "BKpxiXOOyI8u",
   "metadata": {
    "colab": {
     "base_uri": "https://localhost:8080/"
    },
    "id": "BKpxiXOOyI8u",
    "outputId": "46c7926e-8036-49a0-dfda-bb6a6ad17e66"
   },
   "outputs": [
    {
     "name": "stdout",
     "output_type": "stream",
     "text": [
      "For Logistic Regression : \n",
      "\n",
      "F1 score: 0.9191730784176576\n",
      "Recall: 0.8967547894657029\n",
      "Precision: 0.9427409926665958\n"
     ]
    }
   ],
   "source": [
    "#Scores for Logistic Regression\n",
    "f1_LR, recall_LR, precision_LR = get_scores(y_pred_LR)\n",
    "print('For Logistic Regression : \\n')\n",
    "print ('F1 score:',f1_LR)\n",
    "print ('Recall:',recall_LR)\n",
    "print ('Precision:', precision_LR)"
   ]
  },
  {
   "cell_type": "markdown",
   "id": "Pws9DMKOUwal",
   "metadata": {
    "id": "Pws9DMKOUwal"
   },
   "source": [
    "## Plot for Accuracy"
   ]
  },
  {
   "cell_type": "code",
   "execution_count": 237,
   "id": "uUW133atB7fU",
   "metadata": {
    "colab": {
     "base_uri": "https://localhost:8080/",
     "height": 295
    },
    "id": "uUW133atB7fU",
    "outputId": "b0c7ec2f-6e2e-4717-a4af-48919b5ff727"
   },
   "outputs": [
    {
     "data": {
      "image/png": "[encoded data removed]",
      "text/plain": [
       "<Figure size 432x288 with 1 Axes>"
      ]
     },
     "metadata": {
      "needs_background": "light"
     },
     "output_type": "display_data"
    }
   ],
   "source": [
    "#Plot for Accuracy\n",
    "x = ['KNN','Logistic Regression','ADABoost','Decision Tree']\n",
    "y = [accuracy_KN,accuracy_LR,accuracy_abc,accuracy_dt]\n",
    "\n",
    "plt.plot(x,y, marker = 'o' )\n",
    "plt.xlabel('Models')\n",
    "plt.ylabel('Accuracy Score')\n",
    "plt.title('Accuracy Score Comparison for Different Models')\n",
    "plt.show()"
   ]
  },
  {
   "cell_type": "markdown",
   "id": "cPTf4xhyU3gU",
   "metadata": {
    "id": "cPTf4xhyU3gU"
   },
   "source": [
    "## Plot for Precision"
   ]
  },
  {
   "cell_type": "code",
   "execution_count": 238,
   "id": "T4Cow3c5ESpx",
   "metadata": {
    "colab": {
     "base_uri": "https://localhost:8080/",
     "height": 295
    },
    "id": "T4Cow3c5ESpx",
    "outputId": "5781625d-6544-4034-def9-d44a37a92a1d"
   },
   "outputs": [
    {
     "data": {
      "image/png": "[encoded data removed]",
      "text/plain": [
       "<Figure size 432x288 with 1 Axes>"
      ]
     },
     "metadata": {
      "needs_background": "light"
     },
     "output_type": "display_data"
    }
   ],
   "source": [
    "#Plot for Precision\n",
    "x = ['KNN','Logistic Regression','ADABoost','Decision Tree']\n",
    "y = [precision_KN, precision_LR, precision_abc, precision_dt]\n",
    "\n",
    "plt.plot(x,y, marker = 'o' )\n",
    "plt.xlabel('Models')\n",
    "plt.ylabel('Precision Score')\n",
    "plt.title('Precision Score Comparison for Different Models')\n",
    "plt.show()"
   ]
  },
  {
   "cell_type": "markdown",
   "id": "ln0RuETjU9X9",
   "metadata": {
    "id": "ln0RuETjU9X9"
   },
   "source": [
    "## Plot for Recall"
   ]
  },
  {
   "cell_type": "code",
   "execution_count": 239,
   "id": "6QQtqnxOEq5U",
   "metadata": {
    "colab": {
     "base_uri": "https://localhost:8080/",
     "height": 295
    },
    "id": "6QQtqnxOEq5U",
    "outputId": "4ae2327e-62a4-44de-ab85-0fd87a98a2e4"
   },
   "outputs": [
    {
     "data": {
      "image/png": "[encoded data removed]",
      "text/plain": [
       "<Figure size 432x288 with 1 Axes>"
      ]
     },
     "metadata": {
      "needs_background": "light"
     },
     "output_type": "display_data"
    }
   ],
   "source": [
    "#Plot for Recall\n",
    "x = ['KNN','Logistic Regression','ADABoost','Decision Tree']\n",
    "y = [recall_KN, recall_LR, recall_abc, recall_dt]\n",
    "\n",
    "plt.plot(x,y, marker = 'o' )\n",
    "plt.xlabel('Models')\n",
    "plt.ylabel('Recall Score')\n",
    "plt.title('Recall Score Comparison for Different Models')\n",
    "plt.show()"
   ]
  },
  {
   "cell_type": "markdown",
   "id": "i8UIjKsmVBzH",
   "metadata": {
    "id": "i8UIjKsmVBzH"
   },
   "source": [
    "## Plot for F1 Score"
   ]
  },
  {
   "cell_type": "code",
   "execution_count": 240,
   "id": "yDiGgvctE5j0",
   "metadata": {
    "colab": {
     "base_uri": "https://localhost:8080/",
     "height": 295
    },
    "id": "yDiGgvctE5j0",
    "outputId": "602d59c6-b926-4f88-f781-80b5f52de629"
   },
   "outputs": [
    {
     "data": {
      "image/png": "[encoded data removed]",
      "text/plain": [
       "<Figure size 432x288 with 1 Axes>"
      ]
     },
     "metadata": {
      "needs_background": "light"
     },
     "output_type": "display_data"
    }
   ],
   "source": [
    "#Plot for F1\n",
    "x = ['KNN','Logistic Regression','ADABoost','Decision Tree']\n",
    "y = [f1_KN, f1_LR, f1_abc, f1_dt]\n",
    "\n",
    "plt.plot(x,y, marker = 'o' )\n",
    "plt.xlabel('Models')\n",
    "plt.ylabel('F1 Score')\n",
    "plt.title('F1 Score Comparison for Different Models')\n",
    "plt.show()"
   ]
  }
 ],
 "metadata": {
  "colab": {
   "collapsed_sections": [],
   "name": "Team_Voodoo_PythonFile.ipynb",
   "provenance": [],
   "toc_visible": true
  },
  "kernelspec": {
   "display_name": "Python 3",
   "language": "python",
   "name": "python3"
  },
  "language_info": {
   "codemirror_mode": {
    "name": "ipython",
    "version": 3
   },
   "file_extension": ".py",
   "mimetype": "text/x-python",
   "name": "python",
   "nbconvert_exporter": "python",
   "pygments_lexer": "ipython3",
   "version": "3.8.8"
  }
 },
 "nbformat": 4,
 "nbformat_minor": 5
}
